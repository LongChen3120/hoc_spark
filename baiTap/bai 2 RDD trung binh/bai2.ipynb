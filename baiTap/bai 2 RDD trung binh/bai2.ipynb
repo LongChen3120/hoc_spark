{
 "cells": [
  {
   "cell_type": "markdown",
   "metadata": {},
   "source": [
    "### cho tập dữ liệu mẫu như dưới. dùng RDD giải các bài toán sau:\n",
    "1. Tính tổng số tiền mua hàng của tất cả các khách hàng.\n",
    "2. Tính tổng số tiền mua hàng của các khách hàng trong từng thành phố.\n",
    "3. Tìm khách hàng có số tiền mua hàng cao nhất và thấp nhất.\n",
    "4. Tính tuổi trung bình của các khách hàng.\n",
    "5. Tính tuổi trung bình của các khách hàng theo giới tính.\n",
    "6. Tìm các khách hàng có tuổi lớn hơn 30 và số tiền mua hàng lớn hơn 400.\n",
    "7. Sắp xếp danh sách khách hàng theo số tiền mua hàng giảm dần.\n",
    "8. Đếm số lượng khách hàng trong mỗi thành phố.\n",
    "9. Đếm số lượng khách hàng theo từng giới tính.\n",
    "10. Tìm các khách hàng có số tiền mua hàng lớn hơn 500.\n",
    "11. Tính số tiền mua hàng trung bình của các khách hàng trong mỗi thành phố.\n",
    "12. Tìm khách hàng trẻ nhất và già nhất trong tập dữ liệu.\n",
    "13. Tính tổng số tiền mua hàng của các khách hàng có tuổi từ 25 đến 35.\n",
    "14. Tính tổng số tiền mua hàng của các khách hàng theo từng giới tính.\n",
    "15. Đếm số lượng khách hàng có số tiền mua hàng lớn hơn 300 trong mỗi thành phố.\n",
    "16. Tìm các khách hàng có tên bắt đầu bằng chữ \"J\".\n",
    "17. Tính số tiền mua hàng trung bình của các khách hàng có tuổi lớn hơn 40.\n",
    "18. Tạo một danh sách các thành phố khác nhau có trong tập dữ liệu.\n",
    "19. Tính tổng số tiền mua hàng của các khách hàng có tên chứa chữ \"a\".\n",
    "20. Tính tổng số tiền mua hàng của các khách hàng trong từng thành phố và sắp xếp các thành phố theo tổng số tiền mua hàng giảm dần."
   ]
  },
  {
   "cell_type": "code",
   "execution_count": 31,
   "metadata": {},
   "outputs": [],
   "source": [
    "column = [\"id\" , \"name\", \"age\", \"gender\", \"purchase_amount\", \"location\"]\n",
    "data = [\n",
    "    \"1,John Doe,28,Male,300,New York\",\n",
    "    \"2,Jane Smith,34,Female,450,Los Angeles\",\n",
    "    \"3,Jim Brown,45,Male,700,Chicago\",\n",
    "    \"4,Lucy Black,23,Female,120,New York\",\n",
    "    \"5,Jack White,31,Male,350,Los Angeles\",\n",
    "    \"6,Emily Green,27,Female,200,Chicago\",\n",
    "    \"7,James Blue,36,Male,400,New York\",\n",
    "    \"8,Olivia Yellow,22,Female,300,Los Angeles\",\n",
    "    \"9,Robert Red,50,Male,900,Chicago\",\n",
    "    \"10,Mary Purple,29,Female,600,New York\"\n",
    "]\n"
   ]
  },
  {
   "cell_type": "markdown",
   "metadata": {},
   "source": [
    "### tao sc"
   ]
  },
  {
   "cell_type": "code",
   "execution_count": 1,
   "metadata": {},
   "outputs": [],
   "source": [
    "from pyspark.sql import SparkSession\n",
    "ss = SparkSession.builder \\\n",
    "    .appName(\"thuc hanh RDD\") \\\n",
    "    .master(\"local[*]\") \\\n",
    "    .getOrCreate()"
   ]
  },
  {
   "cell_type": "code",
   "execution_count": 2,
   "metadata": {},
   "outputs": [],
   "source": [
    "sc = ss.sparkContext"
   ]
  },
  {
   "cell_type": "markdown",
   "metadata": {},
   "source": [
    "### Load data"
   ]
  },
  {
   "cell_type": "code",
   "execution_count": 32,
   "metadata": {},
   "outputs": [],
   "source": [
    "rdd = sc.parallelize(data)"
   ]
  },
  {
   "cell_type": "code",
   "execution_count": 33,
   "metadata": {},
   "outputs": [
    {
     "data": {
      "text/plain": [
       "['1,John Doe,28,Male,300,New York',\n",
       " '2,Jane Smith,34,Female,450,Los Angeles',\n",
       " '3,Jim Brown,45,Male,700,Chicago',\n",
       " '4,Lucy Black,23,Female,120,New York',\n",
       " '5,Jack White,31,Male,350,Los Angeles']"
      ]
     },
     "execution_count": 33,
     "metadata": {},
     "output_type": "execute_result"
    }
   ],
   "source": [
    "rdd.take(5)"
   ]
  },
  {
   "cell_type": "markdown",
   "metadata": {},
   "source": [
    "### 1. Tính tổng số tiền mua hàng của tất cả các khách hàng.\n"
   ]
  },
  {
   "cell_type": "code",
   "execution_count": 8,
   "metadata": {},
   "outputs": [
    {
     "data": {
      "text/plain": [
       "['300', '450', '700', '120', '350']"
      ]
     },
     "execution_count": 8,
     "metadata": {},
     "output_type": "execute_result"
    }
   ],
   "source": [
    "so_tien_mua_hang_rdd = rdd.map(lambda x: x.split(\",\")[4])\n",
    "so_tien_mua_hang_rdd.take(5)"
   ]
  },
  {
   "cell_type": "code",
   "execution_count": 11,
   "metadata": {},
   "outputs": [
    {
     "name": "stdout",
     "output_type": "stream",
     "text": [
      "4320\n"
     ]
    }
   ],
   "source": [
    "tong_so_tien_mua_hang_rdd = so_tien_mua_hang_rdd.reduce(lambda x, y: int(x) + int(y))\n",
    "print(tong_so_tien_mua_hang_rdd)"
   ]
  },
  {
   "cell_type": "markdown",
   "metadata": {},
   "source": [
    "### 2. Tính tổng số tiền mua hàng của các khách hàng trong từng thành phố.\n"
   ]
  },
  {
   "cell_type": "code",
   "execution_count": 14,
   "metadata": {},
   "outputs": [
    {
     "data": {
      "text/plain": [
       "[('New York', '300'),\n",
       " ('Los Angeles', '450'),\n",
       " ('Chicago', '700'),\n",
       " ('New York', '120'),\n",
       " ('Los Angeles', '350')]"
      ]
     },
     "execution_count": 14,
     "metadata": {},
     "output_type": "execute_result"
    }
   ],
   "source": [
    "so_tien_mua_hang_theo_thanh_pho_rdd = rdd.map(lambda x: (x.split(\",\")[5], x.split(\",\")[4]))\n",
    "so_tien_mua_hang_theo_thanh_pho_rdd.take(5)"
   ]
  },
  {
   "cell_type": "code",
   "execution_count": 16,
   "metadata": {},
   "outputs": [
    {
     "data": {
      "text/plain": [
       "[('Los Angeles', 1100), ('Chicago', 1800), ('New York', 1420)]"
      ]
     },
     "execution_count": 16,
     "metadata": {},
     "output_type": "execute_result"
    }
   ],
   "source": [
    "# reduceByKey giảm key trên toàn bộ RDD, nên gây ra nhiều sự trao đổi dữ liệu giữa các phân vùng rồi mới tính toán\n",
    "tong_tien_mua_hang_theo_thanh_pho_rdd = so_tien_mua_hang_theo_thanh_pho_rdd.reduceByKey(lambda x, y: int(x) + int(y))\n",
    "tong_tien_mua_hang_theo_thanh_pho_rdd.take(10)"
   ]
  },
  {
   "cell_type": "code",
   "execution_count": 19,
   "metadata": {},
   "outputs": [
    {
     "name": "stdout",
     "output_type": "stream",
     "text": [
      "{'New York': 1420, 'Los Angeles': 1100, 'Chicago': 1800}\n"
     ]
    }
   ],
   "source": [
    "# reduceByKeyLocally giảm key trên từng phân vùng trước, xong tính toán, xong mới chuyển dữ liệu giữa các phân vùng nên lượng dữ liệu\n",
    "# trao đổi giữa các phân vùng ít hơn(do đã được giảm) -> nhanh hơn 5s so với reduceByKey trong ví dụ này\n",
    "tong_tien_mua_hang_theo_thanh_pho_rdd_2 = so_tien_mua_hang_theo_thanh_pho_rdd.reduceByKeyLocally(lambda x, y: int(x) + int(y))\n",
    "print(tong_tien_mua_hang_theo_thanh_pho_rdd_2)"
   ]
  },
  {
   "cell_type": "markdown",
   "metadata": {},
   "source": [
    "### 3. Tìm khách hàng có số tiền mua hàng cao nhất và thấp nhất.\n"
   ]
  },
  {
   "cell_type": "code",
   "execution_count": 20,
   "metadata": {},
   "outputs": [
    {
     "data": {
      "text/plain": [
       "[('1', '300'), ('2', '450'), ('3', '700'), ('4', '120'), ('5', '350')]"
      ]
     },
     "execution_count": 20,
     "metadata": {},
     "output_type": "execute_result"
    }
   ],
   "source": [
    "khach_hang_vs_tien_mua_hang_rdd = rdd.map(lambda x: (x.split(\",\")[0], x.split(\",\")[4]))\n",
    "khach_hang_vs_tien_mua_hang_rdd.take(5)"
   ]
  },
  {
   "cell_type": "code",
   "execution_count": 22,
   "metadata": {},
   "outputs": [
    {
     "data": {
      "text/plain": [
       "[('9', '900'),\n",
       " ('3', '700'),\n",
       " ('10', '600'),\n",
       " ('2', '450'),\n",
       " ('7', '400'),\n",
       " ('5', '350'),\n",
       " ('1', '300'),\n",
       " ('8', '300'),\n",
       " ('6', '200'),\n",
       " ('4', '120')]"
      ]
     },
     "execution_count": 22,
     "metadata": {},
     "output_type": "execute_result"
    }
   ],
   "source": [
    "sort_so_tien_mua_hang_rdd = khach_hang_vs_tien_mua_hang_rdd.sortBy(lambda x: x[1], False)\n",
    "sort_so_tien_mua_hang_rdd.take(20)"
   ]
  },
  {
   "cell_type": "code",
   "execution_count": 36,
   "metadata": {},
   "outputs": [
    {
     "name": "stdout",
     "output_type": "stream",
     "text": [
      "khach hang co so tien mua cao nhat:  ['9,Robert Red,50,Male,900,Chicago']\n",
      "khach hang co so tien mua thap nhat:  ['4,Lucy Black,23,Female,120,New York']\n"
     ]
    }
   ],
   "source": [
    "khach_mua_so_tien_mua_cao_nhat = rdd.filter(lambda x: x.split(\",\")[0] == \"9\")\n",
    "khach_mua_so_tien_mua_thap_nhat = rdd.filter(lambda x: x.split(\",\")[0] == \"4\")\n",
    "print(\"khach hang co so tien mua cao nhat: \", khach_mua_so_tien_mua_cao_nhat.take(1))\n",
    "print(\"khach hang co so tien mua thap nhat: \", khach_mua_so_tien_mua_thap_nhat.take(1))"
   ]
  },
  {
   "cell_type": "markdown",
   "metadata": {},
   "source": [
    "### 4. Tính tuổi trung bình của các khách hàng.\n"
   ]
  },
  {
   "cell_type": "code",
   "execution_count": 37,
   "metadata": {},
   "outputs": [
    {
     "data": {
      "text/plain": [
       "['28', '34', '45', '23', '31']"
      ]
     },
     "execution_count": 37,
     "metadata": {},
     "output_type": "execute_result"
    }
   ],
   "source": [
    "tuoi_khach_hang_rdd = rdd.map(lambda x: x.split(\",\")[2])\n",
    "tuoi_khach_hang_rdd.take(5)"
   ]
  },
  {
   "cell_type": "code",
   "execution_count": 39,
   "metadata": {},
   "outputs": [],
   "source": [
    "so_luong_khach = rdd.count()"
   ]
  },
  {
   "cell_type": "code",
   "execution_count": 43,
   "metadata": {},
   "outputs": [
    {
     "name": "stdout",
     "output_type": "stream",
     "text": [
      "325\n"
     ]
    }
   ],
   "source": [
    "tong_tuoi_khach = tuoi_khach_hang_rdd.reduce(lambda x, y: int(x) + int(y))\n",
    "print(tong_tuoi_khach)"
   ]
  },
  {
   "cell_type": "code",
   "execution_count": 44,
   "metadata": {},
   "outputs": [
    {
     "name": "stdout",
     "output_type": "stream",
     "text": [
      "trung binh tuoi cua khach hang la:  32.5\n"
     ]
    }
   ],
   "source": [
    "print(\"trung binh tuoi cua khach hang la: \", round(tong_tuoi_khach/so_luong_khach, 2))"
   ]
  },
  {
   "cell_type": "markdown",
   "metadata": {},
   "source": [
    "### 5. Tính tuổi trung bình của các khách hàng theo giới tính.\n"
   ]
  },
  {
   "cell_type": "code",
   "execution_count": 55,
   "metadata": {},
   "outputs": [
    {
     "data": {
      "text/plain": [
       "[('Male', '28'),\n",
       " ('Female', '34'),\n",
       " ('Male', '45'),\n",
       " ('Female', '23'),\n",
       " ('Male', '31')]"
      ]
     },
     "execution_count": 55,
     "metadata": {},
     "output_type": "execute_result"
    }
   ],
   "source": [
    "gioi_tinh_vs_tuoi_rdd = rdd.map(lambda x: (x.split(\",\")[3], x.split(\",\")[2]))\n",
    "gioi_tinh_vs_tuoi_rdd.take(5)"
   ]
  },
  {
   "cell_type": "code",
   "execution_count": 56,
   "metadata": {},
   "outputs": [
    {
     "data": {
      "text/plain": [
       "[('Male', '28'),\n",
       " ('Female', '34'),\n",
       " ('Male', '45'),\n",
       " ('Female', '23'),\n",
       " ('Male', '31')]"
      ]
     },
     "execution_count": 56,
     "metadata": {},
     "output_type": "execute_result"
    }
   ],
   "source": [
    "# split 1 lan, toi uu thoi gian tinh toan\n",
    "def extract_sex_age(line):\n",
    "    temp = line.split(\",\")\n",
    "    return (temp[3], temp[2])\n",
    "gioi_tinh_vs_tuoi_rdd_2 = rdd.map(extract_sex_age)\n",
    "gioi_tinh_vs_tuoi_rdd_2.take(5)"
   ]
  },
  {
   "cell_type": "code",
   "execution_count": 58,
   "metadata": {},
   "outputs": [
    {
     "name": "stdout",
     "output_type": "stream",
     "text": [
      "{'Male': 190, 'Female': 135}\n"
     ]
    }
   ],
   "source": [
    "tong_tuoi_theo_gioi_tinh_rdd = gioi_tinh_vs_tuoi_rdd.reduceByKeyLocally(lambda x, y: int(x) + int(y))\n",
    "print(tong_tuoi_theo_gioi_tinh_rdd)"
   ]
  },
  {
   "cell_type": "code",
   "execution_count": 61,
   "metadata": {},
   "outputs": [
    {
     "name": "stdout",
     "output_type": "stream",
     "text": [
      "5\n"
     ]
    }
   ],
   "source": [
    "count_male = gioi_tinh_vs_tuoi_rdd.filter(lambda x: x[0] == \"Male\").count()\n",
    "print(count_male)"
   ]
  },
  {
   "cell_type": "code",
   "execution_count": 62,
   "metadata": {},
   "outputs": [
    {
     "name": "stdout",
     "output_type": "stream",
     "text": [
      "trung binh nam gioi:  38.0 tuoi\n",
      "trung binh nu gioi:  27.0 tuoi\n"
     ]
    }
   ],
   "source": [
    "print(\"trung binh nam gioi: \", round(int(tong_tuoi_theo_gioi_tinh_rdd[\"Male\"])/count_male, 2), \"tuoi\")\n",
    "print(\"trung binh nu gioi: \", round(int(tong_tuoi_theo_gioi_tinh_rdd[\"Female\"])/(so_luong_khach - count_male), 2), \"tuoi\")"
   ]
  },
  {
   "cell_type": "markdown",
   "metadata": {},
   "source": [
    "### 6. Tìm các khách hàng có tuổi lớn hơn 30 và số tiền mua hàng lớn hơn 400.\n"
   ]
  },
  {
   "cell_type": "code",
   "execution_count": 74,
   "metadata": {},
   "outputs": [],
   "source": [
    "def filter_age_purchase_amount(line):\n",
    "    line_split = line.split(\",\")\n",
    "    if int(line_split[2]) > 30 and int(line_split[4]) > 400:\n",
    "        return line\n",
    "    else:\n",
    "        pass"
   ]
  },
  {
   "cell_type": "code",
   "execution_count": 75,
   "metadata": {},
   "outputs": [
    {
     "data": {
      "text/plain": [
       "[None,\n",
       " '2,Jane Smith,34,Female,450,Los Angeles',\n",
       " '3,Jim Brown,45,Male,700,Chicago',\n",
       " None,\n",
       " None]"
      ]
     },
     "execution_count": 75,
     "metadata": {},
     "output_type": "execute_result"
    }
   ],
   "source": [
    "age_purchase_amount_rdd = rdd.map(filter_age_purchase_amount)\n",
    "age_purchase_amount_rdd.take(5)"
   ]
  },
  {
   "cell_type": "code",
   "execution_count": 81,
   "metadata": {},
   "outputs": [
    {
     "data": {
      "text/plain": [
       "['2,Jane Smith,34,Female,450,Los Angeles',\n",
       " '3,Jim Brown,45,Male,700,Chicago',\n",
       " '9,Robert Red,50,Male,900,Chicago']"
      ]
     },
     "execution_count": 81,
     "metadata": {},
     "output_type": "execute_result"
    }
   ],
   "source": [
    "age_purchase_amount_rdd.filter(lambda x: x != None).take(10)"
   ]
  },
  {
   "cell_type": "markdown",
   "metadata": {},
   "source": [
    "### 8. Đếm số lượng khách hàng trong mỗi thành phố.\n"
   ]
  },
  {
   "cell_type": "code",
   "execution_count": 34,
   "metadata": {},
   "outputs": [
    {
     "data": {
      "text/plain": [
       "['1,John Doe,28,Male,300,New York',\n",
       " '2,Jane Smith,34,Female,450,Los Angeles',\n",
       " '3,Jim Brown,45,Male,700,Chicago',\n",
       " '4,Lucy Black,23,Female,120,New York',\n",
       " '5,Jack White,31,Male,350,Los Angeles',\n",
       " '6,Emily Green,27,Female,200,Chicago',\n",
       " '7,James Blue,36,Male,400,New York',\n",
       " '8,Olivia Yellow,22,Female,300,Los Angeles',\n",
       " '9,Robert Red,50,Male,900,Chicago',\n",
       " '10,Mary Purple,29,Female,600,New York']"
      ]
     },
     "execution_count": 34,
     "metadata": {},
     "output_type": "execute_result"
    }
   ],
   "source": [
    "# sẽ có trường hợp khách hàng không có thông tin thành phố, thành phố bị null\n",
    "loai_bo_null_tp_rdd = rdd.filter(lambda x: x.split(\",\")[-1] != \"Null\")\n",
    "loai_bo_null_tp_rdd.take(10)"
   ]
  },
  {
   "cell_type": "code",
   "execution_count": 36,
   "metadata": {},
   "outputs": [
    {
     "data": {
      "text/plain": [
       "[('1', '1,John Doe,28,Male,300,New York'),\n",
       " ('2', '2,Jane Smith,34,Female,450,Los Angeles'),\n",
       " ('3', '3,Jim Brown,45,Male,700,Chicago'),\n",
       " ('4', '4,Lucy Black,23,Female,120,New York'),\n",
       " ('5', '5,Jack White,31,Male,350,Los Angeles')]"
      ]
     },
     "execution_count": 36,
     "metadata": {},
     "output_type": "execute_result"
    }
   ],
   "source": [
    "# sẽ có trường hợp trong cùng 1 thành phố, tồn tại những hàng bị trùng id khách hàng, tao 1 tuple id va info khach\n",
    "id_info_rdd = rdd.map(lambda x: (x.split(\",\")[0], x))\n",
    "id_info_rdd.take(5)"
   ]
  },
  {
   "cell_type": "code",
   "execution_count": 44,
   "metadata": {},
   "outputs": [
    {
     "data": {
      "text/plain": [
       "['4,Lucy Black,23,Female,120,New York',\n",
       " '10,Mary Purple,29,Female,600,New York',\n",
       " '3,Jim Brown,45,Male,700,Chicago',\n",
       " '6,Emily Green,27,Female,200,Chicago',\n",
       " '7,James Blue,36,Male,400,New York',\n",
       " '1,John Doe,28,Male,300,New York',\n",
       " '8,Olivia Yellow,22,Female,300,Los Angeles',\n",
       " '9,Robert Red,50,Male,900,Chicago',\n",
       " '2,Jane Smith,34,Female,450,Los Angeles',\n",
       " '5,Jack White,31,Male,350,Los Angeles']"
      ]
     },
     "execution_count": 44,
     "metadata": {},
     "output_type": "execute_result"
    }
   ],
   "source": [
    "distinct_id_rdd = id_info_rdd.reduceByKey(lambda x, y: y)\n",
    "distinct_id_rdd = distinct_id_rdd.map(lambda x: x[1])\n",
    "distinct_id_rdd.take(10)"
   ]
  },
  {
   "cell_type": "code",
   "execution_count": 45,
   "metadata": {},
   "outputs": [
    {
     "data": {
      "text/plain": [
       "[('New York', 1),\n",
       " ('New York', 1),\n",
       " ('Chicago', 1),\n",
       " ('Chicago', 1),\n",
       " ('New York', 1)]"
      ]
     },
     "execution_count": 45,
     "metadata": {},
     "output_type": "execute_result"
    }
   ],
   "source": [
    "thanh_pho_mapped = distinct_id_rdd.map(lambda x: (x.split(\",\")[-1], 1))\n",
    "thanh_pho_mapped.take(5)"
   ]
  },
  {
   "cell_type": "code",
   "execution_count": 46,
   "metadata": {},
   "outputs": [
    {
     "data": {
      "text/plain": [
       "[('Chicago', 3), ('Los Angeles', 3), ('New York', 4)]"
      ]
     },
     "execution_count": 46,
     "metadata": {},
     "output_type": "execute_result"
    }
   ],
   "source": [
    "thanh_pho_reduce_by_key = thanh_pho_mapped.reduceByKey(lambda x, y: x + y)\n",
    "thanh_pho_reduce_by_key.take(5)"
   ]
  },
  {
   "cell_type": "markdown",
   "metadata": {},
   "source": [
    "### 9. Đếm số lượng khách hàng theo từng giới tính.\n"
   ]
  },
  {
   "cell_type": "code",
   "execution_count": 47,
   "metadata": {},
   "outputs": [
    {
     "data": {
      "text/plain": [
       "[('Male', 5), ('Female', 5)]"
      ]
     },
     "execution_count": 47,
     "metadata": {},
     "output_type": "execute_result"
    }
   ],
   "source": [
    "gioi_tinh_mapped = rdd.map(lambda x: (x.split(\",\")[3], 1))\n",
    "gioi_tinh_reduce_by_key = gioi_tinh_mapped.reduceByKey(lambda x, y: x + y)\n",
    "gioi_tinh_reduce_by_key.take(3)"
   ]
  },
  {
   "cell_type": "markdown",
   "metadata": {},
   "source": [
    "### 10. Tìm các khách hàng có số tiền mua hàng lớn hơn 500.\n"
   ]
  },
  {
   "cell_type": "code",
   "execution_count": 51,
   "metadata": {},
   "outputs": [
    {
     "data": {
      "text/plain": [
       "['3,Jim Brown,45,Male,700,Chicago',\n",
       " '9,Robert Red,50,Male,900,Chicago',\n",
       " '10,Mary Purple,29,Female,600,New York']"
      ]
     },
     "execution_count": 51,
     "metadata": {},
     "output_type": "execute_result"
    }
   ],
   "source": [
    "rdd.filter(lambda x: int(x.split(\",\")[4]) > 500).take(10)"
   ]
  },
  {
   "cell_type": "markdown",
   "metadata": {},
   "source": [
    "### 11. Tính số tiền mua hàng trung bình của các khách hàng trong mỗi thành phố.\n"
   ]
  },
  {
   "cell_type": "code",
   "execution_count": null,
   "metadata": {},
   "outputs": [],
   "source": []
  }
 ],
 "metadata": {
  "kernelspec": {
   "display_name": "Python 3",
   "language": "python",
   "name": "python3"
  },
  "language_info": {
   "codemirror_mode": {
    "name": "ipython",
    "version": 3
   },
   "file_extension": ".py",
   "mimetype": "text/x-python",
   "name": "python",
   "nbconvert_exporter": "python",
   "pygments_lexer": "ipython3",
   "version": "3.10.4"
  }
 },
 "nbformat": 4,
 "nbformat_minor": 2
}

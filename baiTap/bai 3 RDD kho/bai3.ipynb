{
 "cells": [
  {
   "cell_type": "code",
   "execution_count": 5,
   "metadata": {},
   "outputs": [],
   "source": [
    "# Dữ liệu sau có dữ liệu mất mát, trống, sai kiểu, trùng lặp,.....\n",
    "# order_id,customer_id,order_date,total_amount,payment_method,status\n",
    "path_csv = \"D:/Python/2024/test_hadoop/hoc_spark/data/orders_bai3.csv\"\n"
   ]
  },
  {
   "cell_type": "markdown",
   "metadata": {},
   "source": [
    "1. Đếm số lượng đơn hàng theo từng trạng thái (pending, processing, completed, cancelled) và hiển thị kết quả.\n",
    "2. Tính tổng doanh thu từ tất cả các đơn hàng đã hoàn thành.\n",
    "3. Tìm đơn hàng có tổng số tiền lớn nhất và nhỏ nhất và hiển thị chi tiết của chúng.\n",
    "4. Tính trung bình số tiền của các đơn hàng theo từng phương thức thanh toán.\n",
    "5. Tính độ trễ trong xử lý đơn hàng (số ngày giữa ngày đặt hàng và ngày hoàn thành) và tính trung bình trễ.\n",
    "6. Chuyển định dạng ngày tháng sang định dạng theo ngày đầu tiên của tháng đó và hiển thị kết quả.\n",
    "7. Tìm các cặp đơn hàng có cùng khách hàng (customer_id) và sắp xếp theo ngày đặt hàng tăng dần.\n",
    "8. Loại bỏ các dòng trùng lặp hoàn toàn dựa trên tất cả các trường dữ liệu và hiển thị kết quả.\n",
    "9. Tính tổng số tiền của đơn hàng theo từng trạng thái và phương thức thanh toán, sau đó sắp xếp theo số tiền giảm dần.\n",
    "10. Tạo một cột mới \"processedamount\" là tổng số tiền đã xử lý từ tổng số tiền ban đầu (totalamount).\n",
    "11. Lọc ra các đơn hàng có tổng số tiền lớn hơn mức trung bình và hiển thị kết quả.\n",
    "12. Tính tổng số tiền từ các đơn hàng có trạng thái \"pending\" và phương thức thanh toán là \"Cash\".\n",
    "13. Tách trường \"order_date\" thành các trường \"year\", \"month\" và \"day\" riêng lẻ và hiển thị kết quả.\n",
    "14. Tìm các đơn hàng có số tiền chẵn và sắp xếp theo ngày đặt hàng giảm dần.\n",
    "15. Chuyển định dạng ngày tháng sang Unix Timestamp và hiển thị kết quả."
   ]
  },
  {
   "cell_type": "markdown",
   "metadata": {},
   "source": [
    "### tao ung dung"
   ]
  },
  {
   "cell_type": "code",
   "execution_count": 2,
   "metadata": {},
   "outputs": [],
   "source": [
    "from pyspark.sql import SparkSession\n",
    "ss = SparkSession.builder \\\n",
    "    .appName(\"bai 3\") \\\n",
    "    .master(\"local[*]\") \\\n",
    "    .getOrCreate()"
   ]
  },
  {
   "cell_type": "code",
   "execution_count": 3,
   "metadata": {},
   "outputs": [],
   "source": [
    "sc = ss.sparkContext"
   ]
  },
  {
   "cell_type": "markdown",
   "metadata": {},
   "source": [
    "### load data + cache"
   ]
  },
  {
   "cell_type": "code",
   "execution_count": 9,
   "metadata": {},
   "outputs": [],
   "source": [
    "orders_rdd = sc.textFile(path_csv)"
   ]
  },
  {
   "cell_type": "code",
   "execution_count": 10,
   "metadata": {},
   "outputs": [
    {
     "data": {
      "text/plain": [
       "['1,101,2022-06-15,150.5,Credit Card,pending',\n",
       " '2,102,2022-06-16,,Cash,processing',\n",
       " '3,103,2022-06-17,error,PayPal,completed',\n",
       " '4,104,2022-06-18,180.75,Credit Card,cancelled',\n",
       " '1,102,2022-06-19,300.25,,pending']"
      ]
     },
     "execution_count": 10,
     "metadata": {},
     "output_type": "execute_result"
    }
   ],
   "source": [
    "orders_rdd.take(5)"
   ]
  },
  {
   "cell_type": "code",
   "execution_count": 11,
   "metadata": {},
   "outputs": [
    {
     "data": {
      "text/plain": [
       "['1,102,2022-06-19,300.25,,pending',\n",
       " '4,104,2022-06-18,180.75,Credit Card,cancelled',\n",
       " '8,108,2022-06-21,220.3,,processing',\n",
       " '10,109,2022-06-23,175.0,Credit Card,pending',\n",
       " '12,101,2022-06-25,error,PayPal,completed',\n",
       " '14,113,2022-06-27,missing,Cash,processing',\n",
       " '16,115,2022-06-30,error,Credit Card,pending',\n",
       " '17,116,2022-07-01,290.0,Credit Card,processing',\n",
       " '19,118,2022-07-03,invalid,Credit Card,cancelled',\n",
       " '20,119,2022-07-04,195.2,Credit Card,pending']"
      ]
     },
     "execution_count": 11,
     "metadata": {},
     "output_type": "execute_result"
    }
   ],
   "source": [
    "# distinct id don hang:\n",
    "id_info_mapped_rdd = orders_rdd.map(lambda x: (x.split(\",\")[0], x)) # tach lay tuple (id, info don hang)\n",
    "distinct_id = id_info_mapped_rdd.reduceByKey(lambda x, y: y) # reduce by key lay gia tri cuoi cung cua moi key sau khi reduce\n",
    "distinct_id = distinct_id.map(lambda x: x[1]) # tach lay info don hang\n",
    "distinct_id.cache()\n",
    "distinct_id.take(10)"
   ]
  },
  {
   "cell_type": "markdown",
   "metadata": {},
   "source": [
    "### 1. Đếm số lượng đơn hàng theo từng trạng thái (pending, processing, completed, cancelled) và hiển thị kết quả.\n"
   ]
  },
  {
   "cell_type": "code",
   "execution_count": 12,
   "metadata": {},
   "outputs": [
    {
     "data": {
      "text/plain": [
       "[('pending', 12),\n",
       " ('cancelled', 10),\n",
       " ('processing', 11),\n",
       " ('completed', 11),\n",
       " ('error', 4)]"
      ]
     },
     "execution_count": 12,
     "metadata": {},
     "output_type": "execute_result"
    }
   ],
   "source": [
    "# dem so luong don hang nen id don hang can bo id trung lap, su dung distinct_id(da bien doi o tren)\n",
    "trang_thai_don_hang_mapped_rdd = distinct_id.map(lambda x: (x.split(\",\")[-1], 1))\n",
    "so_luong_don_hang_theo_trang_thai_rdd = trang_thai_don_hang_mapped_rdd.reduceByKey(lambda x, y: x + y)\n",
    "so_luong_don_hang_theo_trang_thai_rdd.collect()"
   ]
  },
  {
   "cell_type": "markdown",
   "metadata": {},
   "source": [
    "### 2. Tính tổng doanh thu từ tất cả các đơn hàng đã hoàn thành.\n"
   ]
  },
  {
   "cell_type": "code",
   "execution_count": 14,
   "metadata": {},
   "outputs": [],
   "source": [
    "def trang_thai_vs_gia(line):\n",
    "    line_split = line.split(\",\")\n",
    "    return (line_split[-1], line_split[-3])"
   ]
  },
  {
   "cell_type": "code",
   "execution_count": 15,
   "metadata": {},
   "outputs": [],
   "source": [
    "trang_thai_vs_gia_mapped_rdd = orders_rdd.map(trang_thai_vs_gia)"
   ]
  },
  {
   "cell_type": "code",
   "execution_count": 20,
   "metadata": {},
   "outputs": [
    {
     "data": {
      "text/plain": [
       "[('pending', '150.5'),\n",
       " ('processing', ''),\n",
       " ('completed', 'error'),\n",
       " ('cancelled', '180.75'),\n",
       " ('pending', '300.25')]"
      ]
     },
     "execution_count": 20,
     "metadata": {},
     "output_type": "execute_result"
    }
   ],
   "source": [
    "trang_thai_vs_gia_mapped_rdd.take(5)"
   ]
  },
  {
   "cell_type": "code",
   "execution_count": 24,
   "metadata": {},
   "outputs": [],
   "source": [
    "def fix_du_lieu(line):\n",
    "    status, amount = line\n",
    "    try:\n",
    "        float(amount)\n",
    "        return (status, amount)\n",
    "    except:\n",
    "        return (status, 0)"
   ]
  },
  {
   "cell_type": "code",
   "execution_count": 25,
   "metadata": {},
   "outputs": [],
   "source": [
    "trang_thai_vs_gia_mapped_rdd = trang_thai_vs_gia_mapped_rdd.map(fix_du_lieu)"
   ]
  },
  {
   "cell_type": "code",
   "execution_count": 27,
   "metadata": {},
   "outputs": [
    {
     "data": {
      "text/plain": [
       "[('pending', '150.5'),\n",
       " ('processing', 0),\n",
       " ('completed', 0),\n",
       " ('cancelled', '180.75'),\n",
       " ('pending', '300.25'),\n",
       " ('completed', 0),\n",
       " ('error', 0),\n",
       " ('processing', '220.3'),\n",
       " ('error', '280.5'),\n",
       " ('pending', '175.0')]"
      ]
     },
     "execution_count": 27,
     "metadata": {},
     "output_type": "execute_result"
    }
   ],
   "source": [
    "trang_thai_vs_gia_mapped_rdd.take(10)"
   ]
  },
  {
   "cell_type": "code",
   "execution_count": 35,
   "metadata": {},
   "outputs": [],
   "source": [
    "trang_thai_vs_gia_reduce_rdd = trang_thai_vs_gia_mapped_rdd.reduceByKey(lambda x, y: float(x) + float(y))"
   ]
  },
  {
   "cell_type": "code",
   "execution_count": 36,
   "metadata": {},
   "outputs": [
    {
     "data": {
      "text/plain": [
       "[('pending', 1987.6000000000001),\n",
       " ('cancelled', 777.4000000000001),\n",
       " ('processing', 1527.15),\n",
       " ('completed', 1618.95),\n",
       " ('error', 826.5)]"
      ]
     },
     "execution_count": 36,
     "metadata": {},
     "output_type": "execute_result"
    }
   ],
   "source": [
    "trang_thai_vs_gia_reduce_rdd.take(5)"
   ]
  },
  {
   "cell_type": "code",
   "execution_count": 32,
   "metadata": {},
   "outputs": [
    {
     "data": {
      "text/plain": [
       "[('completed', 1618.95)]"
      ]
     },
     "execution_count": 32,
     "metadata": {},
     "output_type": "execute_result"
    }
   ],
   "source": [
    "trang_thai_vs_gia_reduce_rdd.filter(lambda x: x[0] == \"completed\").collect()"
   ]
  },
  {
   "cell_type": "markdown",
   "metadata": {},
   "source": [
    "### 3. Tìm đơn hàng có tổng số tiền lớn nhất và nhỏ nhất và hiển thị chi tiết của chúng.\n"
   ]
  },
  {
   "cell_type": "code",
   "execution_count": 63,
   "metadata": {},
   "outputs": [],
   "source": [
    "def fix_du_lieu_amount(line):\n",
    "    order_id, amount = line\n",
    "    try:\n",
    "        return (order_id, float(amount))\n",
    "    except:\n",
    "        return line\n",
    "    \n",
    "\n",
    "def is_int_or_float(line):\n",
    "    return isinstance(line[1], (int, float))\n",
    "\n",
    "\n",
    "\n",
    "def order_id_vs_amount(line):\n",
    "    line_split = line.split(\",\")\n",
    "    return (line_split[0], line_split[-3])"
   ]
  },
  {
   "cell_type": "code",
   "execution_count": 44,
   "metadata": {},
   "outputs": [],
   "source": [
    "order_id_vs_amount_mapped_rdd = distinct_id.map(order_id_vs_amount)"
   ]
  },
  {
   "cell_type": "code",
   "execution_count": 45,
   "metadata": {},
   "outputs": [
    {
     "data": {
      "text/plain": [
       "[('1', '300.25'),\n",
       " ('4', '180.75'),\n",
       " ('8', '220.3'),\n",
       " ('10', '175.0'),\n",
       " ('12', 'error')]"
      ]
     },
     "execution_count": 45,
     "metadata": {},
     "output_type": "execute_result"
    }
   ],
   "source": [
    "order_id_vs_amount_mapped_rdd.take(5)"
   ]
  },
  {
   "cell_type": "code",
   "execution_count": 65,
   "metadata": {},
   "outputs": [],
   "source": [
    "orders_rdd_fix_amount = order_id_vs_amount_mapped_rdd.map(fix_du_lieu_amount)\n",
    "orders_rdd_fix_amount = orders_rdd_fix_amount.filter(is_int_or_float)"
   ]
  },
  {
   "cell_type": "code",
   "execution_count": 66,
   "metadata": {},
   "outputs": [
    {
     "data": {
      "text/plain": [
       "[('1', 300.25), ('4', 180.75), ('8', 220.3), ('10', 175.0), ('17', 290.0)]"
      ]
     },
     "execution_count": 66,
     "metadata": {},
     "output_type": "execute_result"
    }
   ],
   "source": [
    "orders_rdd_fix_amount.take(5)"
   ]
  },
  {
   "cell_type": "code",
   "execution_count": 71,
   "metadata": {},
   "outputs": [],
   "source": [
    "id_don_hang_amount_nho_nhat = orders_rdd_fix_amount.min(lambda x: x[1])[0]\n"
   ]
  },
  {
   "cell_type": "code",
   "execution_count": 72,
   "metadata": {},
   "outputs": [],
   "source": [
    "id_don_hang_amount_lon_nhat =orders_rdd_fix_amount.max(lambda x: x[1])[0]"
   ]
  },
  {
   "cell_type": "code",
   "execution_count": 76,
   "metadata": {},
   "outputs": [
    {
     "name": "stdout",
     "output_type": "stream",
     "text": [
      "don hang co tong so tien nho nhat la:  10,109,2022-06-23,175.0,Credit Card,pending\n",
      "don hang co tong so tien lon nhat la:  ['26,,2022-07-10,340.2,Cash,completed']\n"
     ]
    }
   ],
   "source": [
    "print(\"don hang co tong so tien nho nhat la: \", distinct_id.filter(lambda x: x.split(\",\")[0] == id_don_hang_amount_nho_nhat).collect()[0])\n",
    "print(\"don hang co tong so tien lon nhat la: \", distinct_id.filter(lambda x: x.split(\",\")[0] == id_don_hang_amount_lon_nhat).collect())"
   ]
  },
  {
   "cell_type": "markdown",
   "metadata": {},
   "source": [
    "### 5. Tính độ trễ trong xử lý đơn hàng (số ngày giữa ngày đặt hàng và ngày hoàn thành) và tính trung bình trễ.\n"
   ]
  },
  {
   "cell_type": "markdown",
   "metadata": {},
   "source": []
  }
 ],
 "metadata": {
  "kernelspec": {
   "display_name": "Python 3",
   "language": "python",
   "name": "python3"
  },
  "language_info": {
   "codemirror_mode": {
    "name": "ipython",
    "version": 3
   },
   "file_extension": ".py",
   "mimetype": "text/x-python",
   "name": "python",
   "nbconvert_exporter": "python",
   "pygments_lexer": "ipython3",
   "version": "3.10.4"
  }
 },
 "nbformat": 4,
 "nbformat_minor": 2
}

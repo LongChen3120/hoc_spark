{
 "cells": [
  {
   "cell_type": "markdown",
   "metadata": {},
   "source": [
    "\n",
    "1. Có tổng bao nhiêu giao dịch, sản phẩm và khách hàng khác nhau?\n",
    "+ Đáp án: (25900, 4070, 4372)\n",
    "2. Tỉ lệ khách hàng có thông tin\n",
    "+ Đáp án: 24.93%\n",
    "3. Đâu là nước có số lượng đơn hàng (Quantity) nhiều thứ 3?\n",
    "+ Đáp án: Germany\n",
    "4. Từ nào xuất hiện ít nhất trong phần Description?\n",
    "5. Sản phẩm nào bán được số lượng (Quantity) lớn nhất ở United Kingdom?"
   ]
  },
  {
   "attachments": {
    "image.png": {
     "image/png": "[encoded data removed]"
    }
   },
   "cell_type": "markdown",
   "metadata": {},
   "source": [
    "![image.png](attachment:image.png)"
   ]
  },
  {
   "cell_type": "code",
   "execution_count": 14,
   "metadata": {},
   "outputs": [],
   "source": [
    "ss.stop()"
   ]
  },
  {
   "cell_type": "markdown",
   "metadata": {},
   "source": [
    "### read data"
   ]
  },
  {
   "cell_type": "code",
   "execution_count": 1,
   "metadata": {},
   "outputs": [],
   "source": [
    "from pyspark.sql import SparkSession"
   ]
  },
  {
   "cell_type": "code",
   "execution_count": 2,
   "metadata": {},
   "outputs": [],
   "source": [
    "from pyspark.sql.window import *\n",
    "python_round = round\n",
    "from pyspark.sql.functions import *\n",
    "spark_round = round"
   ]
  },
  {
   "cell_type": "code",
   "execution_count": 3,
   "metadata": {},
   "outputs": [],
   "source": [
    "ss = SparkSession.builder \\\n",
    "    .appName(\"bai 1\") \\\n",
    "    .master(\"local[*]\") \\\n",
    "    .getOrCreate()"
   ]
  },
  {
   "cell_type": "code",
   "execution_count": 4,
   "metadata": {},
   "outputs": [],
   "source": [
    "retail_df = ss.read.csv(\"D:/Python/2024/test_hadoop/hoc_spark/baiTap/bai1/retails.csv\", header=True, inferSchema=False)"
   ]
  },
  {
   "cell_type": "markdown",
   "metadata": {},
   "source": [
    "### info"
   ]
  },
  {
   "cell_type": "code",
   "execution_count": 12,
   "metadata": {},
   "outputs": [
    {
     "name": "stdout",
     "output_type": "stream",
     "text": [
      "+-------+------------------+------------------+--------------------+-----------------+-------------+-----------------+------------------+-----------+\n",
      "|summary|         InvoiceNo|         StockCode|         Description|         Quantity|  InvoiceDate|        UnitPrice|        CustomerID|    Country|\n",
      "+-------+------------------+------------------+--------------------+-----------------+-------------+-----------------+------------------+-----------+\n",
      "|  count|            541909|            541909|              540455|           541909|       541909|           541909|            406829|     541909|\n",
      "|   mean|  559965.752026781|27623.240210938104|             20713.0| 9.55224954743324|         NULL|  4.6111136260883|15287.690570239585|       NULL|\n",
      "| stddev|13428.417280798483|16799.737628427683|                NULL|218.0811578502346|         NULL|96.75985306117995|1713.6003033215989|       NULL|\n",
      "|    min|            536365|             10002| 4 PURPLE FLOCK D...|               -1|1/10/11 10:04|        -11062.06|             12346|  Australia|\n",
      "|    max|           C581569|                 m|   wrongly sold sets|              992|  9/9/11 9:52|            99.96|             18287|Unspecified|\n",
      "+-------+------------------+------------------+--------------------+-----------------+-------------+-----------------+------------------+-----------+\n",
      "\n"
     ]
    }
   ],
   "source": [
    "retail_df.describe().show(5)"
   ]
  },
  {
   "cell_type": "code",
   "execution_count": 13,
   "metadata": {},
   "outputs": [
    {
     "ename": "AttributeError",
     "evalue": "'DataFrame' object has no attribute 'info'",
     "output_type": "error",
     "traceback": [
      "\u001b[1;31m---------------------------------------------------------------------------\u001b[0m",
      "\u001b[1;31mAttributeError\u001b[0m                            Traceback (most recent call last)",
      "Cell \u001b[1;32mIn[13], line 1\u001b[0m\n\u001b[1;32m----> 1\u001b[0m \u001b[43mretail_df\u001b[49m\u001b[38;5;241;43m.\u001b[39;49m\u001b[43minfo\u001b[49m()\n",
      "File \u001b[1;32mc:\\Users\\LONG\\AppData\\Local\\Programs\\Python\\Python310\\lib\\site-packages\\pyspark\\sql\\dataframe.py:3127\u001b[0m, in \u001b[0;36mDataFrame.__getattr__\u001b[1;34m(self, name)\u001b[0m\n\u001b[0;32m   3094\u001b[0m \u001b[38;5;250m\u001b[39m\u001b[38;5;124;03m\"\"\"Returns the :class:`Column` denoted by ``name``.\u001b[39;00m\n\u001b[0;32m   3095\u001b[0m \n\u001b[0;32m   3096\u001b[0m \u001b[38;5;124;03m.. versionadded:: 1.3.0\u001b[39;00m\n\u001b[1;32m   (...)\u001b[0m\n\u001b[0;32m   3124\u001b[0m \u001b[38;5;124;03m+---+\u001b[39;00m\n\u001b[0;32m   3125\u001b[0m \u001b[38;5;124;03m\"\"\"\u001b[39;00m\n\u001b[0;32m   3126\u001b[0m \u001b[38;5;28;01mif\u001b[39;00m name \u001b[38;5;129;01mnot\u001b[39;00m \u001b[38;5;129;01min\u001b[39;00m \u001b[38;5;28mself\u001b[39m\u001b[38;5;241m.\u001b[39mcolumns:\n\u001b[1;32m-> 3127\u001b[0m     \u001b[38;5;28;01mraise\u001b[39;00m \u001b[38;5;167;01mAttributeError\u001b[39;00m(\n\u001b[0;32m   3128\u001b[0m         \u001b[38;5;124m\"\u001b[39m\u001b[38;5;124m'\u001b[39m\u001b[38;5;132;01m%s\u001b[39;00m\u001b[38;5;124m'\u001b[39m\u001b[38;5;124m object has no attribute \u001b[39m\u001b[38;5;124m'\u001b[39m\u001b[38;5;132;01m%s\u001b[39;00m\u001b[38;5;124m'\u001b[39m\u001b[38;5;124m\"\u001b[39m \u001b[38;5;241m%\u001b[39m (\u001b[38;5;28mself\u001b[39m\u001b[38;5;241m.\u001b[39m\u001b[38;5;18m__class__\u001b[39m\u001b[38;5;241m.\u001b[39m\u001b[38;5;18m__name__\u001b[39m, name)\n\u001b[0;32m   3129\u001b[0m     )\n\u001b[0;32m   3130\u001b[0m jc \u001b[38;5;241m=\u001b[39m \u001b[38;5;28mself\u001b[39m\u001b[38;5;241m.\u001b[39m_jdf\u001b[38;5;241m.\u001b[39mapply(name)\n\u001b[0;32m   3131\u001b[0m \u001b[38;5;28;01mreturn\u001b[39;00m Column(jc)\n",
      "\u001b[1;31mAttributeError\u001b[0m: 'DataFrame' object has no attribute 'info'"
     ]
    }
   ],
   "source": [
    "retail_df.info()"
   ]
  },
  {
   "cell_type": "markdown",
   "metadata": {},
   "source": [
    "### 1. Tong bao nhieu giao dich, san pham va khach hang khac nhau"
   ]
  },
  {
   "cell_type": "code",
   "execution_count": 34,
   "metadata": {},
   "outputs": [],
   "source": [
    "tong_khach_hang_khac_nhau = retail_df.select(\"CustomerID\").distinct().count()\n",
    "tong_giao_dich_khac_nhau = retail_df.select(\"InvoiceNo\").distinct().count()\n",
    "tong_san_pham_khac_nhau = retail_df.select(\"StockCode\").distinct().count()"
   ]
  },
  {
   "cell_type": "code",
   "execution_count": 5,
   "metadata": {},
   "outputs": [
    {
     "name": "stdout",
     "output_type": "stream",
     "text": [
      "4373\n"
     ]
    }
   ],
   "source": [
    "# cach khac dung drop duplicates\n",
    "tong_khach_hang_khac_nhau_2 = retail_df.dropDuplicates([\"CustomerID\"]).select(\"CustomerID\").count()\n",
    "print(tong_khach_hang_khac_nhau_2)"
   ]
  },
  {
   "cell_type": "code",
   "execution_count": 35,
   "metadata": {},
   "outputs": [
    {
     "name": "stdout",
     "output_type": "stream",
     "text": [
      "Tong khach hang khac nhau la:  4373 \n",
      "Tong giao dich khac nhau la:  25900 \n",
      "Tong san pham khac nhau la:  4070\n"
     ]
    }
   ],
   "source": [
    "print(\"Tong khach hang khac nhau la: \", tong_khach_hang_khac_nhau,\n",
    "      \"\\nTong giao dich khac nhau la: \", tong_giao_dich_khac_nhau,\n",
    "      \"\\nTong san pham khac nhau la: \", tong_san_pham_khac_nhau)"
   ]
  },
  {
   "cell_type": "markdown",
   "metadata": {},
   "source": [
    "### 2. Tỉ lệ khách hàng có thông tin\n",
    "+ Đáp án: 24.93%"
   ]
  },
  {
   "cell_type": "code",
   "execution_count": 9,
   "metadata": {},
   "outputs": [
    {
     "name": "stdout",
     "output_type": "stream",
     "text": [
      "135080\n"
     ]
    }
   ],
   "source": [
    "num_khach_null = retail_df.filter(retail_df[\"CustomerID\"].isNull()).count()\n",
    "print(num_khach_null)"
   ]
  },
  {
   "cell_type": "code",
   "execution_count": 10,
   "metadata": {},
   "outputs": [
    {
     "name": "stdout",
     "output_type": "stream",
     "text": [
      "4372\n"
     ]
    }
   ],
   "source": [
    "num_khach_not_null = retail_df.filter(retail_df[\"CustomerID\"].isNotNull()).select(\"CustomerID\").distinct().count()\n",
    "print(num_khach_not_null)"
   ]
  },
  {
   "cell_type": "code",
   "execution_count": 14,
   "metadata": {},
   "outputs": [
    {
     "name": "stdout",
     "output_type": "stream",
     "text": [
      "Ty le khach hang co thong tin la: 3.24%\n"
     ]
    }
   ],
   "source": [
    "print(f\"Ty le khach hang co thong tin la: {python_round(num_khach_not_null/num_khach_null*100, 2)}%\")\n"
   ]
  },
  {
   "cell_type": "markdown",
   "metadata": {},
   "source": [
    "### 3. Đâu là nước có số lượng đơn hàng (Quantity) nhiều thứ 3?\n",
    "+ Đáp án: Germany"
   ]
  },
  {
   "cell_type": "code",
   "execution_count": 6,
   "metadata": {},
   "outputs": [],
   "source": [
    "don_hang_theo_quoc_gia_window = Window.partitionBy(\"Country\")"
   ]
  },
  {
   "cell_type": "code",
   "execution_count": 7,
   "metadata": {},
   "outputs": [],
   "source": [
    "tong_don_hang_theo_quoc_gia_df = retail_df.withColumn(\"tong_don_hang\", sum(retail_df[\"Quantity\"]).over(don_hang_theo_quoc_gia_window))"
   ]
  },
  {
   "cell_type": "code",
   "execution_count": 8,
   "metadata": {},
   "outputs": [],
   "source": [
    "tong_don_hang_theo_quoc_gia_df = tong_don_hang_theo_quoc_gia_df.dropDuplicates([\"Country\"])"
   ]
  },
  {
   "cell_type": "code",
   "execution_count": 10,
   "metadata": {},
   "outputs": [
    {
     "data": {
      "text/plain": [
       "'EIRE'"
      ]
     },
     "execution_count": 10,
     "metadata": {},
     "output_type": "execute_result"
    }
   ],
   "source": [
    "#cach 0:\n",
    "tong_don_hang_theo_quoc_gia_df.orderBy(desc(\"tong_don_hang\")).head(3)[2][7]"
   ]
  },
  {
   "cell_type": "code",
   "execution_count": 24,
   "metadata": {},
   "outputs": [
    {
     "name": "stdout",
     "output_type": "stream",
     "text": [
      "+---------+---------+--------------------+--------+--------------+---------+----------+---------------+-------------+---------------------------+\n",
      "|InvoiceNo|StockCode|         Description|Quantity|   InvoiceDate|UnitPrice|CustomerID|        Country|tong_don_hang|rank_don_hang_theo_quoc_gia|\n",
      "+---------+---------+--------------------+--------+--------------+---------+----------+---------------+-------------+---------------------------+\n",
      "|   536365|   85123A|WHITE HANGING HEA...|       6|  12/1/10 8:26|     2.55|     17850| United Kingdom|    4263829.0|                          1|\n",
      "|   536403|    22867|HAND WARMER BIRD ...|      96| 12/1/10 11:27|     1.85|     12791|    Netherlands|     200128.0|                          2|\n",
      "|   536540|    22968|ROSE COTTAGE KEEP...|       4| 12/1/10 14:05|     9.95|     14911|           EIRE|     142637.0|                          3|\n",
      "|   536527|    22809|SET OF 6 T-LIGHTS...|       6| 12/1/10 13:04|     2.95|     12662|        Germany|     117448.0|                          4|\n",
      "|   536370|    22728|ALARM CLOCK BAKEL...|      24|  12/1/10 8:45|     3.75|     12583|         France|     110480.0|                          5|\n",
      "|   536389|    22941|CHRISTMAS LIGHTS ...|       6| 12/1/10 10:03|      8.5|     12431|      Australia|      83653.0|                          6|\n",
      "|  C538847|   85232B|SET OF 3 BABUSHKA...|    -240|12/14/10 13:27|     4.95|     17404|         Sweden|      35637.0|                          7|\n",
      "|   536858|    22326|ROUND SNACK BOXES...|      30| 12/3/10 10:36|     2.95|     13520|    Switzerland|      30325.0|                          8|\n",
      "|   536944|    22383|LUNCH BAG SUKI  D...|      70| 12/3/10 12:20|     1.65|     12557|          Spain|      26824.0|                          9|\n",
      "|   537218|    85016|SET OF 6 VINTAGE ...|       6| 12/5/10 15:46|     2.55|     12763|          Japan|      25218.0|                         10|\n",
      "|   537026|    84375|SET OF 20 KIDS CO...|      12| 12/3/10 16:35|      2.1|     12395|        Belgium|      23152.0|                         11|\n",
      "|   536532|    84692|BOX OF 24 COCKTAI...|      50| 12/1/10 13:24|     0.42|     12433|         Norway|      19247.0|                         12|\n",
      "|   536990|    21992|VINTAGE PAISLEY S...|       6| 12/3/10 15:14|     2.95|     12793|       Portugal|      16180.0|                         13|\n",
      "|   539318|    84992|72 SWEETHEART FAI...|      72|12/16/10 19:09|     0.55|     12348|        Finland|      10666.0|                         14|\n",
      "|   538002|    22690|DOORMAT HOME SWEE...|       2| 12/9/10 11:48|     7.95|     14932|Channel Islands|       9479.0|                         15|\n",
      "|   538003|    22847|BREAD BIN DINER S...|       8| 12/9/10 12:05|    14.95|     12429|        Denmark|       8188.0|                         16|\n",
      "|   537022|    22791|T-LIGHT GLASS FLU...|      12| 12/3/10 15:45|     1.25|     12725|          Italy|       7999.0|                         17|\n",
      "|   538826|   85123A|WHITE HANGING HEA...|      64|12/14/10 12:58|     2.55|     12370|         Cyprus|       6317.0|                         18|\n",
      "|   542102|    21519|GIN & TONIC DIET ...|      72| 1/25/11 13:26|     0.36|     12744|      Singapore|       5234.0|                         19|\n",
      "|  C538971|    22153|ANGEL DECORATION ...|     -48|12/15/10 11:39|     0.42|     12865|        Austria|       4827.0|                         20|\n",
      "+---------+---------+--------------------+--------+--------------+---------+----------+---------------+-------------+---------------------------+\n",
      "only showing top 20 rows\n",
      "\n"
     ]
    }
   ],
   "source": [
    "#cach 1:\n",
    "sort_don_hang_theo_quoc_gia_window = Window.orderBy(desc(\"tong_don_hang\"))\n",
    "rank_don_hang_theo_quoc_gia_df = tong_don_hang_theo_quoc_gia_df.withColumn(\"rank_don_hang_theo_quoc_gia\", row_number().over(sort_don_hang_theo_quoc_gia_window))\n",
    "rank_don_hang_theo_quoc_gia_df.show()"
   ]
  },
  {
   "cell_type": "code",
   "execution_count": 25,
   "metadata": {},
   "outputs": [
    {
     "name": "stdout",
     "output_type": "stream",
     "text": [
      "+---------+---------+--------------------+--------+-------------+---------+----------+-------+-------------+---------------------------+\n",
      "|InvoiceNo|StockCode|         Description|Quantity|  InvoiceDate|UnitPrice|CustomerID|Country|tong_don_hang|rank_don_hang_theo_quoc_gia|\n",
      "+---------+---------+--------------------+--------+-------------+---------+----------+-------+-------------+---------------------------+\n",
      "|   536540|    22968|ROSE COTTAGE KEEP...|       4|12/1/10 14:05|     9.95|     14911|   EIRE|     142637.0|                          3|\n",
      "+---------+---------+--------------------+--------+-------------+---------+----------+-------+-------------+---------------------------+\n",
      "\n"
     ]
    }
   ],
   "source": [
    "rank_don_hang_theo_quoc_gia_df.filter(rank_don_hang_theo_quoc_gia_df[\"rank_don_hang_theo_quoc_gia\"] == 3).show()"
   ]
  },
  {
   "cell_type": "code",
   "execution_count": 31,
   "metadata": {},
   "outputs": [
    {
     "name": "stdout",
     "output_type": "stream",
     "text": [
      "Row(InvoiceNo='536540', StockCode='22968', Description='ROSE COTTAGE KEEPSAKE BOX ', Quantity='4', InvoiceDate='12/1/10 14:05', UnitPrice='9.95', CustomerID='14911', Country='EIRE', tong_don_hang=142637.0)\n"
     ]
    }
   ],
   "source": [
    "#cach 2:\n",
    "tong_don_hang_theo_quoc_gia_df.orderBy(desc(\"tong_don_hang\")).limit(3).collect()[2]"
   ]
  },
  {
   "cell_type": "code",
   "execution_count": 32,
   "metadata": {},
   "outputs": [
    {
     "name": "stdout",
     "output_type": "stream",
     "text": [
      "+---------+---------+--------------------+--------+-------------+---------+----------+-------+-------------+\n",
      "|InvoiceNo|StockCode|         Description|Quantity|  InvoiceDate|UnitPrice|CustomerID|Country|tong_don_hang|\n",
      "+---------+---------+--------------------+--------+-------------+---------+----------+-------+-------------+\n",
      "|   536540|    22968|ROSE COTTAGE KEEP...|       4|12/1/10 14:05|     9.95|     14911|   EIRE|     142637.0|\n",
      "+---------+---------+--------------------+--------+-------------+---------+----------+-------+-------------+\n",
      "only showing top 1 row\n",
      "\n"
     ]
    }
   ],
   "source": [
    "#dep hon:\n",
    "tong_don_hang_theo_quoc_gia_df.orderBy(desc(\"tong_don_hang\")).limit(3).orderBy(\"tong_don_hang\").show(1)"
   ]
  },
  {
   "cell_type": "markdown",
   "metadata": {},
   "source": [
    "### 4. Từ nào xuất hiện ít nhất trong phần Description?"
   ]
  },
  {
   "cell_type": "code",
   "execution_count": 42,
   "metadata": {},
   "outputs": [
    {
     "name": "stdout",
     "output_type": "stream",
     "text": [
      "+-----------+-----+\n",
      "|       word|count|\n",
      "+-----------+-----+\n",
      "|        BOX|24403|\n",
      "|   SHOULDER| 1610|\n",
      "|        OWL| 2099|\n",
      "|       CARS| 1197|\n",
      "|     LITTLE|  587|\n",
      "|       S/15|   64|\n",
      "|     BADGES|  485|\n",
      "|       JADE|   42|\n",
      "|   SOMBRERO|   61|\n",
      "|      SAVOY|   66|\n",
      "|       BAND|   61|\n",
      "|         LT|   15|\n",
      "|   BIRTHDAY| 6123|\n",
      "|CANDLESTICK|  336|\n",
      "|    DOILIES| 2561|\n",
      "|       TAGS| 1387|\n",
      "|   SPORTING|  214|\n",
      "|      \"\"J\"\"|   41|\n",
      "|     BEWARE|  458|\n",
      "|     ISLAND|  286|\n",
      "+-----------+-----+\n",
      "only showing top 20 rows\n",
      "\n"
     ]
    }
   ],
   "source": [
    "# explode() nhan vao cot(cac hang cua cot la cac mang), tra ve cot(moi hang cua cot la mot phan tu trong mang)\n",
    "# split(column, ky tu phan tach)\n",
    "word_group = retail_df.select(explode(split(retail_df[\"Description\"], \" \")).alias(\"word\")).groupBy([\"word\"]).count()\n"
   ]
  },
  {
   "cell_type": "code",
   "execution_count": 49,
   "metadata": {},
   "outputs": [
    {
     "name": "stdout",
     "output_type": "stream",
     "text": [
      "+---------------+-----+\n",
      "|           word|count|\n",
      "+---------------+-----+\n",
      "|      LOVEHEART|    1|\n",
      "|          Given|    1|\n",
      "|           1.8M|    1|\n",
      "|          WRAPS|    1|\n",
      "|          ?lost|    1|\n",
      "|             re|    1|\n",
      "|samples/damages|    1|\n",
      "|            sit|    1|\n",
      "|            6's|    1|\n",
      "|         BANNER|    1|\n",
      "|           Ipod|    1|\n",
      "|damages/display|    1|\n",
      "|            fix|    1|\n",
      "|     CAKESTAND,|    1|\n",
      "|            OOH|    1|\n",
      "|    made-thrown|    1|\n",
      "|          sell.|    1|\n",
      "|        OPULENT|    1|\n",
      "|             be|    1|\n",
      "|        cracked|    1|\n",
      "+---------------+-----+\n",
      "only showing top 20 rows\n",
      "\n"
     ]
    }
   ],
   "source": [
    "word_group.filter(word_group[\"count\"] == 1).show()"
   ]
  },
  {
   "cell_type": "markdown",
   "metadata": {},
   "source": [
    "### 5. Sản phẩm nào bán được số lượng (Quantity) lớn nhất ở United Kingdom?"
   ]
  },
  {
   "cell_type": "code",
   "execution_count": 54,
   "metadata": {},
   "outputs": [],
   "source": [
    "temp_retail_df = retail_df.withColumn(\"Quantity\", retail_df[\"Quantity\"].cast(\"int\"))"
   ]
  },
  {
   "cell_type": "code",
   "execution_count": 59,
   "metadata": {},
   "outputs": [
    {
     "name": "stdout",
     "output_type": "stream",
     "text": [
      "+--------------+-------------+\n",
      "|       Country|max(Quantity)|\n",
      "+--------------+-------------+\n",
      "|United Kingdom|        80995|\n",
      "+--------------+-------------+\n",
      "\n"
     ]
    }
   ],
   "source": [
    "temp_retail_df.groupBy(\"Country\").max(\"Quantity\").filter(temp_retail_df[\"Country\"] == \"United Kingdom\").show()"
   ]
  },
  {
   "cell_type": "code",
   "execution_count": 61,
   "metadata": {},
   "outputs": [],
   "source": [
    "ss.stop()"
   ]
  }
 ],
 "metadata": {
  "kernelspec": {
   "display_name": "Python 3",
   "language": "python",
   "name": "python3"
  },
  "language_info": {
   "codemirror_mode": {
    "name": "ipython",
    "version": 3
   },
   "file_extension": ".py",
   "mimetype": "text/x-python",
   "name": "python",
   "nbconvert_exporter": "python",
   "pygments_lexer": "ipython3",
   "version": "3.10.4"
  }
 },
 "nbformat": 4,
 "nbformat_minor": 2
}

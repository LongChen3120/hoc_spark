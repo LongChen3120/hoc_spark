{
 "cells": [
  {
   "cell_type": "markdown",
   "metadata": {},
   "source": [
    "# bai toan cho tap du lieu csv: \n",
    "D:/Python/2024/test_hadoop/hoc_spark/Orders.csv\n",
    "- tao cot moi ten la total_price la gia tri cua product price * quantity\n",
    "- sua gia tri trong product price: \n",
    "    - neu product name san pham la Canon thi tang gia san pham len 20%\n",
    "    - neu la Xerox thi tang gia len 50%\n",
    "    - cac san pham khac giu nguyen gia"
   ]
  },
  {
   "cell_type": "code",
   "execution_count": 119,
   "metadata": {},
   "outputs": [],
   "source": [
    "from pyspark.sql import SparkSession\n",
    "from pyspark.sql.functions import *\n",
    "from pyspark.sql.types import *"
   ]
  },
  {
   "cell_type": "code",
   "execution_count": 17,
   "metadata": {},
   "outputs": [],
   "source": [
    "ss = SparkSession.builder.appName(\"dataframe 3\").getOrCreate()"
   ]
  },
  {
   "cell_type": "code",
   "execution_count": 24,
   "metadata": {},
   "outputs": [],
   "source": [
    "schema_struct = StructType([\n",
    "    StructField(\"catelogy\", StringType()),\n",
    "    StructField(\"name\", StringType()),\n",
    "    StructField(\"price\", FloatType()),\n",
    "    StructField(\"quantity\", IntegerType())\n",
    "])"
   ]
  },
  {
   "cell_type": "code",
   "execution_count": 36,
   "metadata": {},
   "outputs": [],
   "source": [
    "df = ss.read \\\n",
    "    .format(\"csv\") \\\n",
    "    .option(\"header\", \"False\") \\\n",
    "    .schema(schema_struct) \\\n",
    "    .load(\"D:/Python/2024/test_hadoop/hoc_spark/data/products.csv\")"
   ]
  },
  {
   "cell_type": "code",
   "execution_count": 41,
   "metadata": {},
   "outputs": [
    {
     "name": "stdout",
     "output_type": "stream",
     "text": [
      "root\n",
      " |-- catelogy: string (nullable = true)\n",
      " |-- name: string (nullable = true)\n",
      " |-- price: float (nullable = true)\n",
      " |-- quantity: integer (nullable = true)\n",
      "\n"
     ]
    }
   ],
   "source": [
    "df.printSchema()"
   ]
  },
  {
   "cell_type": "code",
   "execution_count": 43,
   "metadata": {},
   "outputs": [],
   "source": [
    "df = df.withColumn(\"total_price\", col(\"price\") * col(\"quantity\"))"
   ]
  },
  {
   "cell_type": "code",
   "execution_count": 75,
   "metadata": {},
   "outputs": [
    {
     "name": "stdout",
     "output_type": "stream",
     "text": [
      "+---------------+--------------------+------+--------+-----------+----------+\n",
      "|       catelogy|                name| price|quantity|total_price|total_demo|\n",
      "+---------------+--------------------+------+--------+-----------+----------+\n",
      "|Office Supplies|            Avery 49|  2.88|       2|       5.76|      5.76|\n",
      "|Office Supplies|SANFORD Liquid Ac...|  2.84|       4|      11.36|     11.36|\n",
      "|Office Supplies|          Xerox 1968|  6.68|       7|      46.76|     46.76|\n",
      "|Office Supplies|Acme� Preferred S...|  5.68|       7|      39.76|     39.76|\n",
      "|     Technology|                 V70|205.99|       8|    1647.92|   1647.92|\n",
      "|Office Supplies|           Xerox 194| 55.48|      37|    2052.76|   2052.76|\n",
      "|     Technology|Canon S750 Color ...|120.97|      12|    1451.64|   1451.64|\n",
      "|      Furniture|Global Troy� Exec...|500.98|      12|  6011.7603| 6011.7603|\n",
      "|Office Supplies|          Xerox 1930|  6.48|      18|     116.64|    116.64|\n",
      "|Office Supplies|Kensington 6 Outl...| 90.24|      16|    1443.84|   1443.84|\n",
      "|Office Supplies|            Xerox 21|  6.48|       4|      25.92|     25.92|\n",
      "|Office Supplies|*Staples* Highlig...|  4.84|      17|      82.28|     82.28|\n",
      "|     Technology|         Accessory34| 85.99|      24|    2063.76|   2063.76|\n",
      "|Office Supplies|          Xerox 1933| 12.28|      19|  233.31999| 233.31999|\n",
      "|      Furniture|Sauder Forest Hil...|140.98|       5|  704.89996| 704.89996|\n",
      "|      Furniture|Riverside Furnitu...|286.85|       8|     2294.8|    2294.8|\n",
      "|Office Supplies|Park Ridge� Embos...| 15.57|      14|     217.98|    217.98|\n",
      "|      Furniture|DAX Two-Tone Rose...|  9.48|      22|     208.56|    208.56|\n",
      "|Office Supplies|Fiskars� Softgrip...| 10.98|       8|      87.84|     87.84|\n",
      "|      Furniture|Howard Miller 12-...| 78.69|      16|    1259.04|   1259.04|\n",
      "+---------------+--------------------+------+--------+-----------+----------+\n",
      "only showing top 20 rows\n",
      "\n"
     ]
    }
   ],
   "source": [
    "df.select(\"*\", expr(\"price * quantity as total_demo\")).show()"
   ]
  },
  {
   "cell_type": "code",
   "execution_count": 77,
   "metadata": {},
   "outputs": [
    {
     "name": "stdout",
     "output_type": "stream",
     "text": [
      "+---------------+----------------------------------------------+------+--------+-----------+\n",
      "|catelogy       |name                                          |price |quantity|total_price|\n",
      "+---------------+----------------------------------------------+------+--------+-----------+\n",
      "|Office Supplies|Avery 49                                      |2.88  |2       |5.76       |\n",
      "|Office Supplies|SANFORD Liquid Accent� Tank-Style Highlighters|2.84  |4       |11.36      |\n",
      "|Office Supplies|Xerox 1968                                    |6.68  |7       |46.76      |\n",
      "|Office Supplies|Acme� Preferred Stainless Steel Scissors      |5.68  |7       |39.76      |\n",
      "|Technology     |V70                                           |205.99|8       |1647.92    |\n",
      "+---------------+----------------------------------------------+------+--------+-----------+\n",
      "only showing top 5 rows\n",
      "\n"
     ]
    }
   ],
   "source": [
    "df.show(5, False)"
   ]
  },
  {
   "cell_type": "code",
   "execution_count": 114,
   "metadata": {},
   "outputs": [
    {
     "name": "stdout",
     "output_type": "stream",
     "text": [
      "+---------------+--------------------+------+--------+-----------+------------------+\n",
      "|       catelogy|                name| price|quantity|total_price|         price_new|\n",
      "+---------------+--------------------+------+--------+-----------+------------------+\n",
      "|Office Supplies|            Avery 49|  2.88|       2|       5.76| 2.880000114440918|\n",
      "|Office Supplies|SANFORD Liquid Ac...|  2.84|       4|      11.36|2.8399999141693115|\n",
      "|Office Supplies|          Xerox 1968|  6.68|       7|      46.76|10.019999742507935|\n",
      "|Office Supplies|Acme� Preferred S...|  5.68|       7|      39.76| 5.679999828338623|\n",
      "|     Technology|                 V70|205.99|       8|    1647.92|205.99000549316406|\n",
      "|Office Supplies|           Xerox 194| 55.48|      37|    2052.76| 83.21999931335449|\n",
      "|     Technology|Canon S750 Color ...|120.97|      12|    1451.64|145.16400146484375|\n",
      "|      Furniture|Global Troy� Exec...|500.98|      12|  6011.7603| 500.9800109863281|\n",
      "|Office Supplies|          Xerox 1930|  6.48|      18|     116.64|  9.72000002861023|\n",
      "|Office Supplies|Kensington 6 Outl...| 90.24|      16|    1443.84| 90.23999786376953|\n",
      "|Office Supplies|            Xerox 21|  6.48|       4|      25.92|  9.72000002861023|\n",
      "|Office Supplies|*Staples* Highlig...|  4.84|      17|      82.28| 4.840000152587891|\n",
      "|     Technology|         Accessory34| 85.99|      24|    2063.76| 85.98999786376953|\n",
      "|Office Supplies|          Xerox 1933| 12.28|      19|  233.31999|18.419999599456787|\n",
      "|      Furniture|Sauder Forest Hil...|140.98|       5|  704.89996|140.97999572753906|\n",
      "|      Furniture|Riverside Furnitu...|286.85|       8|     2294.8| 286.8500061035156|\n",
      "|Office Supplies|Park Ridge� Embos...| 15.57|      14|     217.98|15.569999694824219|\n",
      "|      Furniture|DAX Two-Tone Rose...|  9.48|      22|     208.56| 9.479999542236328|\n",
      "|Office Supplies|Fiskars� Softgrip...| 10.98|       8|      87.84|10.979999542236328|\n",
      "|      Furniture|Howard Miller 12-...| 78.69|      16|    1259.04| 78.69000244140625|\n",
      "+---------------+--------------------+------+--------+-----------+------------------+\n",
      "only showing top 20 rows\n",
      "\n"
     ]
    }
   ],
   "source": [
    "df.withColumn(\"price_new\", \n",
    "              when(col(\"name\").contains(\"Canon\"), col(\"price\") * 1.2)\n",
    "              .when(col(\"name\").contains(\"Xerox\"), col(\"price\") * 1.5)\n",
    "              .otherwise(col(\"price\"))).show()"
   ]
  },
  {
   "cell_type": "code",
   "execution_count": 121,
   "metadata": {},
   "outputs": [
    {
     "name": "stdout",
     "output_type": "stream",
     "text": [
      "+---------------+--------------------+------+--------+-----------+------------------+\n",
      "|       catelogy|                name| price|quantity|total_price|         price_new|\n",
      "+---------------+--------------------+------+--------+-----------+------------------+\n",
      "|Office Supplies|            Avery 49|  2.88|       2|       5.76| 2.880000114440918|\n",
      "|Office Supplies|SANFORD Liquid Ac...|  2.84|       4|      11.36|2.8399999141693115|\n",
      "|Office Supplies|          Xerox 1968|  6.68|       7|      46.76|             10.02|\n",
      "|Office Supplies|Acme� Preferred S...|  5.68|       7|      39.76| 5.679999828338623|\n",
      "|     Technology|                 V70|205.99|       8|    1647.92|205.99000549316406|\n",
      "|Office Supplies|           Xerox 194| 55.48|      37|    2052.76|             83.22|\n",
      "|     Technology|Canon S750 Color ...|120.97|      12|    1451.64|            145.16|\n",
      "|      Furniture|Global Troy� Exec...|500.98|      12|  6011.7603| 500.9800109863281|\n",
      "|Office Supplies|          Xerox 1930|  6.48|      18|     116.64|              9.72|\n",
      "|Office Supplies|Kensington 6 Outl...| 90.24|      16|    1443.84| 90.23999786376953|\n",
      "|Office Supplies|            Xerox 21|  6.48|       4|      25.92|              9.72|\n",
      "|Office Supplies|*Staples* Highlig...|  4.84|      17|      82.28| 4.840000152587891|\n",
      "|     Technology|         Accessory34| 85.99|      24|    2063.76| 85.98999786376953|\n",
      "|Office Supplies|          Xerox 1933| 12.28|      19|  233.31999|             18.42|\n",
      "|      Furniture|Sauder Forest Hil...|140.98|       5|  704.89996|140.97999572753906|\n",
      "|      Furniture|Riverside Furnitu...|286.85|       8|     2294.8| 286.8500061035156|\n",
      "|Office Supplies|Park Ridge� Embos...| 15.57|      14|     217.98|15.569999694824219|\n",
      "|      Furniture|DAX Two-Tone Rose...|  9.48|      22|     208.56| 9.479999542236328|\n",
      "|Office Supplies|Fiskars� Softgrip...| 10.98|       8|      87.84|10.979999542236328|\n",
      "|      Furniture|Howard Miller 12-...| 78.69|      16|    1259.04| 78.69000244140625|\n",
      "+---------------+--------------------+------+--------+-----------+------------------+\n",
      "only showing top 20 rows\n",
      "\n"
     ]
    }
   ],
   "source": [
    "df.withColumn(\"price_new\", \n",
    "              when(col(\"name\").contains(\"Canon\"), hii(col(\"price\") * 1.2, 2))\n",
    "              .when(col(\"name\").contains(\"Xerox\"), hii(col(\"price\") * 1.5, 2))\n",
    "              .otherwise(hii(col(\"price\"), 2))).show()"
   ]
  },
  {
   "cell_type": "code",
   "execution_count": null,
   "metadata": {},
   "outputs": [],
   "source": []
  }
 ],
 "metadata": {
  "kernelspec": {
   "display_name": "Python 3",
   "language": "python",
   "name": "python3"
  },
  "language_info": {
   "codemirror_mode": {
    "name": "ipython",
    "version": 3
   },
   "file_extension": ".py",
   "mimetype": "text/x-python",
   "name": "python",
   "nbconvert_exporter": "python",
   "pygments_lexer": "ipython3",
   "version": "3.10.4"
  }
 },
 "nbformat": 4,
 "nbformat_minor": 2
}

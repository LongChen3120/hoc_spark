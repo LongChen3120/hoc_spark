{
 "cells": [
  {
   "cell_type": "markdown",
   "metadata": {},
   "source": [
    "# Tạo DataFrame mẫu\n",
    "data = [\n",
    "    (\"Phòng A\", \"Nhân viên 1\", 3000),\n",
    "    (\"Phòng A\", \"Nhân viên 2\", 4600),\n",
    "    (\"Phòng A\", \"Nhân viên 3\", 4100),\n",
    "    (\"Phòng B\", \"Nhân viên 4\", 2500),\n",
    "    (\"Phòng B\", \"Nhân viên 5\", 3600),\n",
    "    (\"Phòng B\", \"Nhân viên 6\", 3300),\n",
    "    (\"Phòng C\", \"Nhân viên 7\", 5200),\n",
    "    (\"Phòng C\", \"Nhân viên 8\", 5400),\n",
    "]\n",
    "columns = [\"Phòng ban\", \"Tên nhân viên\", \"Lương\"]\n",
    "1. Tính số thứ tự của mỗi nhân viên khi được sắp xếp theo lương trong phòng ban của họ.\n",
    "   \n",
    "2. Tính mức lương trung bình trong từng phòng ban và mức chênh lệch lương của mỗi nhân viên so với mức trung bình đó.\n",
    "\n",
    "3. Xác định người có mức lương cao nhất và thấp nhất trong mỗi phòng ban.\n",
    "\n",
    "4. Tính mức lương lớn thứ hai trong từng phòng ban.\n",
    "\n",
    "5. Sử dụng hàm lead() để so sánh mức lương của mỗi nhân viên với nhân viên tiếp theo trong cùng phòng ban dựa trên thứ tự sắp xếp lương.\n",
    "\n",
    "6. Sử dụng hàm lag() để so sánh mức lương của mỗi nhân viên với nhân viên trước đó trong cùng phòng ban.\n",
    "\n",
    "7. Xác định phòng ban nào có tổng lương cao nhất.\n",
    "\n",
    "8. Tính tổng lương lũy kế của từng nhân viên trong phòng ban của họ, sắp xếp theo thứ tự lương tăng dần.\n",
    "\n",
    "9. Sử dụng cume_dist để xác định tỷ lệ phần trăm các nhân viên có mức lương thấp hơn so với mỗi nhân viên trong phòng ban của họ.\n",
    "\n",
    "10. Sử dụng hàm percent_rank() để xác định xếp hạng phần trăm của mỗi nhân viên trong phòng ban của họ dựa trên mức lương. "
   ]
  },
  {
   "cell_type": "markdown",
   "metadata": {},
   "source": [
    "### 0. khoi tao dataframe"
   ]
  },
  {
   "cell_type": "code",
   "execution_count": 1,
   "metadata": {},
   "outputs": [],
   "source": [
    "from pyspark.sql import SparkSession"
   ]
  },
  {
   "cell_type": "code",
   "execution_count": 2,
   "metadata": {},
   "outputs": [],
   "source": [
    "from pyspark.sql.window import Window"
   ]
  },
  {
   "cell_type": "code",
   "execution_count": 3,
   "metadata": {},
   "outputs": [],
   "source": [
    "from pyspark.sql.functions import *"
   ]
  },
  {
   "cell_type": "code",
   "execution_count": 4,
   "metadata": {},
   "outputs": [],
   "source": [
    "ss = SparkSession.builder \\\n",
    "    .appName(\"window\") \\\n",
    "    .master(\"local[*]\") \\\n",
    "    .getOrCreate()"
   ]
  },
  {
   "cell_type": "code",
   "execution_count": 5,
   "metadata": {},
   "outputs": [],
   "source": [
    "data = [\n",
    "    (\"Phòng A\", \"Nhân viên 1\", 3000),\n",
    "    (\"Phòng A\", \"Nhân viên 2\", 4600),\n",
    "    (\"Phòng A\", \"Nhân viên 3\", 4100),\n",
    "    (\"Phòng B\", \"Nhân viên 4\", 2500),\n",
    "    (\"Phòng B\", \"Nhân viên 5\", 3600),\n",
    "    (\"Phòng B\", \"Nhân viên 6\", 3300),\n",
    "    (\"Phòng C\", \"Nhân viên 7\", 5200),\n",
    "    (\"Phòng C\", \"Nhân viên 8\", 5400),\n",
    "]\n",
    "columns = [\"phong_ban\", \"ten_nhan_vien\", \"luong\"]\n",
    "salary_df = ss.createDataFrame(data, columns)"
   ]
  },
  {
   "cell_type": "code",
   "execution_count": 6,
   "metadata": {},
   "outputs": [
    {
     "name": "stdout",
     "output_type": "stream",
     "text": [
      "+---------+-------------+-----+\n",
      "|phong_ban|ten_nhan_vien|luong|\n",
      "+---------+-------------+-----+\n",
      "|  Phòng A|  Nhân viên 1| 3000|\n",
      "|  Phòng A|  Nhân viên 2| 4600|\n",
      "|  Phòng A|  Nhân viên 3| 4100|\n",
      "|  Phòng B|  Nhân viên 4| 2500|\n",
      "|  Phòng B|  Nhân viên 5| 3600|\n",
      "|  Phòng B|  Nhân viên 6| 3300|\n",
      "|  Phòng C|  Nhân viên 7| 5200|\n",
      "|  Phòng C|  Nhân viên 8| 5400|\n",
      "+---------+-------------+-----+\n",
      "\n"
     ]
    }
   ],
   "source": [
    "salary_df.show()"
   ]
  },
  {
   "cell_type": "markdown",
   "metadata": {},
   "source": [
    "### 1. Tính số thứ tự của mỗi nhân viên khi được sắp xếp theo lương trong phòng ban của họ."
   ]
  },
  {
   "cell_type": "code",
   "execution_count": 64,
   "metadata": {},
   "outputs": [],
   "source": [
    "sx_luong_theo_phong_ban_giam_dan_window = Window.partitionBy(\"phong_ban\").orderBy(desc(\"luong\"))\n",
    "sx_luong_theo_phong_ban_tang_dan_window = Window.partitionBy(\"phong_ban\").orderBy(asc(\"luong\"))"
   ]
  },
  {
   "cell_type": "code",
   "execution_count": 65,
   "metadata": {},
   "outputs": [],
   "source": [
    "rank_demo = row_number().over(sx_luong_theo_phong_ban_giam_dan_window) # row_number() la 1 ham cua so danh so thu tu, su dung cho 1 cua so. tra ve cot"
   ]
  },
  {
   "cell_type": "code",
   "execution_count": 66,
   "metadata": {},
   "outputs": [],
   "source": [
    "sx_theo_luong_df = salary_df.withColumn(\"rank_luong_theo_phong_giam_dan\", rank_demo)\n",
    "sx_theo_luong_tang_dan_df = salary_df.withColumn(\"rank_luong_theo_phong_tang_dan\", row_number().over(sx_luong_theo_phong_ban_tang_dan_window))"
   ]
  },
  {
   "cell_type": "code",
   "execution_count": 62,
   "metadata": {},
   "outputs": [
    {
     "name": "stdout",
     "output_type": "stream",
     "text": [
      "+---------+-------------+-----+------------------------------+\n",
      "|phong_ban|ten_nhan_vien|luong|rank_luong_theo_phong_giam_dan|\n",
      "+---------+-------------+-----+------------------------------+\n",
      "|  Phòng A|  Nhân viên 2| 4600|                             1|\n",
      "|  Phòng A|  Nhân viên 3| 4100|                             2|\n",
      "|  Phòng A|  Nhân viên 1| 3000|                             3|\n",
      "|  Phòng B|  Nhân viên 5| 3600|                             1|\n",
      "|  Phòng B|  Nhân viên 6| 3300|                             2|\n",
      "|  Phòng B|  Nhân viên 4| 2500|                             3|\n",
      "|  Phòng C|  Nhân viên 8| 5400|                             1|\n",
      "|  Phòng C|  Nhân viên 7| 5200|                             2|\n",
      "+---------+-------------+-----+------------------------------+\n",
      "\n",
      "+---------+-------------+-----+------------------------------+\n",
      "|phong_ban|ten_nhan_vien|luong|rank_luong_theo_phong_tang_dan|\n",
      "+---------+-------------+-----+------------------------------+\n",
      "|  Phòng A|  Nhân viên 1| 3000|                             1|\n",
      "|  Phòng A|  Nhân viên 3| 4100|                             2|\n",
      "|  Phòng A|  Nhân viên 2| 4600|                             3|\n",
      "|  Phòng B|  Nhân viên 4| 2500|                             1|\n",
      "|  Phòng B|  Nhân viên 6| 3300|                             2|\n",
      "|  Phòng B|  Nhân viên 5| 3600|                             3|\n",
      "|  Phòng C|  Nhân viên 7| 5200|                             1|\n",
      "|  Phòng C|  Nhân viên 8| 5400|                             2|\n",
      "+---------+-------------+-----+------------------------------+\n",
      "\n"
     ]
    }
   ],
   "source": [
    "sx_theo_luong_df.show()\n",
    "sx_theo_luong_tang_dan_df.show()"
   ]
  },
  {
   "cell_type": "markdown",
   "metadata": {},
   "source": [
    "### 2. Tính mức lương trung bình trong từng phòng ban và mức chênh lệch lương của mỗi nhân viên so với mức trung bình đó.\n"
   ]
  },
  {
   "cell_type": "code",
   "execution_count": 25,
   "metadata": {},
   "outputs": [],
   "source": [
    "window_phong_ban = Window.partitionBy(\"phong_ban\")"
   ]
  },
  {
   "cell_type": "code",
   "execution_count": 26,
   "metadata": {},
   "outputs": [],
   "source": [
    "avg_demo =avg(salary_df[\"luong\"]).over(window_phong_ban)"
   ]
  },
  {
   "cell_type": "code",
   "execution_count": 29,
   "metadata": {},
   "outputs": [],
   "source": [
    "luong_tb_theo_phong_ban_df = salary_df.withColumn(\"luong_tb_theo_phong_ban\", avg_demo)"
   ]
  },
  {
   "cell_type": "code",
   "execution_count": 31,
   "metadata": {},
   "outputs": [
    {
     "name": "stdout",
     "output_type": "stream",
     "text": [
      "+---------+-------------+-----+-----------------------+\n",
      "|phong_ban|ten_nhan_vien|luong|luong_tb_theo_phong_ban|\n",
      "+---------+-------------+-----+-----------------------+\n",
      "|  Phòng A|  Nhân viên 1| 3000|                 3900.0|\n",
      "|  Phòng A|  Nhân viên 2| 4600|                 3900.0|\n",
      "|  Phòng A|  Nhân viên 3| 4100|                 3900.0|\n",
      "|  Phòng B|  Nhân viên 4| 2500|     3133.3333333333335|\n",
      "|  Phòng B|  Nhân viên 5| 3600|     3133.3333333333335|\n",
      "|  Phòng B|  Nhân viên 6| 3300|     3133.3333333333335|\n",
      "|  Phòng C|  Nhân viên 7| 5200|                 5300.0|\n",
      "|  Phòng C|  Nhân viên 8| 5400|                 5300.0|\n",
      "+---------+-------------+-----+-----------------------+\n",
      "\n"
     ]
    }
   ],
   "source": [
    "luong_tb_theo_phong_ban_df.show()"
   ]
  },
  {
   "cell_type": "code",
   "execution_count": 39,
   "metadata": {},
   "outputs": [],
   "source": [
    "chenh_luong_so_voi_luong_trung_binh_col = round(luong_tb_theo_phong_ban_df[\"luong\"] - luong_tb_theo_phong_ban_df[\"luong_tb_theo_phong_ban\"], 2)"
   ]
  },
  {
   "cell_type": "code",
   "execution_count": 40,
   "metadata": {},
   "outputs": [],
   "source": [
    "chenh_luong_so_voi_luong_trung_binh_df = luong_tb_theo_phong_ban_df.withColumn(\"chenh_luong_so_voi_luong_trung_binh\", chenh_luong_so_voi_luong_trung_binh_col)"
   ]
  },
  {
   "cell_type": "code",
   "execution_count": 41,
   "metadata": {},
   "outputs": [
    {
     "name": "stdout",
     "output_type": "stream",
     "text": [
      "+---------+-------------+-----+-----------------------+-----------------------------------+\n",
      "|phong_ban|ten_nhan_vien|luong|luong_tb_theo_phong_ban|chenh_luong_so_voi_luong_trung_binh|\n",
      "+---------+-------------+-----+-----------------------+-----------------------------------+\n",
      "|  Phòng A|  Nhân viên 1| 3000|                 3900.0|                             -900.0|\n",
      "|  Phòng A|  Nhân viên 2| 4600|                 3900.0|                              700.0|\n",
      "|  Phòng A|  Nhân viên 3| 4100|                 3900.0|                              200.0|\n",
      "|  Phòng B|  Nhân viên 4| 2500|     3133.3333333333335|                            -633.33|\n",
      "|  Phòng B|  Nhân viên 5| 3600|     3133.3333333333335|                             466.67|\n",
      "|  Phòng B|  Nhân viên 6| 3300|     3133.3333333333335|                             166.67|\n",
      "|  Phòng C|  Nhân viên 7| 5200|                 5300.0|                             -100.0|\n",
      "|  Phòng C|  Nhân viên 8| 5400|                 5300.0|                              100.0|\n",
      "+---------+-------------+-----+-----------------------+-----------------------------------+\n",
      "\n"
     ]
    }
   ],
   "source": [
    "chenh_luong_so_voi_luong_trung_binh_df.show()"
   ]
  },
  {
   "cell_type": "markdown",
   "metadata": {},
   "source": [
    "### 3. Xác định người có mức lương cao nhất và thấp nhất trong mỗi phòng ban.\n"
   ]
  },
  {
   "cell_type": "code",
   "execution_count": 52,
   "metadata": {},
   "outputs": [],
   "source": [
    "luong_cao_nhat_theo_phong_ban = sx_theo_luong_df.where(sx_theo_luong_df[\"rank_luong_theo_phong_giam_dan\"] == 1).drop(\"rank_luong_theo_phong_giam_dan\")"
   ]
  },
  {
   "cell_type": "code",
   "execution_count": 53,
   "metadata": {},
   "outputs": [
    {
     "name": "stdout",
     "output_type": "stream",
     "text": [
      "+---------+-------------+-----+\n",
      "|phong_ban|ten_nhan_vien|luong|\n",
      "+---------+-------------+-----+\n",
      "|  Phòng A|  Nhân viên 2| 4600|\n",
      "|  Phòng B|  Nhân viên 5| 3600|\n",
      "|  Phòng C|  Nhân viên 8| 5400|\n",
      "+---------+-------------+-----+\n",
      "\n"
     ]
    }
   ],
   "source": [
    "luong_cao_nhat_theo_phong_ban.show()"
   ]
  },
  {
   "cell_type": "code",
   "execution_count": 56,
   "metadata": {},
   "outputs": [],
   "source": [
    "luong_cao_nhat_theo_phong_ban_2 = sx_theo_luong_df.filter(sx_theo_luong_df[\"rank_luong_theo_phong_giam_dan\"] == 1).drop(\"rank_luong_theo_phong_giam_dan\")"
   ]
  },
  {
   "cell_type": "code",
   "execution_count": 57,
   "metadata": {},
   "outputs": [
    {
     "name": "stdout",
     "output_type": "stream",
     "text": [
      "+---------+-------------+-----+\n",
      "|phong_ban|ten_nhan_vien|luong|\n",
      "+---------+-------------+-----+\n",
      "|  Phòng A|  Nhân viên 2| 4600|\n",
      "|  Phòng B|  Nhân viên 5| 3600|\n",
      "|  Phòng C|  Nhân viên 8| 5400|\n",
      "+---------+-------------+-----+\n",
      "\n"
     ]
    }
   ],
   "source": [
    "luong_cao_nhat_theo_phong_ban_2.show()"
   ]
  },
  {
   "cell_type": "markdown",
   "metadata": {},
   "source": [
    "### 4. Tính mức lương lớn thứ hai trong từng phòng ban.\n"
   ]
  },
  {
   "cell_type": "code",
   "execution_count": 58,
   "metadata": {},
   "outputs": [],
   "source": [
    "luong_cao_t2_theo_phong_ban = sx_theo_luong_df.where(sx_theo_luong_df[\"rank_luong_theo_phong_giam_dan\"] == 2).drop(\"rank_luong_theo_phong_giam_dan\")"
   ]
  },
  {
   "cell_type": "code",
   "execution_count": 59,
   "metadata": {},
   "outputs": [
    {
     "name": "stdout",
     "output_type": "stream",
     "text": [
      "+---------+-------------+-----+\n",
      "|phong_ban|ten_nhan_vien|luong|\n",
      "+---------+-------------+-----+\n",
      "|  Phòng A|  Nhân viên 3| 4100|\n",
      "|  Phòng B|  Nhân viên 6| 3300|\n",
      "|  Phòng C|  Nhân viên 7| 5200|\n",
      "+---------+-------------+-----+\n",
      "\n"
     ]
    }
   ],
   "source": [
    "luong_cao_t2_theo_phong_ban.show()"
   ]
  },
  {
   "cell_type": "markdown",
   "metadata": {},
   "source": [
    "### 5. Sử dụng hàm lead() để so sánh mức lương của mỗi nhân viên với nhân viên tiếp theo trong cùng phòng ban dựa trên thứ tự sắp xếp lương.\n"
   ]
  },
  {
   "cell_type": "code",
   "execution_count": 67,
   "metadata": {},
   "outputs": [],
   "source": [
    "luong_nhan_vien_tiep_theo_df = sx_theo_luong_tang_dan_df.withColumn(\"luong_nhan_su_tiep_theo\", lead(\"luong\", 1).over(sx_luong_theo_phong_ban_tang_dan_window))"
   ]
  },
  {
   "cell_type": "code",
   "execution_count": 72,
   "metadata": {},
   "outputs": [],
   "source": [
    "chenh_luong_so_voi_nhan_vien_tiep_theo_col = luong_nhan_vien_tiep_theo_df[\"luong_nhan_su_tiep_theo\"] - luong_nhan_vien_tiep_theo_df[\"luong\"]"
   ]
  },
  {
   "cell_type": "code",
   "execution_count": 73,
   "metadata": {},
   "outputs": [
    {
     "name": "stdout",
     "output_type": "stream",
     "text": [
      "+---------+-------------+-----+-----------------------+--------------------------------------+\n",
      "|phong_ban|ten_nhan_vien|luong|luong_nhan_su_tiep_theo|chenh_luong_so_voi_nhan_vien_tiep_theo|\n",
      "+---------+-------------+-----+-----------------------+--------------------------------------+\n",
      "|  Phòng A|  Nhân viên 1| 3000|                   4100|                                  1100|\n",
      "|  Phòng A|  Nhân viên 3| 4100|                   4600|                                   500|\n",
      "|  Phòng A|  Nhân viên 2| 4600|                   NULL|                                  NULL|\n",
      "|  Phòng B|  Nhân viên 4| 2500|                   3300|                                   800|\n",
      "|  Phòng B|  Nhân viên 6| 3300|                   3600|                                   300|\n",
      "|  Phòng B|  Nhân viên 5| 3600|                   NULL|                                  NULL|\n",
      "|  Phòng C|  Nhân viên 7| 5200|                   5400|                                   200|\n",
      "|  Phòng C|  Nhân viên 8| 5400|                   NULL|                                  NULL|\n",
      "+---------+-------------+-----+-----------------------+--------------------------------------+\n",
      "\n"
     ]
    }
   ],
   "source": [
    "chenh_luong_so_voi_nhan_vien_tiep_theo_df = luong_nhan_vien_tiep_theo_df.withColumn(\"chenh_luong_so_voi_nhan_vien_tiep_theo\", chenh_luong_so_voi_nhan_vien_tiep_theo_col).drop(\"rank_luong_theo_phong_tang_dan\")\n",
    "chenh_luong_so_voi_nhan_vien_tiep_theo_df.show()"
   ]
  },
  {
   "cell_type": "markdown",
   "metadata": {},
   "source": [
    "### 6. Sử dụng hàm lag() để so sánh mức lương của mỗi nhân viên với nhân viên trước đó trong cùng phòng ban."
   ]
  },
  {
   "cell_type": "code",
   "execution_count": 76,
   "metadata": {},
   "outputs": [],
   "source": [
    "luong_nhan_vien_truoc_do_df = sx_theo_luong_tang_dan_df.withColumn(\"luong_nhan_vien_truoc_do\", lag(\"luong\", 1).over(sx_luong_theo_phong_ban_tang_dan_window))"
   ]
  },
  {
   "cell_type": "code",
   "execution_count": 78,
   "metadata": {},
   "outputs": [],
   "source": [
    "chenh_luong_so_voi_nhan_vien_truoc_col = luong_nhan_vien_truoc_do_df[\"luong\"] - luong_nhan_vien_truoc_do_df[\"luong_nhan_vien_truoc_do\"]"
   ]
  },
  {
   "cell_type": "code",
   "execution_count": 80,
   "metadata": {},
   "outputs": [
    {
     "name": "stdout",
     "output_type": "stream",
     "text": [
      "+---------+-------------+-----+------------------------+----------------------------------+\n",
      "|phong_ban|ten_nhan_vien|luong|luong_nhan_vien_truoc_do|chenh_luong_so_voi_nhan_vien_truoc|\n",
      "+---------+-------------+-----+------------------------+----------------------------------+\n",
      "|  Phòng A|  Nhân viên 1| 3000|                    NULL|                              NULL|\n",
      "|  Phòng A|  Nhân viên 3| 4100|                    3000|                              1100|\n",
      "|  Phòng A|  Nhân viên 2| 4600|                    4100|                               500|\n",
      "|  Phòng B|  Nhân viên 4| 2500|                    NULL|                              NULL|\n",
      "|  Phòng B|  Nhân viên 6| 3300|                    2500|                               800|\n",
      "|  Phòng B|  Nhân viên 5| 3600|                    3300|                               300|\n",
      "|  Phòng C|  Nhân viên 7| 5200|                    NULL|                              NULL|\n",
      "|  Phòng C|  Nhân viên 8| 5400|                    5200|                               200|\n",
      "+---------+-------------+-----+------------------------+----------------------------------+\n",
      "\n"
     ]
    }
   ],
   "source": [
    "chenh_luong_so_voi_nhan_vien_truoc_df = luong_nhan_vien_truoc_do_df.withColumn(\"chenh_luong_so_voi_nhan_vien_truoc\", chenh_luong_so_voi_nhan_vien_truoc_col).drop(\"rank_luong_theo_phong_tang_dan\")\n",
    "chenh_luong_so_voi_nhan_vien_truoc_df.show()"
   ]
  },
  {
   "cell_type": "markdown",
   "metadata": {},
   "source": [
    "### 7. Xác định phòng ban nào có tổng lương cao nhất."
   ]
  },
  {
   "cell_type": "code",
   "execution_count": 22,
   "metadata": {},
   "outputs": [],
   "source": [
    "phong_ban_window = Window.partitionBy(\"phong_ban\")"
   ]
  },
  {
   "cell_type": "code",
   "execution_count": 20,
   "metadata": {},
   "outputs": [],
   "source": [
    "tong_luong_df = salary_df.withColumn(\"tong_luong_phong_ban\", sum(salary_df[\"luong\"]).over(phong_ban_window))"
   ]
  },
  {
   "cell_type": "code",
   "execution_count": 27,
   "metadata": {},
   "outputs": [
    {
     "name": "stdout",
     "output_type": "stream",
     "text": [
      "+---------+--------------------+----+\n",
      "|phong_ban|tong_luong_phong_ban|rank|\n",
      "+---------+--------------------+----+\n",
      "|  Phòng A|               11700|   1|\n",
      "+---------+--------------------+----+\n",
      "\n"
     ]
    }
   ],
   "source": [
    "tong_luong_theo_phong_ban_window = Window.orderBy(desc(\"tong_luong_phong_ban\"))\n",
    "rank_tong_luong_df = tong_luong_df.withColumn(\"rank\", row_number().over(tong_luong_theo_phong_ban_window))\n",
    "rank_tong_luong_df.where(rank_tong_luong_df[\"rank\"] == 1).drop(\"luong\", \"ten_nhan_vien\").show()"
   ]
  },
  {
   "cell_type": "code",
   "execution_count": 28,
   "metadata": {},
   "outputs": [
    {
     "name": "stdout",
     "output_type": "stream",
     "text": [
      "+---------+--------------------+\n",
      "|phong_ban|tong_luong_phong_ban|\n",
      "+---------+--------------------+\n",
      "|  Phòng A|               11700|\n",
      "+---------+--------------------+\n",
      "only showing top 1 row\n",
      "\n"
     ]
    }
   ],
   "source": [
    "# cach khac\n",
    "tong_luong_theo_phong_ban_df = salary_df.groupBy(\"phong_ban\").agg(sum(\"luong\").alias(\"tong_luong_phong_ban\")).orderBy(desc(\"tong_luong_phong_ban\"))\n",
    "tong_luong_theo_phong_ban_df.show(1)"
   ]
  },
  {
   "cell_type": "markdown",
   "metadata": {},
   "source": [
    "### 8. Tính tổng lương lũy kế của từng nhân viên trong phòng ban của họ, sắp xếp theo thứ tự lương tăng dần."
   ]
  },
  {
   "cell_type": "code",
   "execution_count": 34,
   "metadata": {},
   "outputs": [
    {
     "name": "stdout",
     "output_type": "stream",
     "text": [
      "+---------+-------------+-----+------------+\n",
      "|phong_ban|ten_nhan_vien|luong|luong_luy_ke|\n",
      "+---------+-------------+-----+------------+\n",
      "|  Phòng A|  Nhân viên 1| 3000|        3000|\n",
      "|  Phòng A|  Nhân viên 3| 4100|        7100|\n",
      "|  Phòng A|  Nhân viên 2| 4600|       11700|\n",
      "|  Phòng B|  Nhân viên 4| 2500|        2500|\n",
      "|  Phòng B|  Nhân viên 6| 3300|        5800|\n",
      "|  Phòng B|  Nhân viên 5| 3600|        9400|\n",
      "|  Phòng C|  Nhân viên 7| 5200|        5200|\n",
      "|  Phòng C|  Nhân viên 8| 5400|       10600|\n",
      "+---------+-------------+-----+------------+\n",
      "\n"
     ]
    }
   ],
   "source": [
    "luong_theo_phong_ban_window = Window.partitionBy(\"phong_ban\").orderBy(asc(\"luong\"))\n",
    "luong_luy_ke_df = salary_df.withColumn(\"luong_luy_ke\", sum(salary_df[\"luong\"]).over(luong_theo_phong_ban))\n",
    "luong_luy_ke_df.show()"
   ]
  },
  {
   "cell_type": "markdown",
   "metadata": {},
   "source": [
    "### 9. Sử dụng cume_dist để xác định tỷ lệ phần trăm các nhân viên có mức lương thấp hơn so với mỗi nhân viên trong phòng ban của họ.\n"
   ]
  },
  {
   "cell_type": "code",
   "execution_count": 33,
   "metadata": {},
   "outputs": [
    {
     "name": "stdout",
     "output_type": "stream",
     "text": [
      "+---------+-------------+-----+---------------+\n",
      "|phong_ban|ten_nhan_vien|luong|ty_le_phan_tram|\n",
      "+---------+-------------+-----+---------------+\n",
      "|  Phòng A|  Nhân viên 1| 3000|          33.33|\n",
      "|  Phòng A|  Nhân viên 3| 4100|          66.67|\n",
      "|  Phòng A|  Nhân viên 2| 4600|          100.0|\n",
      "|  Phòng B|  Nhân viên 4| 2500|          33.33|\n",
      "|  Phòng B|  Nhân viên 6| 3300|          66.67|\n",
      "|  Phòng B|  Nhân viên 5| 3600|          100.0|\n",
      "|  Phòng C|  Nhân viên 7| 5200|           50.0|\n",
      "|  Phòng C|  Nhân viên 8| 5400|          100.0|\n",
      "+---------+-------------+-----+---------------+\n",
      "\n"
     ]
    }
   ],
   "source": [
    "''' CUME_DIST()\n",
    "1. Sắp xếp các giá trị theo thứ tự tăng dần (trong trường hợp của bạn là lương từ thấp đến cao).\n",
    "2. Xác định vị trí của mỗi giá trị trong dãy giá trị đó.\n",
    "3. Tính tỷ lệ tổng số giá trị từ đầu cho đến vị trí hiện tại (bao gồm cả vị trí đó), so với tổng số giá trị trong toàn bộ dãy. Tỷ lệ này được biết đến là \n",
    "\"tỷ lệ tích lũy\".\n",
    "'''\n",
    "ty_le_tich_luy_df = salary_df.withColumn(\"ty_le_phan_tram\", round(cume_dist().over(luong_theo_phong_ban) * 100, 2))\n",
    "ty_le_tich_luy_df.show()"
   ]
  },
  {
   "cell_type": "markdown",
   "metadata": {},
   "source": [
    "### 10.Sử dụng hàm percent_rank() để xác định xếp hạng phần trăm của mỗi nhân viên trong phòng ban của họ dựa trên mức lương."
   ]
  },
  {
   "cell_type": "code",
   "execution_count": 35,
   "metadata": {},
   "outputs": [
    {
     "name": "stdout",
     "output_type": "stream",
     "text": [
      "+---------+-------------+-----+------------------+\n",
      "|phong_ban|ten_nhan_vien|luong|xep_hang_phan_tram|\n",
      "+---------+-------------+-----+------------------+\n",
      "|  Phòng A|  Nhân viên 1| 3000|               0.0|\n",
      "|  Phòng A|  Nhân viên 3| 4100|               0.5|\n",
      "|  Phòng A|  Nhân viên 2| 4600|               1.0|\n",
      "|  Phòng B|  Nhân viên 4| 2500|               0.0|\n",
      "|  Phòng B|  Nhân viên 6| 3300|               0.5|\n",
      "|  Phòng B|  Nhân viên 5| 3600|               1.0|\n",
      "|  Phòng C|  Nhân viên 7| 5200|               0.0|\n",
      "|  Phòng C|  Nhân viên 8| 5400|               1.0|\n",
      "+---------+-------------+-----+------------------+\n",
      "\n"
     ]
    }
   ],
   "source": [
    "xep_hang_phan_tram_df = salary_df.withColumn(\"xep_hang_phan_tram\", percent_rank().over(luong_theo_phong_ban_window))\n",
    "xep_hang_phan_tram_df.show()"
   ]
  },
  {
   "cell_type": "code",
   "execution_count": 36,
   "metadata": {},
   "outputs": [],
   "source": [
    "ss.stop()"
   ]
  }
 ],
 "metadata": {
  "kernelspec": {
   "display_name": "Python 3",
   "language": "python",
   "name": "python3"
  },
  "language_info": {
   "codemirror_mode": {
    "name": "ipython",
    "version": 3
   },
   "file_extension": ".py",
   "mimetype": "text/x-python",
   "name": "python",
   "nbconvert_exporter": "python",
   "pygments_lexer": "ipython3",
   "version": "3.10.4"
  }
 },
 "nbformat": 4,
 "nbformat_minor": 2
}

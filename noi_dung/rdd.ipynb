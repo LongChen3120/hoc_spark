{
 "cells": [
  {
   "cell_type": "code",
   "execution_count": 1,
   "metadata": {},
   "outputs": [],
   "source": [
    "from pyspark.sql import SparkSession\n",
    "spark = SparkSession.builder.appName(\"first app spark\").config(\"spark.executor.memory\", \"2g\").getOrCreate()"
   ]
  },
  {
   "cell_type": "code",
   "execution_count": 2,
   "metadata": {},
   "outputs": [],
   "source": [
    "rdd = spark.sparkContext.textFile(\"D:/Python/2024/test_hadoop/hoc_spark/Orders.csv\")"
   ]
  },
  {
   "cell_type": "code",
   "execution_count": 8,
   "metadata": {},
   "outputs": [],
   "source": [
    "mapped_rdd = rdd.map(lambda x: (x.split(\",\")[15], 1))"
   ]
  },
  {
   "cell_type": "code",
   "execution_count": 8,
   "metadata": {},
   "outputs": [
    {
     "data": {
      "text/plain": [
       "[('State or Province', 1),\n",
       " ('Illinois', 1),\n",
       " ('Washington', 1),\n",
       " ('Washington', 1),\n",
       " ('West', 1),\n",
       " ('Washington', 1),\n",
       " ('Washington', 1),\n",
       " ('Washington', 1),\n",
       " ('California', 1),\n",
       " ('California', 1)]"
      ]
     },
     "execution_count": 8,
     "metadata": {},
     "output_type": "execute_result"
    }
   ],
   "source": [
    "mapped_rdd.take(10)"
   ]
  },
  {
   "cell_type": "code",
   "execution_count": 9,
   "metadata": {},
   "outputs": [],
   "source": [
    "reduced_rdd = mapped_rdd.reduceByKey(lambda x, y: x + y)"
   ]
  },
  {
   "cell_type": "code",
   "execution_count": 10,
   "metadata": {},
   "outputs": [
    {
     "data": {
      "text/plain": [
       "[('Illinois', 435),\n",
       " ('Washington', 254),\n",
       " ('West', 422),\n",
       " ('East', 403),\n",
       " ('New Jersey', 126),\n",
       " ('0.45', 8),\n",
       " ('Minnesota', 175),\n",
       " ('Central', 511),\n",
       " (' 250/Roll\"', 5),\n",
       " ('Nebraska', 57),\n",
       " ('Oregon', 123),\n",
       " ('0.38', 53),\n",
       " ('0.57', 38),\n",
       " ('Texas', 474),\n",
       " (' Corner Table\"', 14),\n",
       " (' Mitsubishi Branded', 10),\n",
       " (' Type 1', 29),\n",
       " ('0.39', 53),\n",
       " ('Vermont', 43),\n",
       " ('Louisiana', 62),\n",
       " ('Kansas', 103),\n",
       " ('Maine', 100),\n",
       " ('Tennessee', 124),\n",
       " ('Colorado', 121),\n",
       " ('New Hampshire', 42),\n",
       " ('0.65', 21),\n",
       " ('Arizona', 98),\n",
       " ('0.58', 18),\n",
       " ('North Carolina', 194),\n",
       " ('Florida', 381),\n",
       " ('New Mexico', 57),\n",
       " ('Maryland', 138),\n",
       " ('', 17),\n",
       " (' 8\"\"L\"', 4),\n",
       " (' White', 10),\n",
       " ('Indiana', 177),\n",
       " (' 8-1/2\"\" x 11\"\"\"', 15),\n",
       " ('West Virginia', 29),\n",
       " (' Heavyweight', 9),\n",
       " (' blue', 5),\n",
       " ('0.79', 7),\n",
       " ('Arkansas', 94),\n",
       " ('South Carolina', 83),\n",
       " ('Delaware', 13),\n",
       " ('0.74', 2),\n",
       " (' 12/Box\"', 6),\n",
       " (' Blue\"', 7),\n",
       " ('0.46', 5),\n",
       " ('0.47', 8),\n",
       " (' 200 Sets/Book\"', 3),\n",
       " (' 25 covers per pack\"', 3),\n",
       " ('0.81', 2),\n",
       " ('North Dakota', 25),\n",
       " ('State or Province', 1),\n",
       " ('California', 768),\n",
       " ('Massachusetts', 178),\n",
       " ('New York', 439),\n",
       " ('Montana', 38),\n",
       " ('0.4', 38),\n",
       " ('Virginia', 144),\n",
       " ('South', 357),\n",
       " ('Rhode Island', 13),\n",
       " ('Ohio', 298),\n",
       " ('0.35', 11),\n",
       " (' 5 3/6� x 11�\"', 8),\n",
       " ('Connecticut', 58),\n",
       " ('Utah', 114),\n",
       " ('Pennsylvania', 203),\n",
       " ('0.36', 46),\n",
       " ('0.55', 17),\n",
       " ('0.56', 18),\n",
       " ('Michigan', 255),\n",
       " ('Oklahoma', 82),\n",
       " ('0.64', 22),\n",
       " ('Missouri', 123),\n",
       " ('Iowa', 111),\n",
       " ('0.54', 7),\n",
       " ('0.61', 11),\n",
       " (' WE', 5),\n",
       " ('Georgia', 161),\n",
       " ('0.78', 10),\n",
       " ('0.49', 9),\n",
       " (' 24-lb\"', 12),\n",
       " (' 30/Box\"', 12),\n",
       " ('0.69', 8),\n",
       " ('0.75', 4),\n",
       " ('Nevada', 29),\n",
       " ('Mississippi', 55),\n",
       " ('Kentucky', 60),\n",
       " (' Hard Case\"', 6),\n",
       " ('0.59', 10),\n",
       " ('0.83', 8),\n",
       " ('0.41', 21),\n",
       " ('0.67', 3),\n",
       " (' 1040 sheets\"', 7),\n",
       " ('0.42', 8),\n",
       " ('District of Columbia', 51),\n",
       " ('Idaho', 88),\n",
       " ('0.68', 3),\n",
       " (' 8 1/2\"\" x 11\"\"\"', 3),\n",
       " (' Green Cycle\"', 5),\n",
       " ('0.37', 3),\n",
       " (' Smoke\"', 2),\n",
       " ('Alabama', 94),\n",
       " ('Wyoming', 14),\n",
       " ('Wisconsin', 133),\n",
       " ('South Dakota', 22),\n",
       " (' Sand\"', 2),\n",
       " (' 10/Box', 3)]"
      ]
     },
     "execution_count": 10,
     "metadata": {},
     "output_type": "execute_result"
    }
   ],
   "source": [
    "reduced_rdd.collect()"
   ]
  },
  {
   "cell_type": "code",
   "execution_count": 31,
   "metadata": {},
   "outputs": [
    {
     "data": {
      "text/plain": [
       "[('Illinois', 435),\n",
       " ('Washington', 254),\n",
       " ('West', 422),\n",
       " ('East', 403),\n",
       " ('New Jersey', 126)]"
      ]
     },
     "execution_count": 31,
     "metadata": {},
     "output_type": "execute_result"
    }
   ],
   "source": [
    "reduced_rdd.take(5)"
   ]
  },
  {
   "cell_type": "code",
   "execution_count": 11,
   "metadata": {},
   "outputs": [],
   "source": [
    "sorted_rdd = reduced_rdd.sortBy(lambda x: x[1], False)"
   ]
  },
  {
   "cell_type": "code",
   "execution_count": 12,
   "metadata": {},
   "outputs": [
    {
     "data": {
      "text/plain": [
       "[('California', 768),\n",
       " ('Central', 511),\n",
       " ('Texas', 474),\n",
       " ('New York', 439),\n",
       " ('Illinois', 435),\n",
       " ('West', 422),\n",
       " ('East', 403),\n",
       " ('Florida', 381),\n",
       " ('South', 357),\n",
       " ('Ohio', 298),\n",
       " ('Michigan', 255),\n",
       " ('Washington', 254),\n",
       " ('Pennsylvania', 203),\n",
       " ('North Carolina', 194),\n",
       " ('Massachusetts', 178),\n",
       " ('Indiana', 177),\n",
       " ('Minnesota', 175),\n",
       " ('Georgia', 161),\n",
       " ('Virginia', 144),\n",
       " ('Maryland', 138),\n",
       " ('Wisconsin', 133),\n",
       " ('New Jersey', 126),\n",
       " ('Tennessee', 124),\n",
       " ('Oregon', 123),\n",
       " ('Missouri', 123),\n",
       " ('Colorado', 121),\n",
       " ('Utah', 114),\n",
       " ('Iowa', 111),\n",
       " ('Kansas', 103),\n",
       " ('Maine', 100),\n",
       " ('Arizona', 98),\n",
       " ('Arkansas', 94),\n",
       " ('Alabama', 94),\n",
       " ('Idaho', 88),\n",
       " ('South Carolina', 83),\n",
       " ('Oklahoma', 82),\n",
       " ('Louisiana', 62),\n",
       " ('Kentucky', 60),\n",
       " ('Connecticut', 58),\n",
       " ('Nebraska', 57),\n",
       " ('New Mexico', 57),\n",
       " ('Mississippi', 55),\n",
       " ('0.38', 53),\n",
       " ('0.39', 53),\n",
       " ('District of Columbia', 51),\n",
       " ('0.36', 46),\n",
       " ('Vermont', 43),\n",
       " ('New Hampshire', 42),\n",
       " ('0.57', 38),\n",
       " ('Montana', 38),\n",
       " ('0.4', 38),\n",
       " (' Type 1', 29),\n",
       " ('West Virginia', 29),\n",
       " ('Nevada', 29),\n",
       " ('North Dakota', 25),\n",
       " ('0.64', 22),\n",
       " ('South Dakota', 22),\n",
       " ('0.65', 21),\n",
       " ('0.41', 21),\n",
       " ('0.58', 18),\n",
       " ('0.56', 18),\n",
       " ('', 17),\n",
       " ('0.55', 17),\n",
       " (' 8-1/2\"\" x 11\"\"\"', 15),\n",
       " (' Corner Table\"', 14),\n",
       " ('Wyoming', 14),\n",
       " ('Delaware', 13),\n",
       " ('Rhode Island', 13),\n",
       " (' 24-lb\"', 12),\n",
       " (' 30/Box\"', 12),\n",
       " ('0.35', 11),\n",
       " ('0.61', 11),\n",
       " (' Mitsubishi Branded', 10),\n",
       " (' White', 10),\n",
       " ('0.78', 10),\n",
       " ('0.59', 10),\n",
       " (' Heavyweight', 9),\n",
       " ('0.49', 9),\n",
       " ('0.45', 8),\n",
       " ('0.47', 8),\n",
       " (' 5 3/6� x 11�\"', 8),\n",
       " ('0.69', 8),\n",
       " ('0.83', 8),\n",
       " ('0.42', 8),\n",
       " ('0.79', 7),\n",
       " (' Blue\"', 7),\n",
       " ('0.54', 7),\n",
       " (' 1040 sheets\"', 7),\n",
       " (' 12/Box\"', 6),\n",
       " (' Hard Case\"', 6),\n",
       " (' 250/Roll\"', 5),\n",
       " (' blue', 5),\n",
       " ('0.46', 5),\n",
       " (' WE', 5),\n",
       " (' Green Cycle\"', 5),\n",
       " (' 8\"\"L\"', 4),\n",
       " ('0.75', 4),\n",
       " (' 200 Sets/Book\"', 3),\n",
       " (' 25 covers per pack\"', 3),\n",
       " ('0.67', 3),\n",
       " ('0.68', 3),\n",
       " (' 8 1/2\"\" x 11\"\"\"', 3),\n",
       " ('0.37', 3),\n",
       " (' 10/Box', 3),\n",
       " ('0.74', 2),\n",
       " ('0.81', 2),\n",
       " (' Smoke\"', 2),\n",
       " (' Sand\"', 2),\n",
       " ('State or Province', 1)]"
      ]
     },
     "execution_count": 12,
     "metadata": {},
     "output_type": "execute_result"
    }
   ],
   "source": [
    "sorted_rdd.collect()"
   ]
  },
  {
   "cell_type": "code",
   "execution_count": 33,
   "metadata": {},
   "outputs": [],
   "source": [
    "sorted_rdd = reduced_rdd.sortBy(lambda x: x[1], False)"
   ]
  },
  {
   "cell_type": "code",
   "execution_count": 34,
   "metadata": {},
   "outputs": [
    {
     "data": {
      "text/plain": [
       "[('California', 768),\n",
       " ('Central', 511),\n",
       " ('Texas', 474),\n",
       " ('New York', 439),\n",
       " ('Illinois', 435)]"
      ]
     },
     "execution_count": 34,
     "metadata": {},
     "output_type": "execute_result"
    }
   ],
   "source": [
    "sorted_rdd.take(5)"
   ]
  },
  {
   "cell_type": "code",
   "execution_count": 14,
   "metadata": {},
   "outputs": [
    {
     "data": {
      "text/plain": [
       "[('State or Province', 1),\n",
       " ('0.74', 2),\n",
       " ('0.81', 2),\n",
       " (' Smoke\"', 2),\n",
       " (' Sand\"', 2),\n",
       " (' 200 Sets/Book\"', 3),\n",
       " (' 25 covers per pack\"', 3),\n",
       " ('0.67', 3),\n",
       " ('0.68', 3),\n",
       " (' 8 1/2\"\" x 11\"\"\"', 3),\n",
       " ('0.37', 3),\n",
       " (' 10/Box', 3),\n",
       " (' 8\"\"L\"', 4),\n",
       " ('0.75', 4),\n",
       " (' 250/Roll\"', 5),\n",
       " (' blue', 5),\n",
       " ('0.46', 5),\n",
       " (' WE', 5),\n",
       " (' Green Cycle\"', 5),\n",
       " (' 12/Box\"', 6),\n",
       " (' Hard Case\"', 6),\n",
       " ('0.79', 7),\n",
       " (' Blue\"', 7),\n",
       " ('0.54', 7),\n",
       " (' 1040 sheets\"', 7),\n",
       " ('0.45', 8),\n",
       " ('0.47', 8),\n",
       " (' 5 3/6� x 11�\"', 8),\n",
       " ('0.69', 8),\n",
       " ('0.83', 8),\n",
       " ('0.42', 8),\n",
       " (' Heavyweight', 9),\n",
       " ('0.49', 9),\n",
       " (' Mitsubishi Branded', 10),\n",
       " (' White', 10),\n",
       " ('0.78', 10),\n",
       " ('0.59', 10),\n",
       " ('0.35', 11),\n",
       " ('0.61', 11),\n",
       " (' 24-lb\"', 12),\n",
       " (' 30/Box\"', 12),\n",
       " ('Delaware', 13),\n",
       " ('Rhode Island', 13),\n",
       " (' Corner Table\"', 14),\n",
       " ('Wyoming', 14),\n",
       " (' 8-1/2\"\" x 11\"\"\"', 15),\n",
       " ('', 17),\n",
       " ('0.55', 17),\n",
       " ('0.58', 18),\n",
       " ('0.56', 18),\n",
       " ('0.65', 21),\n",
       " ('0.41', 21),\n",
       " ('0.64', 22),\n",
       " ('South Dakota', 22),\n",
       " ('North Dakota', 25),\n",
       " (' Type 1', 29),\n",
       " ('West Virginia', 29),\n",
       " ('Nevada', 29),\n",
       " ('0.57', 38),\n",
       " ('Montana', 38),\n",
       " ('0.4', 38),\n",
       " ('New Hampshire', 42),\n",
       " ('Vermont', 43),\n",
       " ('0.36', 46),\n",
       " ('District of Columbia', 51),\n",
       " ('0.38', 53),\n",
       " ('0.39', 53),\n",
       " ('Mississippi', 55),\n",
       " ('Nebraska', 57),\n",
       " ('New Mexico', 57),\n",
       " ('Connecticut', 58),\n",
       " ('Kentucky', 60),\n",
       " ('Louisiana', 62),\n",
       " ('Oklahoma', 82),\n",
       " ('South Carolina', 83),\n",
       " ('Idaho', 88),\n",
       " ('Arkansas', 94),\n",
       " ('Alabama', 94),\n",
       " ('Arizona', 98),\n",
       " ('Maine', 100),\n",
       " ('Kansas', 103),\n",
       " ('Iowa', 111),\n",
       " ('Utah', 114),\n",
       " ('Colorado', 121),\n",
       " ('Oregon', 123),\n",
       " ('Missouri', 123),\n",
       " ('Tennessee', 124),\n",
       " ('New Jersey', 126),\n",
       " ('Wisconsin', 133),\n",
       " ('Maryland', 138),\n",
       " ('Virginia', 144),\n",
       " ('Georgia', 161),\n",
       " ('Minnesota', 175),\n",
       " ('Indiana', 177),\n",
       " ('Massachusetts', 178),\n",
       " ('North Carolina', 194),\n",
       " ('Pennsylvania', 203),\n",
       " ('Washington', 254),\n",
       " ('Michigan', 255),\n",
       " ('Ohio', 298),\n",
       " ('South', 357),\n",
       " ('Florida', 381),\n",
       " ('East', 403),\n",
       " ('West', 422),\n",
       " ('Illinois', 435),\n",
       " ('New York', 439),\n",
       " ('Texas', 474),\n",
       " ('Central', 511),\n",
       " ('California', 768)]"
      ]
     },
     "execution_count": 14,
     "metadata": {},
     "output_type": "execute_result"
    }
   ],
   "source": [
    "sorted_rdd.collect()"
   ]
  },
  {
   "cell_type": "code",
   "execution_count": 15,
   "metadata": {},
   "outputs": [],
   "source": [
    "khach_mapped = rdd.map(lambda x: (x.split(\",\")[5], 1))"
   ]
  },
  {
   "cell_type": "code",
   "execution_count": 16,
   "metadata": {},
   "outputs": [
    {
     "data": {
      "text/plain": [
       "[('Customer ID', 1), ('2', 1), ('3', 1), ('3', 1), ('3', 1)]"
      ]
     },
     "execution_count": 16,
     "metadata": {},
     "output_type": "execute_result"
    }
   ],
   "source": [
    "khach_mapped.take(5)"
   ]
  },
  {
   "cell_type": "code",
   "execution_count": 17,
   "metadata": {},
   "outputs": [],
   "source": [
    "khach_reduced = khach_mapped.reduceByKey(lambda x, y: x + y)"
   ]
  },
  {
   "cell_type": "code",
   "execution_count": 18,
   "metadata": {},
   "outputs": [],
   "source": [
    "khach_sort_giam = khach_reduced.sortBy(lambda x: x[1], False)"
   ]
  },
  {
   "cell_type": "code",
   "execution_count": 19,
   "metadata": {},
   "outputs": [
    {
     "data": {
      "text/plain": [
       "[('1193', 27),\n",
       " ('699', 26),\n",
       " ('2107', 22),\n",
       " ('2491', 22),\n",
       " ('308', 21),\n",
       " ('2882', 21),\n",
       " ('3079', 20),\n",
       " ('272', 19),\n",
       " ('1999', 19),\n",
       " ('1129', 18)]"
      ]
     },
     "execution_count": 19,
     "metadata": {},
     "output_type": "execute_result"
    }
   ],
   "source": [
    "khach_sort_giam.take(10)"
   ]
  },
  {
   "cell_type": "code",
   "execution_count": 20,
   "metadata": {},
   "outputs": [
    {
     "data": {
      "text/plain": [
       "9427"
      ]
     },
     "execution_count": 20,
     "metadata": {},
     "output_type": "execute_result"
    }
   ],
   "source": [
    "khach_mapped.count()"
   ]
  },
  {
   "cell_type": "code",
   "execution_count": 21,
   "metadata": {},
   "outputs": [],
   "source": [
    "tong_khach = khach_mapped.distinct()"
   ]
  },
  {
   "cell_type": "code",
   "execution_count": 22,
   "metadata": {},
   "outputs": [
    {
     "data": {
      "text/plain": [
       "2704"
      ]
     },
     "execution_count": 22,
     "metadata": {},
     "output_type": "execute_result"
    }
   ],
   "source": [
    "tong_khach.count()"
   ]
  },
  {
   "cell_type": "code",
   "execution_count": 23,
   "metadata": {},
   "outputs": [
    {
     "data": {
      "text/plain": [
       "['Row ID,Order Priority,Discount,Unit Price,Shipping Cost,Customer ID,Customer Name,Ship Mode,Customer Segment,Product Category,Product Sub-Category,Product Container,Product Name,Product Base Margin,Region,State or Province,City,Postal Code,Order Date,Ship Date,Profit,Quantity ordered new,Sales,Order ID',\n",
       " '18606,Not Specified,0.01,2.88,0.5,2,Janice Fletcher,Regular Air,Corporate,Office Supplies,Labels,Small Box,Avery 49,0.36,Central,Illinois,Addison,60101,5/28/2012,5/30/2012,1.32,2,5.9,88525',\n",
       " '20847,High,0.01,2.84,0.93,3,Bonnie Potter,Express Air,Corporate,Office Supplies,Pens & Art Supplies,Wrap Bag,SANFORD Liquid Accent� Tank-Style Highlighters,0.54,West,Washington,Anacortes,98221,7/7/2010,7/8/2010,4.56,4,13.01,88522',\n",
       " '23086,Not Specified,0.03,6.68,6.15,3,Bonnie Potter,Express Air,Corporate,Office Supplies,Paper,Small Box,Xerox 1968,0.37,West,Washington,Anacortes,98221,7/27/2011,7/28/2011,-47.64,7,49.92,88523',\n",
       " '23087,Not Specified,0.01,5.68,3.6,3,Bonnie Potter,Regular Air,Corporate,Office Supplies,\"Scissors, Rulers and Trimmers\",Small Pack,Acme� Preferred Stainless Steel Scissors,0.56,West,Washington,Anacortes,98221,7/27/2011,7/28/2011,-30.51,7,41.64,88523']"
      ]
     },
     "execution_count": 23,
     "metadata": {},
     "output_type": "execute_result"
    }
   ],
   "source": [
    "rdd.take(5)"
   ]
  },
  {
   "cell_type": "code",
   "execution_count": 24,
   "metadata": {},
   "outputs": [],
   "source": [
    "filter_danh_gia_thap = rdd.filter(lambda x: x.split(\",\")[1] == \"Low\")"
   ]
  },
  {
   "cell_type": "code",
   "execution_count": 25,
   "metadata": {},
   "outputs": [
    {
     "data": {
      "text/plain": [
       "['25549,Low,0.08,120.97,26.3,3,Bonnie Potter,Delivery Truck,Corporate,Technology,Office Machines,Jumbo Drum,Canon S750 Color Inkjet Printer,0.38,West,Washington,Anacortes,98221,7/1/2013,7/8/2013,1001.4453,12,1451.37,88526',\n",
       " '19483,Low,0.08,6.48,6.81,5,Ronnie Proctor,Regular Air,Home Office,Office Supplies,Paper,Small Box,Xerox 1930,0.36,West,California,San Gabriel,91776,5/12/2012,5/21/2012,-141.26,18,113.25,90197',\n",
       " '22781,Low,0,7.59,4,15,Timothy Reese,Regular Air,Small Business,Furniture,Office Furnishings,Wrap Bag,\"Master Giant Foot� Doorstop, Safety Yellow\",0.42,East,New York,Smithtown,11787,1/19/2013,1/21/2013,23.2668,4,33.72,86842',\n",
       " '23287,Low,0.07,4.13,6.89,15,Timothy Reese,Regular Air,Small Business,Office Supplies,Labels,Small Box,\"Avery 05222 Permanent Self-Adhesive File Folder Labels for Typewriters, on Rolls, White, 250/Roll\",0.39,East,New York,Smithtown,11787,1/21/2013,1/23/2013,-174.2696,9,38.18,86843',\n",
       " '19359,Low,0.05,5.85,2.27,17,Florence Hsu Schwarz,Regular Air,Small Business,Office Supplies,Pens & Art Supplies,Wrap Bag,\"Dixon My First Ticonderoga Pencil, #2\",0.56,West,Montana,Great Falls,59405,4/20/2011,4/24/2011,-6.82,2,12.18,90033']"
      ]
     },
     "execution_count": 25,
     "metadata": {},
     "output_type": "execute_result"
    }
   ],
   "source": [
    "filter_danh_gia_thap.take(5)"
   ]
  },
  {
   "cell_type": "code",
   "execution_count": 26,
   "metadata": {},
   "outputs": [],
   "source": [
    "khach_danh_gia_thap_mapped = filter_danh_gia_thap.map(lambda x: (x.split(\",\")[5], 1))"
   ]
  },
  {
   "cell_type": "code",
   "execution_count": 27,
   "metadata": {},
   "outputs": [],
   "source": [
    "khach_danh_gia_thap_reduced = khach_danh_gia_thap_mapped.reduceByKey(lambda x, y: x + y)"
   ]
  },
  {
   "cell_type": "code",
   "execution_count": 28,
   "metadata": {},
   "outputs": [
    {
     "data": {
      "text/plain": [
       "[('17', 1), ('21', 3), ('53', 1), ('56', 3), ('63', 5)]"
      ]
     },
     "execution_count": 28,
     "metadata": {},
     "output_type": "execute_result"
    }
   ],
   "source": [
    "khach_danh_gia_thap_reduced.take(5)"
   ]
  },
  {
   "cell_type": "code",
   "execution_count": 45,
   "metadata": {},
   "outputs": [],
   "source": [
    "khach_danh_gia_thap_reduced_sort_false = khach_danh_gia_thap_reduced.sortBy(lambda x: x[1], False)"
   ]
  },
  {
   "cell_type": "code",
   "execution_count": 46,
   "metadata": {},
   "outputs": [
    {
     "data": {
      "text/plain": [
       "[('272', 11), ('3075', 8), ('1999', 8), ('1129', 7), ('2548', 7)]"
      ]
     },
     "execution_count": 46,
     "metadata": {},
     "output_type": "execute_result"
    }
   ],
   "source": [
    "khach_danh_gia_thap_reduced_sort_false.take(5)"
   ]
  },
  {
   "cell_type": "code",
   "execution_count": 54,
   "metadata": {},
   "outputs": [],
   "source": [
    "a = rdd.filter(lambda x: x.split(\",\")[5] == \"272\")"
   ]
  },
  {
   "cell_type": "code",
   "execution_count": 55,
   "metadata": {},
   "outputs": [],
   "source": [
    "b = a.take(1)"
   ]
  },
  {
   "cell_type": "code",
   "execution_count": 60,
   "metadata": {},
   "outputs": [
    {
     "name": "stdout",
     "output_type": "stream",
     "text": [
      "770,Low,0.02,5.58,5.3,272,Eleanor Swain,Regular Air,Home Office,Office Supplies,Envelopes,Small Box,Staples Brown Kraft Recycled Clasp Envelopes,0.35,South,North Carolina,Charlotte,28204,4/7/2010,4/12/2010,-29.8984,11,68.46,5509\n"
     ]
    }
   ],
   "source": [
    "print(b[0])"
   ]
  },
  {
   "cell_type": "code",
   "execution_count": 62,
   "metadata": {},
   "outputs": [
    {
     "name": "stdout",
     "output_type": "stream",
     "text": [
      "Eleanor Swain\n"
     ]
    }
   ],
   "source": [
    "print(b[0].split(\",\")[6])"
   ]
  },
  {
   "cell_type": "code",
   "execution_count": 3,
   "metadata": {},
   "outputs": [
    {
     "data": {
      "text/plain": [
       "['Row ID,Order Priority,Discount,Unit Price,Shipping Cost,Customer ID,Customer Name,Ship Mode,Customer Segment,Product Category,Product Sub-Category,Product Container,Product Name,Product Base Margin,Region,State or Province,City,Postal Code,Order Date,Ship Date,Profit,Quantity ordered new,Sales,Order ID',\n",
       " '18606,Not Specified,0.01,2.88,0.5,2,Janice Fletcher,Regular Air,Corporate,Office Supplies,Labels,Small Box,Avery 49,0.36,Central,Illinois,Addison,60101,5/28/2012,5/30/2012,1.32,2,5.9,88525',\n",
       " '20847,High,0.01,2.84,0.93,3,Bonnie Potter,Express Air,Corporate,Office Supplies,Pens & Art Supplies,Wrap Bag,SANFORD Liquid Accent� Tank-Style Highlighters,0.54,West,Washington,Anacortes,98221,7/7/2010,7/8/2010,4.56,4,13.01,88522',\n",
       " '23086,Not Specified,0.03,6.68,6.15,3,Bonnie Potter,Express Air,Corporate,Office Supplies,Paper,Small Box,Xerox 1968,0.37,West,Washington,Anacortes,98221,7/27/2011,7/28/2011,-47.64,7,49.92,88523',\n",
       " '23087,Not Specified,0.01,5.68,3.6,3,Bonnie Potter,Regular Air,Corporate,Office Supplies,\"Scissors, Rulers and Trimmers\",Small Pack,Acme� Preferred Stainless Steel Scissors,0.56,West,Washington,Anacortes,98221,7/27/2011,7/28/2011,-30.51,7,41.64,88523']"
      ]
     },
     "execution_count": 3,
     "metadata": {},
     "output_type": "execute_result"
    }
   ],
   "source": [
    "rdd.take(5)"
   ]
  },
  {
   "cell_type": "code",
   "execution_count": 4,
   "metadata": {},
   "outputs": [],
   "source": [
    "order_priority = rdd.map(lambda x: x.split(\",\")[1])"
   ]
  },
  {
   "cell_type": "code",
   "execution_count": 7,
   "metadata": {},
   "outputs": [
    {
     "data": {
      "text/plain": [
       "defaultdict(int,\n",
       "            {'Order Priority': 1,\n",
       "             'Not Specified': 1881,\n",
       "             'High': 1970,\n",
       "             'Medium': 1844,\n",
       "             'Low': 1926,\n",
       "             'Critical': 1804,\n",
       "             'Critical ': 1})"
      ]
     },
     "execution_count": 7,
     "metadata": {},
     "output_type": "execute_result"
    }
   ],
   "source": [
    "order_priority.countByValue()"
   ]
  }
 ],
 "metadata": {
  "kernelspec": {
   "display_name": "spark_env",
   "language": "python",
   "name": "python3"
  },
  "language_info": {
   "codemirror_mode": {
    "name": "ipython",
    "version": 3
   },
   "file_extension": ".py",
   "mimetype": "text/x-python",
   "name": "python",
   "nbconvert_exporter": "python",
   "pygments_lexer": "ipython3",
   "version": "3.10.4"
  }
 },
 "nbformat": 4,
 "nbformat_minor": 2
}

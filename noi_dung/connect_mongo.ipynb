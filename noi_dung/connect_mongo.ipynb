{
 "cells": [
  {
   "cell_type": "code",
   "execution_count": 1,
   "metadata": {},
   "outputs": [],
   "source": [
    "from pyspark.sql import SparkSession"
   ]
  },
  {
   "cell_type": "code",
   "execution_count": 26,
   "metadata": {},
   "outputs": [],
   "source": [
    "ss = SparkSession \\\n",
    "    .builder \\\n",
    "    .appName(\"myApp\") \\\n",
    "    .config(\"spark.jars.packages\", \"org.mongodb.spark:mongo-spark-connector_2.12:10.3.0\") \\\n",
    "    .config(\"spark.mongodb.input.uri\", \"mongodb://localhost:27017/\") \\\n",
    "    .config(\"spark.mongodb.read.partitioner\", \"com.mongodb.spark.sql.connector.read.partitioner.SamplePartitioner\") \\\n",
    "    .config(\"spark.mongodb.read.partitionerOptions.samples.per.partition\", \"50\") \\\n",
    "    .getOrCreate()"
   ]
  },
  {
   "cell_type": "code",
   "execution_count": 25,
   "metadata": {},
   "outputs": [],
   "source": [
    "ss.stop()"
   ]
  },
  {
   "cell_type": "markdown",
   "metadata": {},
   "source": [
    "# batch"
   ]
  },
  {
   "cell_type": "code",
   "execution_count": 27,
   "metadata": {},
   "outputs": [],
   "source": [
    "df = ss.read.format(\"mongodb\")\\\n",
    "    .option(\"database\", \"crawl_news\")\\\n",
    "    .option(\"collection\", \"urls\")\\\n",
    "    .load()"
   ]
  },
  {
   "cell_type": "code",
   "execution_count": 30,
   "metadata": {},
   "outputs": [
    {
     "data": {
      "text/plain": [
       "1"
      ]
     },
     "execution_count": 30,
     "metadata": {},
     "output_type": "execute_result"
    }
   ],
   "source": [
    "df.rdd.getNumPartitions()"
   ]
  },
  {
   "cell_type": "code",
   "execution_count": 13,
   "metadata": {},
   "outputs": [
    {
     "name": "stdout",
     "output_type": "stream",
     "text": [
      "root\n",
      " |-- _id: string (nullable = true)\n",
      " |-- last_crawl: void (nullable = true)\n",
      " |-- url: string (nullable = true)\n",
      "\n"
     ]
    }
   ],
   "source": [
    "df.printSchema()"
   ]
  },
  {
   "cell_type": "code",
   "execution_count": 39,
   "metadata": {},
   "outputs": [
    {
     "name": "stdout",
     "output_type": "stream",
     "text": [
      "+------------------------+----------+-------------------------------------------------------------------------------------------------------------------------+\n",
      "|_id                     |last_crawl|url                                                                                                                      |\n",
      "+------------------------+----------+-------------------------------------------------------------------------------------------------------------------------+\n",
      "|669a450a8dc7a611c997a827|NULL      |https://vnexpress.net/430-trieu-co-phieu-khong-duoc-trinh-van-quyet-day-len-san-hose-the-nao-4770573.html#box_comment_vne|\n",
      "|669a450a8dc7a611c997a828|NULL      |https://vnexpress.net/messi-da-dan-cau-thu-argentina-dung-che-nhao-doi-thu-4771853.html#box_comment_vne                  |\n",
      "|669a450a8dc7a611c997a829|NULL      |https://vnexpress.net/bo-giao-duc-cong-bo-diem-san-y-duoc-tu-19-den-22-5-4772121.html                                    |\n",
      "|669a450a8dc7a611c997a82a|NULL      |https://vnexpress.net/thu-khoa-mo-coi-chon-su-pham-de-duoc-mien-hoc-phi-4771778.html                                     |\n",
      "|669a450a8dc7a611c997a82b|NULL      |https://vnexpress.net/chau-gai-ong-trump-gay-chu-y-tai-dai-hoi-dang-cong-hoa-4772029.html                                |\n",
      "+------------------------+----------+-------------------------------------------------------------------------------------------------------------------------+\n",
      "only showing top 5 rows\n",
      "\n"
     ]
    }
   ],
   "source": [
    "df.show(5, truncate=False)"
   ]
  },
  {
   "cell_type": "code",
   "execution_count": 35,
   "metadata": {},
   "outputs": [],
   "source": [
    "df.write.format(\"mongodb\")\\\n",
    "    .option(\"database\", \"db_raw\")\\\n",
    "    .option(\"collection\", \"test\")\\\n",
    "    .mode(\"append\")\\\n",
    "    .save()"
   ]
  },
  {
   "cell_type": "code",
   "execution_count": 52,
   "metadata": {},
   "outputs": [
    {
     "data": {
      "text/plain": [
       "322"
      ]
     },
     "execution_count": 52,
     "metadata": {},
     "output_type": "execute_result"
    }
   ],
   "source": [
    "df.select(\"_id\").count()"
   ]
  },
  {
   "cell_type": "code",
   "execution_count": 57,
   "metadata": {},
   "outputs": [
    {
     "name": "stdout",
     "output_type": "stream",
     "text": [
      "+------------------------+----------+-----------------------------------------------------------------------------------------+\n",
      "|_id                     |last_crawl|url                                                                                      |\n",
      "+------------------------+----------+-----------------------------------------------------------------------------------------+\n",
      "|669a450a8dc7a611c997a82b|NULL      |https://vnexpress.net/chau-gai-ong-trump-gay-chu-y-tai-dai-hoi-dang-cong-hoa-4772029.html|\n",
      "+------------------------+----------+-----------------------------------------------------------------------------------------+\n",
      "\n"
     ]
    }
   ],
   "source": [
    "df.filter(df[\"_id\"] == \"669a450a8dc7a611c997a82b\").show(20, truncate=False)"
   ]
  },
  {
   "cell_type": "code",
   "execution_count": 65,
   "metadata": {},
   "outputs": [],
   "source": [
    "df2 = df.limit(5)"
   ]
  },
  {
   "cell_type": "code",
   "execution_count": 66,
   "metadata": {},
   "outputs": [],
   "source": [
    "df2 = df2.drop(\"_id\")"
   ]
  },
  {
   "cell_type": "code",
   "execution_count": 67,
   "metadata": {},
   "outputs": [
    {
     "name": "stdout",
     "output_type": "stream",
     "text": [
      "+----------+--------------------+\n",
      "|last_crawl|                 url|\n",
      "+----------+--------------------+\n",
      "|      NULL|https://vnexpress...|\n",
      "|      NULL|https://vnexpress...|\n",
      "|      NULL|https://vnexpress...|\n",
      "|      NULL|https://vnexpress...|\n",
      "|      NULL|https://vnexpress...|\n",
      "+----------+--------------------+\n",
      "\n"
     ]
    }
   ],
   "source": [
    "df2.show()"
   ]
  },
  {
   "cell_type": "code",
   "execution_count": 90,
   "metadata": {},
   "outputs": [],
   "source": [
    "df2.write.format(\"mongodb\")\\\n",
    "    .option(\"database\", \"db_raw\")\\\n",
    "    .option(\"collection\", \"the_thao\")\\\n",
    "    .option(\"comment\", \"long đẹp trai\")\\\n",
    "    .mode(\"append\")\\\n",
    "    .save()"
   ]
  },
  {
   "cell_type": "markdown",
   "metadata": {},
   "source": [
    "# streaming"
   ]
  },
  {
   "cell_type": "code",
   "execution_count": 84,
   "metadata": {},
   "outputs": [],
   "source": [
    "from pyspark.sql.types import *"
   ]
  },
  {
   "cell_type": "code",
   "execution_count": 86,
   "metadata": {},
   "outputs": [],
   "source": [
    "read_schema = (StructType()\n",
    "    .add(\"_id\", StringType())\n",
    "    .add(\"last_crawl\", TimestampType())\n",
    "    .add(\"url\", StringType())\n",
    ")"
   ]
  },
  {
   "cell_type": "code",
   "execution_count": 87,
   "metadata": {},
   "outputs": [],
   "source": [
    "data_stream_read = (ss.readStream\n",
    "    .format(\"mongodb\")\n",
    "    .option(\"database\", \"db_raw\")\n",
    "    .option(\"collection\", \"the_thao\")\n",
    "    .schema(read_schema)\n",
    "    .load()\n",
    "    .writeStream\n",
    "    .format(\"console\")\n",
    "    .trigger(continuous=\"1 seconds\")\n",
    "    .outputMode(\"append\")\n",
    ")"
   ]
  },
  {
   "cell_type": "code",
   "execution_count": 88,
   "metadata": {},
   "outputs": [],
   "source": [
    "query = data_stream_read.start()"
   ]
  },
  {
   "cell_type": "code",
   "execution_count": 92,
   "metadata": {},
   "outputs": [],
   "source": [
    "query.stop()"
   ]
  }
 ],
 "metadata": {
  "kernelspec": {
   "display_name": "Python 3",
   "language": "python",
   "name": "python3"
  },
  "language_info": {
   "codemirror_mode": {
    "name": "ipython",
    "version": 3
   },
   "file_extension": ".py",
   "mimetype": "text/x-python",
   "name": "python",
   "nbconvert_exporter": "python",
   "pygments_lexer": "ipython3",
   "version": "3.10.4"
  }
 },
 "nbformat": 4,
 "nbformat_minor": 2
}

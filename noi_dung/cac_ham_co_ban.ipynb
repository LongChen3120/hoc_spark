{
 "cells": [
  {
   "cell_type": "code",
   "execution_count": 39,
   "metadata": {},
   "outputs": [],
   "source": [
    "from pyspark.sql import SparkSession\n",
    "\n",
    "spark = SparkSession.builder.appName(\"DF first app\").getOrCreate()"
   ]
  },
  {
   "cell_type": "code",
   "execution_count": 54,
   "metadata": {},
   "outputs": [],
   "source": [
    "from pyspark.sql.functions import *"
   ]
  },
  {
   "cell_type": "markdown",
   "metadata": {},
   "source": [
    "## tao dataframe tu csv"
   ]
  },
  {
   "cell_type": "code",
   "execution_count": 40,
   "metadata": {},
   "outputs": [],
   "source": [
    "order_DF = spark.read \\\n",
    ".format(\"csv\") \\\n",
    ".option(\"header\", \"true\") \\\n",
    ".option(\"inferschema\", \"true\") \\\n",
    ".load(\"D:/Python/2024/test_hadoop/hoc_spark/data/Orders.csv\")"
   ]
  },
  {
   "cell_type": "markdown",
   "metadata": {},
   "source": [
    "## ham show: hien thi du lieu trong df\n",
    "- dung cho 1 dataframe\n",
    "- truyen vao n: so hang hien thi\n",
    "- truyen vao truncate = true/false: tuy chon hien thi gia tri day du cua cot hay khong\n",
    "- truyen vao vertical = true/false: tuy chon hien thi cot theo chieu doc hay khong"
   ]
  },
  {
   "cell_type": "code",
   "execution_count": 15,
   "metadata": {},
   "outputs": [
    {
     "name": "stdout",
     "output_type": "stream",
     "text": [
      "+------+--------------+--------+----------+-------------+-----------+---------------+-----------+----------------+----------------+--------------------+-----------------+--------------------+-------------------+-------+-----------------+---------+-----------+----------+---------+--------+--------------------+-------+--------+\n",
      "|Row ID|Order Priority|Discount|Unit Price|Shipping Cost|Customer ID|  Customer Name|  Ship Mode|Customer Segment|Product Category|Product Sub-Category|Product Container|        Product Name|Product Base Margin| Region|State or Province|     City|Postal Code|Order Date|Ship Date|  Profit|Quantity ordered new|  Sales|Order ID|\n",
      "+------+--------------+--------+----------+-------------+-----------+---------------+-----------+----------------+----------------+--------------------+-----------------+--------------------+-------------------+-------+-----------------+---------+-----------+----------+---------+--------+--------------------+-------+--------+\n",
      "| 18606| Not Specified|    0.01|      2.88|          0.5|          2|Janice Fletcher|Regular Air|       Corporate| Office Supplies|              Labels|        Small Box|            Avery 49|               0.36|Central|         Illinois|  Addison|      60101| 5/28/2012|5/30/2012|    1.32|                   2|    5.9|   88525|\n",
      "| 20847|          High|    0.01|      2.84|         0.93|          3|  Bonnie Potter|Express Air|       Corporate| Office Supplies| Pens & Art Supplies|         Wrap Bag|SANFORD Liquid Ac...|               0.54|   West|       Washington|Anacortes|      98221|  7/7/2010| 7/8/2010|    4.56|                   4|  13.01|   88522|\n",
      "| 23086| Not Specified|    0.03|      6.68|         6.15|          3|  Bonnie Potter|Express Air|       Corporate| Office Supplies|               Paper|        Small Box|          Xerox 1968|               0.37|   West|       Washington|Anacortes|      98221| 7/27/2011|7/28/2011|  -47.64|                   7|  49.92|   88523|\n",
      "| 23087| Not Specified|    0.01|      5.68|          3.6|          3|  Bonnie Potter|Regular Air|       Corporate| Office Supplies|Scissors, Rulers ...|       Small Pack|Acme� Preferred S...|               0.56|   West|       Washington|Anacortes|      98221| 7/27/2011|7/28/2011|  -30.51|                   7|  41.64|   88523|\n",
      "| 23088| Not Specified|     0.0|    205.99|          2.5|          3|  Bonnie Potter|Express Air|       Corporate|      Technology|Telephones and Co...|        Small Box|                 V70|               0.59|   West|       Washington|Anacortes|      98221| 7/27/2011|7/27/2011|998.2023|                   8|1446.67|   88523|\n",
      "+------+--------------+--------+----------+-------------+-----------+---------------+-----------+----------------+----------------+--------------------+-----------------+--------------------+-------------------+-------+-----------------+---------+-----------+----------+---------+--------+--------------------+-------+--------+\n",
      "only showing top 5 rows\n",
      "\n"
     ]
    }
   ],
   "source": [
    "order_DF.show(5, truncate=True, vertical=False)"
   ]
  },
  {
   "cell_type": "markdown",
   "metadata": {},
   "source": [
    "## show schema"
   ]
  },
  {
   "cell_type": "code",
   "execution_count": 9,
   "metadata": {},
   "outputs": [
    {
     "name": "stdout",
     "output_type": "stream",
     "text": [
      "root\n",
      " |-- Row ID: integer (nullable = true)\n",
      " |-- Order Priority: string (nullable = true)\n",
      " |-- Discount: double (nullable = true)\n",
      " |-- Unit Price: double (nullable = true)\n",
      " |-- Shipping Cost: double (nullable = true)\n",
      " |-- Customer ID: integer (nullable = true)\n",
      " |-- Customer Name: string (nullable = true)\n",
      " |-- Ship Mode: string (nullable = true)\n",
      " |-- Customer Segment: string (nullable = true)\n",
      " |-- Product Category: string (nullable = true)\n",
      " |-- Product Sub-Category: string (nullable = true)\n",
      " |-- Product Container: string (nullable = true)\n",
      " |-- Product Name: string (nullable = true)\n",
      " |-- Product Base Margin: string (nullable = true)\n",
      " |-- Region: string (nullable = true)\n",
      " |-- State or Province: string (nullable = true)\n",
      " |-- City: string (nullable = true)\n",
      " |-- Postal Code: string (nullable = true)\n",
      " |-- Order Date: string (nullable = true)\n",
      " |-- Ship Date: string (nullable = true)\n",
      " |-- Profit: string (nullable = true)\n",
      " |-- Quantity ordered new: string (nullable = true)\n",
      " |-- Sales: string (nullable = true)\n",
      " |-- Order ID: string (nullable = true)\n",
      "\n"
     ]
    }
   ],
   "source": [
    "order_DF.printSchema()"
   ]
  },
  {
   "cell_type": "markdown",
   "metadata": {},
   "source": [
    "## select: chon cot cu the trong df\n",
    "- co the chon nhieu cot va thuc hien cac phep toan, chuc nang trong qua trinh chon"
   ]
  },
  {
   "cell_type": "code",
   "execution_count": 8,
   "metadata": {},
   "outputs": [
    {
     "name": "stdout",
     "output_type": "stream",
     "text": [
      "+---------------+\n",
      "|  Customer Name|\n",
      "+---------------+\n",
      "|Janice Fletcher|\n",
      "|  Bonnie Potter|\n",
      "|  Bonnie Potter|\n",
      "|  Bonnie Potter|\n",
      "|  Bonnie Potter|\n",
      "+---------------+\n",
      "only showing top 5 rows\n",
      "\n"
     ]
    }
   ],
   "source": [
    "order_DF.select(\"Customer Name\").show(5)"
   ]
  },
  {
   "cell_type": "markdown",
   "metadata": {},
   "source": [
    "## kieu du lieu column : la mot doi tuong tao tu cot trong dataframe.\n",
    "- co the thuc hien cac phep tinh truc tiep: + - * / %\n",
    "- co the thuc hien cac phep so sanh: == != <= >= > <\n",
    "- cac phep toan logic: and:&  or:|  not:~\n",
    "- cac ham: count(), sum(), avg(), min(), max()\n",
    "- cac ham chuoi:\n",
    "1. contains(): kiem tra cot xem chua chuoi con cu the khong\n",
    "2. startswith(): kiem tra cot xem bat dau bang 1 chuoi cu the\n",
    "3. endswith(): kiem tra cot xem ket thuc bang 1 chuoi cu the\n",
    "- cac ham khac:\n",
    "1. alias(): dat bi danh cho cot\n",
    "2. cast(): doi kieu du lieu cho cot\n",
    "3. isNull(): kiem tra gia tri null\n",
    "4. isNotNull(): kiem tra gia tri khong phai null\n",
    "5. when(): tao cac dieu kien cho cot\n"
   ]
  },
  {
   "cell_type": "code",
   "execution_count": 99,
   "metadata": {},
   "outputs": [
    {
     "name": "stdout",
     "output_type": "stream",
     "text": [
      "<class 'pyspark.sql.column.Column'>\n",
      "+----------------------+--------------------------------------------------------------------------------------+\n",
      "|Customer Name         |CASE WHEN (Unit Price > 3) THEN gia san pham lon hon 3 ELSE gia san pham nho hon 3 END|\n",
      "+----------------------+--------------------------------------------------------------------------------------+\n",
      "|Janice Fletcher       |gia san pham nho hon 3                                                                |\n",
      "|Bonnie Potter         |gia san pham nho hon 3                                                                |\n",
      "|Bonnie Potter         |gia san pham lon hon 3                                                                |\n",
      "|Bonnie Potter         |gia san pham lon hon 3                                                                |\n",
      "|Bonnie Potter         |gia san pham lon hon 3                                                                |\n",
      "|Bonnie Potter         |gia san pham lon hon 3                                                                |\n",
      "|Bonnie Potter         |gia san pham lon hon 3                                                                |\n",
      "|Ronnie Proctor        |gia san pham lon hon 3                                                                |\n",
      "|Ronnie Proctor        |gia san pham lon hon 3                                                                |\n",
      "|Dwight Hwang          |gia san pham lon hon 3                                                                |\n",
      "|Dwight Hwang          |gia san pham lon hon 3                                                                |\n",
      "|Dwight Hwang          |gia san pham lon hon 3                                                                |\n",
      "|Dwight Hwang          |gia san pham lon hon 3                                                                |\n",
      "|Leon Gill             |gia san pham lon hon 3                                                                |\n",
      "|Melanie Garner        |gia san pham lon hon 3                                                                |\n",
      "|Lorraine Houston      |gia san pham lon hon 3                                                                |\n",
      "|Meredith Norris Thomas|gia san pham lon hon 3                                                                |\n",
      "|Marcus Dunlap         |gia san pham lon hon 3                                                                |\n",
      "|Kara Pace             |gia san pham lon hon 3                                                                |\n",
      "|Gwendolyn F Tyson     |gia san pham lon hon 3                                                                |\n",
      "+----------------------+--------------------------------------------------------------------------------------+\n",
      "only showing top 20 rows\n",
      "\n"
     ]
    }
   ],
   "source": [
    "column_cust_name = order_DF[\"Customer Name\"]\n",
    "print(type(column_cust_name))\n",
    "#order_DF.select(order_DF[\"Unit Price\"] * 2).show() # tinh toan tren cot unit price\n",
    "#order_DF.select(order_DF[\"Unit Price\"] > 2).show() # tinh toan tren cot unit price\n",
    "#df_temp = order_DF.filter((order_DF[\"Unit Price\"] > 2.0) & (order_DF[\"Unit Price\"] < 3.0)) # cac phep toan logic and or not. dung trong filter hoac whare\n",
    "#order_DF.agg(sum(order_DF[\"Unit Price\"])).show() # cac ham tong hop du lieu nhu sum(), min() max(), arg() can duoc dung trong agg()\n",
    "#order_DF.agg(count(order_DF[\"Customer Name\"])).show() \n",
    "#order_DF.filter(order_DF[\"Customer Name\"].contains(\"Bonnie Potter\")).show()\n",
    "#order_DF.filter(order_DF[\"Customer Name\"].startswith(\"Bonnie\")).show()\n",
    "#order_DF.filter(order_DF[\"Customer Name\"].endswith(\"Potter\")).show()\n",
    "#order_DF.filter(order_DF[\"Customer Name\"].isNull()).show()\n",
    "order_DF.select(\"Customer Name\", when(order_DF[\"Unit Price\"] > 3, \"gia san pham lon hon 3\").otherwise(\"gia san pham nho hon 3\")).show(truncate=False)\n"
   ]
  },
  {
   "cell_type": "markdown",
   "metadata": {},
   "source": [
    "## them cot moi cho dataframe moi. tu dataframe cu, truyen vao ten cot moi, tu cot cu va ep kieu du lieu cho cot moi"
   ]
  },
  {
   "cell_type": "code",
   "execution_count": 36,
   "metadata": {},
   "outputs": [],
   "source": [
    "new_DF = order_DF.withColumn(\"id_customer_new\", col(\"Customer ID\").cast(\"string\"))"
   ]
  },
  {
   "cell_type": "code",
   "execution_count": 16,
   "metadata": {},
   "outputs": [],
   "source": [
    "new_df_2 = order_DF.withColumnRenamed(\"Row ID\", \"ID row\")"
   ]
  },
  {
   "cell_type": "code",
   "execution_count": 17,
   "metadata": {},
   "outputs": [
    {
     "name": "stdout",
     "output_type": "stream",
     "text": [
      "+------+--------------+--------+----------+-------------+-----------+---------------+-----------+----------------+----------------+--------------------+-----------------+--------------------+-------------------+-------+-----------------+---------+-----------+----------+---------+--------+--------------------+-------+--------+\n",
      "|ID row|Order Priority|Discount|Unit Price|Shipping Cost|Customer ID|  Customer Name|  Ship Mode|Customer Segment|Product Category|Product Sub-Category|Product Container|        Product Name|Product Base Margin| Region|State or Province|     City|Postal Code|Order Date|Ship Date|  Profit|Quantity ordered new|  Sales|Order ID|\n",
      "+------+--------------+--------+----------+-------------+-----------+---------------+-----------+----------------+----------------+--------------------+-----------------+--------------------+-------------------+-------+-----------------+---------+-----------+----------+---------+--------+--------------------+-------+--------+\n",
      "| 18606| Not Specified|    0.01|      2.88|          0.5|          2|Janice Fletcher|Regular Air|       Corporate| Office Supplies|              Labels|        Small Box|            Avery 49|               0.36|Central|         Illinois|  Addison|      60101| 5/28/2012|5/30/2012|    1.32|                   2|    5.9|   88525|\n",
      "| 20847|          High|    0.01|      2.84|         0.93|          3|  Bonnie Potter|Express Air|       Corporate| Office Supplies| Pens & Art Supplies|         Wrap Bag|SANFORD Liquid Ac...|               0.54|   West|       Washington|Anacortes|      98221|  7/7/2010| 7/8/2010|    4.56|                   4|  13.01|   88522|\n",
      "| 23086| Not Specified|    0.03|      6.68|         6.15|          3|  Bonnie Potter|Express Air|       Corporate| Office Supplies|               Paper|        Small Box|          Xerox 1968|               0.37|   West|       Washington|Anacortes|      98221| 7/27/2011|7/28/2011|  -47.64|                   7|  49.92|   88523|\n",
      "| 23087| Not Specified|    0.01|      5.68|          3.6|          3|  Bonnie Potter|Regular Air|       Corporate| Office Supplies|Scissors, Rulers ...|       Small Pack|Acme� Preferred S...|               0.56|   West|       Washington|Anacortes|      98221| 7/27/2011|7/28/2011|  -30.51|                   7|  41.64|   88523|\n",
      "| 23088| Not Specified|     0.0|    205.99|          2.5|          3|  Bonnie Potter|Express Air|       Corporate|      Technology|Telephones and Co...|        Small Box|                 V70|               0.59|   West|       Washington|Anacortes|      98221| 7/27/2011|7/27/2011|998.2023|                   8|1446.67|   88523|\n",
      "+------+--------------+--------+----------+-------------+-----------+---------------+-----------+----------------+----------------+--------------------+-----------------+--------------------+-------------------+-------+-----------------+---------+-----------+----------+---------+--------+--------------------+-------+--------+\n",
      "only showing top 5 rows\n",
      "\n"
     ]
    }
   ],
   "source": [
    "new_df_2.show(5)"
   ]
  },
  {
   "cell_type": "code",
   "execution_count": 19,
   "metadata": {},
   "outputs": [],
   "source": [
    "sl_id_row = new_df_2.select(\"ID row\")"
   ]
  },
  {
   "cell_type": "code",
   "execution_count": 20,
   "metadata": {},
   "outputs": [
    {
     "name": "stdout",
     "output_type": "stream",
     "text": [
      "+------+\n",
      "|ID row|\n",
      "+------+\n",
      "| 18606|\n",
      "| 20847|\n",
      "| 23086|\n",
      "| 23087|\n",
      "| 23088|\n",
      "+------+\n",
      "only showing top 5 rows\n",
      "\n"
     ]
    }
   ],
   "source": [
    "sl_id_row.show(5)"
   ]
  },
  {
   "cell_type": "code",
   "execution_count": 23,
   "metadata": {},
   "outputs": [],
   "source": [
    "new_df_2 = new_df_2.drop(\"ID row\")"
   ]
  },
  {
   "cell_type": "code",
   "execution_count": 24,
   "metadata": {},
   "outputs": [
    {
     "name": "stdout",
     "output_type": "stream",
     "text": [
      "+--------------+--------+----------+-------------+-----------+---------------+-----------+----------------+----------------+--------------------+-----------------+--------------------+-------------------+-------+-----------------+---------+-----------+----------+---------+--------+--------------------+-------+--------+\n",
      "|Order Priority|Discount|Unit Price|Shipping Cost|Customer ID|  Customer Name|  Ship Mode|Customer Segment|Product Category|Product Sub-Category|Product Container|        Product Name|Product Base Margin| Region|State or Province|     City|Postal Code|Order Date|Ship Date|  Profit|Quantity ordered new|  Sales|Order ID|\n",
      "+--------------+--------+----------+-------------+-----------+---------------+-----------+----------------+----------------+--------------------+-----------------+--------------------+-------------------+-------+-----------------+---------+-----------+----------+---------+--------+--------------------+-------+--------+\n",
      "| Not Specified|    0.01|      2.88|          0.5|          2|Janice Fletcher|Regular Air|       Corporate| Office Supplies|              Labels|        Small Box|            Avery 49|               0.36|Central|         Illinois|  Addison|      60101| 5/28/2012|5/30/2012|    1.32|                   2|    5.9|   88525|\n",
      "|          High|    0.01|      2.84|         0.93|          3|  Bonnie Potter|Express Air|       Corporate| Office Supplies| Pens & Art Supplies|         Wrap Bag|SANFORD Liquid Ac...|               0.54|   West|       Washington|Anacortes|      98221|  7/7/2010| 7/8/2010|    4.56|                   4|  13.01|   88522|\n",
      "| Not Specified|    0.03|      6.68|         6.15|          3|  Bonnie Potter|Express Air|       Corporate| Office Supplies|               Paper|        Small Box|          Xerox 1968|               0.37|   West|       Washington|Anacortes|      98221| 7/27/2011|7/28/2011|  -47.64|                   7|  49.92|   88523|\n",
      "| Not Specified|    0.01|      5.68|          3.6|          3|  Bonnie Potter|Regular Air|       Corporate| Office Supplies|Scissors, Rulers ...|       Small Pack|Acme� Preferred S...|               0.56|   West|       Washington|Anacortes|      98221| 7/27/2011|7/28/2011|  -30.51|                   7|  41.64|   88523|\n",
      "| Not Specified|     0.0|    205.99|          2.5|          3|  Bonnie Potter|Express Air|       Corporate|      Technology|Telephones and Co...|        Small Box|                 V70|               0.59|   West|       Washington|Anacortes|      98221| 7/27/2011|7/27/2011|998.2023|                   8|1446.67|   88523|\n",
      "+--------------+--------+----------+-------------+-----------+---------------+-----------+----------------+----------------+--------------------+-----------------+--------------------+-------------------+-------+-----------------+---------+-----------+----------+---------+--------+--------------------+-------+--------+\n",
      "only showing top 5 rows\n",
      "\n"
     ]
    }
   ],
   "source": [
    "new_df_2.show(5)"
   ]
  },
  {
   "cell_type": "code",
   "execution_count": 31,
   "metadata": {},
   "outputs": [],
   "source": [
    "sl_id_row.write.csv(\"./new.csv\")"
   ]
  },
  {
   "cell_type": "code",
   "execution_count": 32,
   "metadata": {},
   "outputs": [],
   "source": [
    "id_row = spark.read.csv(\"D:/Python/2024/test_hadoop/hoc_spark/new1.csv\")"
   ]
  },
  {
   "cell_type": "code",
   "execution_count": 33,
   "metadata": {},
   "outputs": [
    {
     "name": "stdout",
     "output_type": "stream",
     "text": [
      "+-----+\n",
      "|  _c0|\n",
      "+-----+\n",
      "|18606|\n",
      "|20847|\n",
      "|23086|\n",
      "|23087|\n",
      "|23088|\n",
      "|23597|\n",
      "|25549|\n",
      "|20228|\n",
      "|19483|\n",
      "|24782|\n",
      "|24563|\n",
      "|24564|\n",
      "|24565|\n",
      "|21866|\n",
      "|20876|\n",
      "|20877|\n",
      "|22241|\n",
      "|21776|\n",
      "|23328|\n",
      "|24844|\n",
      "+-----+\n",
      "only showing top 20 rows\n",
      "\n"
     ]
    }
   ],
   "source": [
    "id_row.show()"
   ]
  },
  {
   "cell_type": "code",
   "execution_count": 34,
   "metadata": {},
   "outputs": [
    {
     "data": {
      "text/plain": [
       "9426"
      ]
     },
     "execution_count": 34,
     "metadata": {},
     "output_type": "execute_result"
    }
   ],
   "source": [
    "id_row.count()"
   ]
  },
  {
   "cell_type": "code",
   "execution_count": 35,
   "metadata": {},
   "outputs": [
    {
     "data": {
      "text/plain": [
       "9426"
      ]
     },
     "execution_count": 35,
     "metadata": {},
     "output_type": "execute_result"
    }
   ],
   "source": [
    "order_DF.count()"
   ]
  },
  {
   "cell_type": "code",
   "execution_count": 42,
   "metadata": {},
   "outputs": [
    {
     "name": "stdout",
     "output_type": "stream",
     "text": [
      "+------+--------------+--------+----------+-------------+-----------+--------------------+--------------+----------------+----------------+--------------------+-----------------+--------------------+-------------------+-------+-----------------+-----------+-----------+----------+----------+------------+--------------------+-------+--------+---------------+\n",
      "|Row ID|Order Priority|Discount|Unit Price|Shipping Cost|Customer ID|       Customer Name|     Ship Mode|Customer Segment|Product Category|Product Sub-Category|Product Container|        Product Name|Product Base Margin| Region|State or Province|       City|Postal Code|Order Date| Ship Date|      Profit|Quantity ordered new|  Sales|Order ID|id_customer_new|\n",
      "+------+--------------+--------+----------+-------------+-----------+--------------------+--------------+----------------+----------------+--------------------+-----------------+--------------------+-------------------+-------+-----------------+-----------+-----------+----------+----------+------------+--------------------+-------+--------+---------------+\n",
      "| 18606| Not Specified|    0.01|      2.88|          0.5|          2|     Janice Fletcher|   Regular Air|       Corporate| Office Supplies|              Labels|        Small Box|            Avery 49|               0.36|Central|         Illinois|    Addison|      60101| 5/28/2012| 5/30/2012|        1.32|                   2|    5.9|   88525|              2|\n",
      "| 20847|          High|    0.01|      2.84|         0.93|          3|       Bonnie Potter|   Express Air|       Corporate| Office Supplies| Pens & Art Supplies|         Wrap Bag|SANFORD Liquid Ac...|               0.54|   West|       Washington|  Anacortes|      98221|  7/7/2010|  7/8/2010|        4.56|                   4|  13.01|   88522|              3|\n",
      "| 23086| Not Specified|    0.03|      6.68|         6.15|          3|       Bonnie Potter|   Express Air|       Corporate| Office Supplies|               Paper|        Small Box|          Xerox 1968|               0.37|   West|       Washington|  Anacortes|      98221| 7/27/2011| 7/28/2011|      -47.64|                   7|  49.92|   88523|              3|\n",
      "| 23087| Not Specified|    0.01|      5.68|          3.6|          3|       Bonnie Potter|   Regular Air|       Corporate| Office Supplies|Scissors, Rulers ...|       Small Pack|Acme� Preferred S...|               0.56|   West|       Washington|  Anacortes|      98221| 7/27/2011| 7/28/2011|      -30.51|                   7|  41.64|   88523|              3|\n",
      "| 23088| Not Specified|     0.0|    205.99|          2.5|          3|       Bonnie Potter|   Express Air|       Corporate|      Technology|Telephones and Co...|        Small Box|                 V70|               0.59|   West|       Washington|  Anacortes|      98221| 7/27/2011| 7/27/2011|    998.2023|                   8|1446.67|   88523|              3|\n",
      "| 23597|        Medium|    0.09|     55.48|         14.3|          3|       Bonnie Potter|   Express Air|       Corporate| Office Supplies|               Paper|        Small Box|           Xerox 194|               0.37|   West|       Washington|  Anacortes|      98221| 11/9/2011|11/11/2011|   1388.0523|                  37|2011.67|   88524|              3|\n",
      "| 25549|           Low|    0.08|    120.97|         26.3|          3|       Bonnie Potter|Delivery Truck|       Corporate|      Technology|     Office Machines|       Jumbo Drum|Canon S750 Color ...|               0.38|   West|       Washington|  Anacortes|      98221|  7/1/2013|  7/8/2013|   1001.4453|                  12|1451.37|   88526|              3|\n",
      "| 20228| Not Specified|    0.02|    500.98|         26.0|          5|      Ronnie Proctor|Delivery Truck|     Home Office|       Furniture|  Chairs & Chairmats|       Jumbo Drum|Global Troy� Exec...|                0.6|   West|       California|San Gabriel|      91776|12/13/2010|12/15/2010|   4390.3665|                  12|6362.85|   90193|              5|\n",
      "| 19483|           Low|    0.08|      6.48|         6.81|          5|      Ronnie Proctor|   Regular Air|     Home Office| Office Supplies|               Paper|        Small Box|          Xerox 1930|               0.36|   West|       California|San Gabriel|      91776| 5/12/2012| 5/21/2012|     -141.26|                  18| 113.25|   90197|              5|\n",
      "| 24782|          High|    0.01|     90.24|         0.99|          6|        Dwight Hwang|   Regular Air|     Home Office| Office Supplies|          Appliances|        Small Box|Kensington 6 Outl...|               0.56|   West|       California|   San Jose|      95123| 5/26/2011| 5/26/2011|   1045.4673|                  16|1515.17|   90194|              6|\n",
      "| 24563|      Critical|    0.07|      6.48|          6.6|          6|        Dwight Hwang|   Regular Air|     Home Office| Office Supplies|               Paper|        Small Box|            Xerox 21|               0.37|   West|       California|   San Jose|      95123|12/29/2012|12/31/2012|      -13.86|                   4|  28.61|   90200|              6|\n",
      "| 24564|      Critical|    0.01|      4.84|         0.71|          6|        Dwight Hwang|   Regular Air|     Home Office| Office Supplies| Pens & Art Supplies|         Wrap Bag|*Staples* Highlig...|               0.52|   West|       California|   San Jose|      95123|12/29/2012|12/31/2012|     57.5805|                  17|  83.45|   90200|              6|\n",
      "| 24565|      Critical|     0.1|     85.99|         0.99|          6|        Dwight Hwang|   Regular Air|     Home Office|      Technology|Telephones and Co...|         Wrap Bag|         Accessory34|               0.55|   West|       California|   San Jose|      95123|12/29/2012|12/31/2012|   1176.5052|                  24|1705.08|   90200|              6|\n",
      "| 21866|          High|    0.05|     12.28|         4.86|          7|           Leon Gill|   Regular Air|     Home Office| Office Supplies|               Paper|        Small Box|          Xerox 1933|               0.38|   East|    Massachusetts| Fall River|       2724|10/30/2012|10/31/2012|     72.9928|                  19| 232.95|   90198|              7|\n",
      "| 20876|        Medium|    0.08|    140.98|        36.09|          8|      Melanie Garner|Delivery Truck|     Home Office|       Furniture|           Bookcases|        Jumbo Box|Sauder Forest Hil...|               0.77|   East|    New Hampshire|    Bedford|       3110|12/25/2012|12/26/2012|     -158.74|                   5| 705.47|   90199|              8|\n",
      "| 20877|        Medium|     0.1|    286.85|        61.76|          9|    Lorraine Houston|Delivery Truck|     Home Office|       Furniture|              Tables|        Jumbo Box|Riverside Furnitu...|               0.78|   East|       New Jersey|     Camden|       8101|12/25/2012|12/27/2012|-346.6151975|                   8|1794.27|   90199|              9|\n",
      "| 22241|      Critical|    0.06|     15.57|         1.39|         10|Meredith Norris T...|   Regular Air|     Home Office| Office Supplies|           Envelopes|        Small Box|Park Ridge� Embos...|               0.38|   East|       New Jersey| Pennsauken|       8109| 10/4/2011| 10/5/2011|    142.7955|                  14| 206.95|   90195|             10|\n",
      "| 21776|      Critical|    0.06|      9.48|         7.29|         11|       Marcus Dunlap|   Regular Air|     Home Office|       Furniture|  Office Furnishings|       Small Pack|DAX Two-Tone Rose...|               0.45|   East|       New Jersey|    Roselle|       7203| 8/15/2010| 8/17/2010|    -53.8096|                  22| 211.15|   90192|             11|\n",
      "| 23328|          High|    0.04|     10.98|         3.37|         12|           Kara Pace|   Regular Air|     Home Office| Office Supplies|Scissors, Rulers ...|       Small Pack|Fiskars� Softgrip...|               0.57|   East|     Rhode Island|   Cranston|       2907| 2/24/2012| 2/26/2012|       23.12|                   8|  90.39|   90196|             12|\n",
      "| 24844|        Medium|    0.09|     78.69|        19.99|         14|   Gwendolyn F Tyson|   Regular Air|  Small Business|       Furniture|  Office Furnishings|        Small Box|Howard Miller 12-...|               0.43|Central|        Minnesota| Prior Lake|      55372| 5/12/2010| 5/14/2010|    803.4705|                  16|1164.45|   86838|             14|\n",
      "+------+--------------+--------+----------+-------------+-----------+--------------------+--------------+----------------+----------------+--------------------+-----------------+--------------------+-------------------+-------+-----------------+-----------+-----------+----------+----------+------------+--------------------+-------+--------+---------------+\n",
      "only showing top 20 rows\n",
      "\n"
     ]
    }
   ],
   "source": [
    "new_DF.show()"
   ]
  },
  {
   "cell_type": "code",
   "execution_count": 100,
   "metadata": {},
   "outputs": [],
   "source": [
    "spark.stop()"
   ]
  }
 ],
 "metadata": {
  "kernelspec": {
   "display_name": "Python 3",
   "language": "python",
   "name": "python3"
  },
  "language_info": {
   "codemirror_mode": {
    "name": "ipython",
    "version": 3
   },
   "file_extension": ".py",
   "mimetype": "text/x-python",
   "name": "python",
   "nbconvert_exporter": "python",
   "pygments_lexer": "ipython3",
   "version": "3.10.4"
  }
 },
 "nbformat": 4,
 "nbformat_minor": 2
}

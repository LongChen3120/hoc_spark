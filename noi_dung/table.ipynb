{
 "cells": [
  {
   "cell_type": "code",
   "execution_count": 23,
   "metadata": {},
   "outputs": [],
   "source": [
    "from pyspark.sql import SparkSession"
   ]
  },
  {
   "cell_type": "code",
   "execution_count": 24,
   "metadata": {},
   "outputs": [],
   "source": [
    "ss = SparkSession \\\n",
    "    .builder \\\n",
    "    .config(\"spark.sql.warehouse.dir\", \"D:/Python/2024/test_hadoop/hoc_spark/warehouse\") \\\n",
    "    .enableHiveSupport() \\\n",
    "    .getOrCreate()"
   ]
  },
  {
   "cell_type": "code",
   "execution_count": 25,
   "metadata": {},
   "outputs": [],
   "source": [
    "df = ss.read.csv(\"D:/Python/2024/test_hadoop/hoc_spark/demo.csv\", header=True, inferSchema=True)"
   ]
  },
  {
   "cell_type": "code",
   "execution_count": 27,
   "metadata": {},
   "outputs": [],
   "source": [
    "order_tb = df.createOrReplaceTempView(\"order_tmp\")"
   ]
  },
  {
   "cell_type": "code",
   "execution_count": 28,
   "metadata": {},
   "outputs": [
    {
     "name": "stdout",
     "output_type": "stream",
     "text": [
      "+--------------+-----------+-----------+----------+--------+\n",
      "|Order_Priority|Customer_ID|  Ship_Mode|Order_Date|Order_ID|\n",
      "+--------------+-----------+-----------+----------+--------+\n",
      "| Not Specified|          2|Regular Air| 5/28/2012|   88525|\n",
      "|          High|          3|Express Air|  7/7/2010|   88522|\n",
      "| Not Specified|          3|Express Air| 7/27/2011|   88523|\n",
      "| Not Specified|          3|Regular Air| 7/27/2011|   88523|\n",
      "| Not Specified|          3|Express Air| 7/27/2011|   88523|\n",
      "+--------------+-----------+-----------+----------+--------+\n",
      "only showing top 5 rows\n",
      "\n"
     ]
    }
   ],
   "source": [
    "ss.sql(\"select * from order_tmp\").show(5)"
   ]
  },
  {
   "cell_type": "markdown",
   "metadata": {
    "jp-MarkdownHeadingCollapsed": true
   },
   "source": [
    "## tao database"
   ]
  },
  {
   "cell_type": "code",
   "execution_count": 29,
   "metadata": {},
   "outputs": [
    {
     "data": {
      "text/plain": [
       "DataFrame[]"
      ]
     },
     "execution_count": 29,
     "metadata": {},
     "output_type": "execute_result"
    }
   ],
   "source": [
    "ss.sql(\"create database if not exists spark_sql_db\")"
   ]
  },
  {
   "cell_type": "code",
   "execution_count": 30,
   "metadata": {},
   "outputs": [
    {
     "name": "stdout",
     "output_type": "stream",
     "text": [
      "+---------+---------+-----------+\n",
      "|namespace|tableName|isTemporary|\n",
      "+---------+---------+-----------+\n",
      "|         |order_tmp|       true|\n",
      "+---------+---------+-----------+\n",
      "\n"
     ]
    }
   ],
   "source": [
    "ss.sql(\"show tables\").show()"
   ]
  },
  {
   "cell_type": "code",
   "execution_count": 31,
   "metadata": {},
   "outputs": [
    {
     "name": "stdout",
     "output_type": "stream",
     "text": [
      "+------------+\n",
      "|   namespace|\n",
      "+------------+\n",
      "|     default|\n",
      "|spark_sql_db|\n",
      "+------------+\n",
      "\n"
     ]
    }
   ],
   "source": [
    "ss.sql(\"show databases\").show()"
   ]
  },
  {
   "cell_type": "markdown",
   "metadata": {
    "jp-MarkdownHeadingCollapsed": true
   },
   "source": [
    "## tao bang orders_managed tu bang tam order_tmp"
   ]
  },
  {
   "cell_type": "code",
   "execution_count": 32,
   "metadata": {},
   "outputs": [
    {
     "data": {
      "text/plain": [
       "DataFrame[]"
      ]
     },
     "execution_count": 32,
     "metadata": {},
     "output_type": "execute_result"
    }
   ],
   "source": [
    "ss.sql(\"create table if not exists spark_sql_db.orders_managed as select * from order_tmp\")"
   ]
  },
  {
   "cell_type": "code",
   "execution_count": 33,
   "metadata": {},
   "outputs": [
    {
     "name": "stdout",
     "output_type": "stream",
     "text": [
      "+------------+---------------+-----------+\n",
      "|   namespace|      tableName|isTemporary|\n",
      "+------------+---------------+-----------+\n",
      "|spark_sql_db|orders_external|      false|\n",
      "|spark_sql_db| orders_managed|      false|\n",
      "|spark_sql_db|orders_mmanaged|      false|\n",
      "|            |      order_tmp|       true|\n",
      "+------------+---------------+-----------+\n",
      "\n"
     ]
    }
   ],
   "source": [
    "ss.sql(\"show tables from spark_sql_db\").show(5)"
   ]
  },
  {
   "cell_type": "code",
   "execution_count": 34,
   "metadata": {},
   "outputs": [
    {
     "name": "stdout",
     "output_type": "stream",
     "text": [
      "+--------------+-----------+-----------+----------+--------+\n",
      "|Order_Priority|Customer_ID|  Ship_Mode|Order_Date|Order_ID|\n",
      "+--------------+-----------+-----------+----------+--------+\n",
      "| Not Specified|          2|Regular Air| 5/28/2012|   88525|\n",
      "|          High|          3|Express Air|  7/7/2010|   88522|\n",
      "| Not Specified|          3|Express Air| 7/27/2011|   88523|\n",
      "| Not Specified|          3|Regular Air| 7/27/2011|   88523|\n",
      "| Not Specified|          3|Express Air| 7/27/2011|   88523|\n",
      "+--------------+-----------+-----------+----------+--------+\n",
      "only showing top 5 rows\n",
      "\n"
     ]
    }
   ],
   "source": [
    "ss.sql(\"select * from spark_sql_db.orders_managed\").show(5)"
   ]
  },
  {
   "cell_type": "markdown",
   "metadata": {
    "jp-MarkdownHeadingCollapsed": true
   },
   "source": [
    "## show chi tiet bang"
   ]
  },
  {
   "cell_type": "code",
   "execution_count": 35,
   "metadata": {},
   "outputs": [
    {
     "name": "stdout",
     "output_type": "stream",
     "text": [
      "+----------------------------+-----------------------------------------------------------------------------------+-------+\n",
      "|col_name                    |data_type                                                                          |comment|\n",
      "+----------------------------+-----------------------------------------------------------------------------------+-------+\n",
      "|Order_Priority              |string                                                                             |NULL   |\n",
      "|Customer_ID                 |int                                                                                |NULL   |\n",
      "|Ship_Mode                   |string                                                                             |NULL   |\n",
      "|Order_Date                  |string                                                                             |NULL   |\n",
      "|Order_ID                    |string                                                                             |NULL   |\n",
      "|                            |                                                                                   |       |\n",
      "|# Detailed Table Information|                                                                                   |       |\n",
      "|Catalog                     |spark_catalog                                                                      |       |\n",
      "|Database                    |spark_sql_db                                                                       |       |\n",
      "|Table                       |orders_managed                                                                     |       |\n",
      "|Owner                       |LONG                                                                               |       |\n",
      "|Created Time                |Fri Jun 07 14:51:38 ICT 2024                                                       |       |\n",
      "|Last Access                 |UNKNOWN                                                                            |       |\n",
      "|Created By                  |Spark 3.5.1                                                                        |       |\n",
      "|Type                        |MANAGED                                                                            |       |\n",
      "|Provider                    |hive                                                                               |       |\n",
      "|Table Properties            |[transient_lastDdlTime=1717746699]                                                 |       |\n",
      "|Statistics                  |383338 bytes                                                                       |       |\n",
      "|Location                    |file:/D:/Python/2024/test_hadoop/hoc_spark/warehouse/spark_sql_db.db/orders_managed|       |\n",
      "|Serde Library               |org.apache.hadoop.hive.serde2.lazy.LazySimpleSerDe                                 |       |\n",
      "|InputFormat                 |org.apache.hadoop.mapred.TextInputFormat                                           |       |\n",
      "|OutputFormat                |org.apache.hadoop.hive.ql.io.HiveIgnoreKeyTextOutputFormat                         |       |\n",
      "|Storage Properties          |[serialization.format=1]                                                           |       |\n",
      "|Partition Provider          |Catalog                                                                            |       |\n",
      "+----------------------------+-----------------------------------------------------------------------------------+-------+\n",
      "\n"
     ]
    }
   ],
   "source": [
    "ss.sql(\"describe extended spark_sql_db.orders_managed\").show(30, False)"
   ]
  },
  {
   "cell_type": "markdown",
   "metadata": {
    "jp-MarkdownHeadingCollapsed": true
   },
   "source": [
    "## tao bang external tu bang orders_managed"
   ]
  },
  {
   "cell_type": "code",
   "execution_count": 36,
   "metadata": {},
   "outputs": [
    {
     "data": {
      "text/plain": [
       "DataFrame[]"
      ]
     },
     "execution_count": 36,
     "metadata": {},
     "output_type": "execute_result"
    }
   ],
   "source": [
    "ss.sql(\"create external table if not exists spark_sql_db.orders_external (Order_Priority string, Customer_ID int, Ship_Mode string, Order_Date string, Order_ID string) row format delimited fields terminated by ',' location 'file:/D:/Python/2024/test_hadoop/hoc_spark/warehouse/spark_sql_db.db/orders_managed'\")"
   ]
  },
  {
   "cell_type": "code",
   "execution_count": 37,
   "metadata": {},
   "outputs": [
    {
     "name": "stdout",
     "output_type": "stream",
     "text": [
      "+------------+---------------+-----------+\n",
      "|   namespace|      tableName|isTemporary|\n",
      "+------------+---------------+-----------+\n",
      "|spark_sql_db|orders_external|      false|\n",
      "|spark_sql_db| orders_managed|      false|\n",
      "|spark_sql_db|orders_mmanaged|      false|\n",
      "|            |      order_tmp|       true|\n",
      "+------------+---------------+-----------+\n",
      "\n"
     ]
    }
   ],
   "source": [
    "ss.sql(\"show tables from spark_sql_db\").show()"
   ]
  },
  {
   "cell_type": "code",
   "execution_count": 48,
   "metadata": {},
   "outputs": [
    {
     "name": "stdout",
     "output_type": "stream",
     "text": [
      "+--------------+-----------+--------------+----------+--------+\n",
      "|Order_Priority|Customer_ID|     Ship_Mode|Order_Date|Order_ID|\n",
      "+--------------+-----------+--------------+----------+--------+\n",
      "| Not Specified|          2|   Regular Air| 5/28/2012|   88525|\n",
      "|          High|          3|   Express Air|  7/7/2010|   88522|\n",
      "| Not Specified|          3|   Express Air| 7/27/2011|   88523|\n",
      "| Not Specified|          3|   Regular Air| 7/27/2011|   88523|\n",
      "| Not Specified|          3|   Express Air| 7/27/2011|   88523|\n",
      "|        Medium|          3|   Express Air| 11/9/2011|   88524|\n",
      "|           Low|          3|Delivery Truck|  7/1/2013|   88526|\n",
      "| Not Specified|          5|Delivery Truck|12/13/2010|   90193|\n",
      "|           Low|          5|   Regular Air| 5/12/2012|   90197|\n",
      "|          High|          6|   Regular Air| 5/26/2011|   90194|\n",
      "|      Critical|          6|   Regular Air|12/29/2012|   90200|\n",
      "|      Critical|          6|   Regular Air|12/29/2012|   90200|\n",
      "|      Critical|          6|   Regular Air|12/29/2012|   90200|\n",
      "|          High|          7|   Regular Air|10/30/2012|   90198|\n",
      "|        Medium|          8|Delivery Truck|12/25/2012|   90199|\n",
      "|        Medium|          9|Delivery Truck|12/25/2012|   90199|\n",
      "|      Critical|         10|   Regular Air| 10/4/2011|   90195|\n",
      "|      Critical|         11|   Regular Air| 8/15/2010|   90192|\n",
      "|          High|         12|   Regular Air| 2/24/2012|   90196|\n",
      "|        Medium|         14|   Regular Air| 5/12/2010|   86838|\n",
      "+--------------+-----------+--------------+----------+--------+\n",
      "only showing top 20 rows\n",
      "\n"
     ]
    }
   ],
   "source": [
    "ss.sql(\"select * from spark_sql_db.orders_managed\").show()"
   ]
  },
  {
   "cell_type": "code",
   "execution_count": 42,
   "metadata": {},
   "outputs": [
    {
     "name": "stdout",
     "output_type": "stream",
     "text": [
      "+----------------------------+-----------------------------------------------------------------------------------+-------+\n",
      "|col_name                    |data_type                                                                          |comment|\n",
      "+----------------------------+-----------------------------------------------------------------------------------+-------+\n",
      "|Order_Priority              |string                                                                             |NULL   |\n",
      "|Customer_ID                 |int                                                                                |NULL   |\n",
      "|Ship_Mode                   |string                                                                             |NULL   |\n",
      "|Order_Date                  |string                                                                             |NULL   |\n",
      "|Order_ID                    |string                                                                             |NULL   |\n",
      "|                            |                                                                                   |       |\n",
      "|# Detailed Table Information|                                                                                   |       |\n",
      "|Catalog                     |spark_catalog                                                                      |       |\n",
      "|Database                    |spark_sql_db                                                                       |       |\n",
      "|Table                       |orders_external                                                                    |       |\n",
      "|Owner                       |LONG                                                                               |       |\n",
      "|Created Time                |Fri Jun 07 14:57:37 ICT 2024                                                       |       |\n",
      "|Last Access                 |UNKNOWN                                                                            |       |\n",
      "|Created By                  |Spark 3.5.1                                                                        |       |\n",
      "|Type                        |EXTERNAL                                                                           |       |\n",
      "|Provider                    |hive                                                                               |       |\n",
      "|Table Properties            |[transient_lastDdlTime=1717747057]                                                 |       |\n",
      "|Statistics                  |383338 bytes                                                                       |       |\n",
      "|Location                    |file:/D:/Python/2024/test_hadoop/hoc_spark/warehouse/spark_sql_db.db/orders_managed|       |\n",
      "|Serde Library               |org.apache.hadoop.hive.serde2.lazy.LazySimpleSerDe                                 |       |\n",
      "|InputFormat                 |org.apache.hadoop.mapred.TextInputFormat                                           |       |\n",
      "|OutputFormat                |org.apache.hadoop.hive.ql.io.HiveIgnoreKeyTextOutputFormat                         |       |\n",
      "|Storage Properties          |[serialization.format=,, field.delim=,]                                            |       |\n",
      "|Partition Provider          |Catalog                                                                            |       |\n",
      "+----------------------------+-----------------------------------------------------------------------------------+-------+\n",
      "\n"
     ]
    }
   ],
   "source": [
    "ss.sql(\"describe extended spark_sql_db.orders_external\").show(30, False)"
   ]
  },
  {
   "cell_type": "markdown",
   "metadata": {},
   "source": [
    "## tao bang tu file csv"
   ]
  },
  {
   "cell_type": "code",
   "execution_count": 73,
   "metadata": {},
   "outputs": [
    {
     "data": {
      "text/plain": [
       "DataFrame[]"
      ]
     },
     "execution_count": 73,
     "metadata": {},
     "output_type": "execute_result"
    }
   ],
   "source": [
    "ss.sql(\"\"\"create external table if not exists spark_sql_db.orders_external2 \n",
    "        (Order_Priority string, Customer_ID int, Ship_Mode string, Order_Date string, Order_ID string) \n",
    "        using csv options (path 'D:/Python/2024/test_hadoop/hoc_spark/demo.csv', header 'True')\"\"\")"
   ]
  },
  {
   "cell_type": "code",
   "execution_count": 72,
   "metadata": {},
   "outputs": [
    {
     "name": "stdout",
     "output_type": "stream",
     "text": [
      "+------------+---------------+-----------+\n",
      "|   namespace|      tableName|isTemporary|\n",
      "+------------+---------------+-----------+\n",
      "|spark_sql_db|orders_external|      false|\n",
      "|spark_sql_db| orders_managed|      false|\n",
      "|            |      order_tmp|       true|\n",
      "+------------+---------------+-----------+\n",
      "\n"
     ]
    }
   ],
   "source": [
    "ss.sql(\"show tables from spark_sql_db\").show()"
   ]
  },
  {
   "cell_type": "code",
   "execution_count": 74,
   "metadata": {
    "scrolled": true
   },
   "outputs": [
    {
     "name": "stdout",
     "output_type": "stream",
     "text": [
      "+----------------------------+---------------------------------------------------------+-------+\n",
      "|col_name                    |data_type                                                |comment|\n",
      "+----------------------------+---------------------------------------------------------+-------+\n",
      "|Order_Priority              |string                                                   |NULL   |\n",
      "|Customer_ID                 |int                                                      |NULL   |\n",
      "|Ship_Mode                   |string                                                   |NULL   |\n",
      "|Order_Date                  |string                                                   |NULL   |\n",
      "|Order_ID                    |string                                                   |NULL   |\n",
      "|                            |                                                         |       |\n",
      "|# Detailed Table Information|                                                         |       |\n",
      "|Catalog                     |spark_catalog                                            |       |\n",
      "|Database                    |spark_sql_db                                             |       |\n",
      "|Table                       |orders_external2                                         |       |\n",
      "|Owner                       |LONG                                                     |       |\n",
      "|Created Time                |Fri Jun 07 16:11:27 ICT 2024                             |       |\n",
      "|Last Access                 |UNKNOWN                                                  |       |\n",
      "|Created By                  |Spark 3.5.1                                              |       |\n",
      "|Type                        |EXTERNAL                                                 |       |\n",
      "|Provider                    |csv                                                      |       |\n",
      "|Location                    |file:/D:/Python/2024/test_hadoop/hoc_spark/demo.csv      |       |\n",
      "|Serde Library               |org.apache.hadoop.hive.serde2.lazy.LazySimpleSerDe       |       |\n",
      "|InputFormat                 |org.apache.hadoop.mapred.SequenceFileInputFormat         |       |\n",
      "|OutputFormat                |org.apache.hadoop.hive.ql.io.HiveSequenceFileOutputFormat|       |\n",
      "|Storage Properties          |[header=True]                                            |       |\n",
      "+----------------------------+---------------------------------------------------------+-------+\n",
      "\n"
     ]
    }
   ],
   "source": [
    "ss.sql(\"describe extended spark_sql_db.orders_external2\").show(30, False)"
   ]
  },
  {
   "cell_type": "code",
   "execution_count": 75,
   "metadata": {},
   "outputs": [
    {
     "name": "stdout",
     "output_type": "stream",
     "text": [
      "+--------------+-----------+-----------+----------+--------+\n",
      "|Order_Priority|Customer_ID|  Ship_Mode|Order_Date|Order_ID|\n",
      "+--------------+-----------+-----------+----------+--------+\n",
      "| Not Specified|          2|Regular Air| 5/28/2012|   88525|\n",
      "|          High|          3|Express Air|  7/7/2010|   88522|\n",
      "| Not Specified|          3|Express Air| 7/27/2011|   88523|\n",
      "| Not Specified|          3|Regular Air| 7/27/2011|   88523|\n",
      "| Not Specified|          3|Express Air| 7/27/2011|   88523|\n",
      "+--------------+-----------+-----------+----------+--------+\n",
      "only showing top 5 rows\n",
      "\n"
     ]
    }
   ],
   "source": [
    "ss.sql(\"select * from spark_sql_db.orders_external2\").show(5)"
   ]
  },
  {
   "cell_type": "markdown",
   "metadata": {},
   "source": [
    "## thu drop bang: \n",
    "- drop bang managed(quan ly boi spark thi) thi spark se xoa het data file va matadata(schema)\n",
    "- drop bang external(spark chi quan ly schema. data file tu bat ky dau nhu tu bang managed, hay tu file csv... thi spark chi quan ly schema thoi) thi spark chi xoa matadata(schema)"
   ]
  },
  {
   "cell_type": "code",
   "execution_count": 76,
   "metadata": {},
   "outputs": [],
   "source": [
    "#ss.sql(\"drop table if exists spark_sql_db.orders_mmanaged\")"
   ]
  }
 ],
 "metadata": {
  "kernelspec": {
   "display_name": "Python 3 (ipykernel)",
   "language": "python",
   "name": "python3"
  },
  "language_info": {
   "codemirror_mode": {
    "name": "ipython",
    "version": 3
   },
   "file_extension": ".py",
   "mimetype": "text/x-python",
   "name": "python",
   "nbconvert_exporter": "python",
   "pygments_lexer": "ipython3",
   "version": "3.10.4"
  }
 },
 "nbformat": 4,
 "nbformat_minor": 4
}

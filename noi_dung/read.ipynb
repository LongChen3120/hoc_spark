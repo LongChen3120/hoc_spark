{
 "cells": [
  {
   "cell_type": "code",
   "execution_count": 1,
   "metadata": {},
   "outputs": [],
   "source": [
    "from pyspark.sql import SparkSession\n",
    "spark = SparkSession.builder.appName(\"spark read\").getOrCreate()"
   ]
  },
  {
   "cell_type": "markdown",
   "metadata": {},
   "source": [
    "# tao dataframe tu file csv"
   ]
  },
  {
   "cell_type": "code",
   "execution_count": 2,
   "metadata": {},
   "outputs": [],
   "source": [
    "df = spark.read.csv(\"D:/Python/2024/test_hadoop/hoc_spark/Orders.csv\", header=True, inferSchema=True)"
   ]
  },
  {
   "cell_type": "code",
   "execution_count": 3,
   "metadata": {},
   "outputs": [
    {
     "name": "stdout",
     "output_type": "stream",
     "text": [
      "+------+--------------+--------+----------+-------------+-----------+---------------+-----------+----------------+----------------+--------------------+-----------------+--------------------+-------------------+-------+-----------------+---------+-----------+----------+---------+--------+--------------------+-------+--------+\n",
      "|Row ID|Order Priority|Discount|Unit Price|Shipping Cost|Customer ID|  Customer Name|  Ship Mode|Customer Segment|Product Category|Product Sub-Category|Product Container|        Product Name|Product Base Margin| Region|State or Province|     City|Postal Code|Order Date|Ship Date|  Profit|Quantity ordered new|  Sales|Order ID|\n",
      "+------+--------------+--------+----------+-------------+-----------+---------------+-----------+----------------+----------------+--------------------+-----------------+--------------------+-------------------+-------+-----------------+---------+-----------+----------+---------+--------+--------------------+-------+--------+\n",
      "| 18606| Not Specified|    0.01|      2.88|          0.5|          2|Janice Fletcher|Regular Air|       Corporate| Office Supplies|              Labels|        Small Box|            Avery 49|               0.36|Central|         Illinois|  Addison|      60101| 5/28/2012|5/30/2012|    1.32|                   2|    5.9|   88525|\n",
      "| 20847|          High|    0.01|      2.84|         0.93|          3|  Bonnie Potter|Express Air|       Corporate| Office Supplies| Pens & Art Supplies|         Wrap Bag|SANFORD Liquid Ac...|               0.54|   West|       Washington|Anacortes|      98221|  7/7/2010| 7/8/2010|    4.56|                   4|  13.01|   88522|\n",
      "| 23086| Not Specified|    0.03|      6.68|         6.15|          3|  Bonnie Potter|Express Air|       Corporate| Office Supplies|               Paper|        Small Box|          Xerox 1968|               0.37|   West|       Washington|Anacortes|      98221| 7/27/2011|7/28/2011|  -47.64|                   7|  49.92|   88523|\n",
      "| 23087| Not Specified|    0.01|      5.68|          3.6|          3|  Bonnie Potter|Regular Air|       Corporate| Office Supplies|Scissors, Rulers ...|       Small Pack|Acme� Preferred S...|               0.56|   West|       Washington|Anacortes|      98221| 7/27/2011|7/28/2011|  -30.51|                   7|  41.64|   88523|\n",
      "| 23088| Not Specified|     0.0|    205.99|          2.5|          3|  Bonnie Potter|Express Air|       Corporate|      Technology|Telephones and Co...|        Small Box|                 V70|               0.59|   West|       Washington|Anacortes|      98221| 7/27/2011|7/27/2011|998.2023|                   8|1446.67|   88523|\n",
      "+------+--------------+--------+----------+-------------+-----------+---------------+-----------+----------------+----------------+--------------------+-----------------+--------------------+-------------------+-------+-----------------+---------+-----------+----------+---------+--------+--------------------+-------+--------+\n",
      "only showing top 5 rows\n",
      "\n"
     ]
    }
   ],
   "source": [
    "df.show(5)"
   ]
  },
  {
   "cell_type": "markdown",
   "metadata": {},
   "source": [
    "## tao table tu dataframe"
   ]
  },
  {
   "cell_type": "code",
   "execution_count": 15,
   "metadata": {},
   "outputs": [],
   "source": [
    "df.createOrReplaceTempView(\"table_orders\")"
   ]
  },
  {
   "cell_type": "markdown",
   "metadata": {},
   "source": [
    "## tao dataframe tu table"
   ]
  },
  {
   "cell_type": "code",
   "execution_count": 16,
   "metadata": {},
   "outputs": [],
   "source": [
    "a = spark.sql(\"select * from table_orders\")"
   ]
  },
  {
   "cell_type": "code",
   "execution_count": 20,
   "metadata": {},
   "outputs": [],
   "source": [
    "new_df = df.select(\"Order Priority\", \"Customer ID\", \"Ship Mode\", \"Order Date\", \"Order ID\")"
   ]
  },
  {
   "cell_type": "code",
   "execution_count": 22,
   "metadata": {},
   "outputs": [],
   "source": [
    "new_df.write.csv(\"D:/Python/2024/test_hadoop/hoc_spark/demo.csv\")"
   ]
  }
 ],
 "metadata": {
  "kernelspec": {
   "display_name": "Python 3",
   "language": "python",
   "name": "python3"
  },
  "language_info": {
   "codemirror_mode": {
    "name": "ipython",
    "version": 3
   },
   "file_extension": ".py",
   "mimetype": "text/x-python",
   "name": "python",
   "nbconvert_exporter": "python",
   "pygments_lexer": "ipython3",
   "version": "3.10.4"
  }
 },
 "nbformat": 4,
 "nbformat_minor": 2
}

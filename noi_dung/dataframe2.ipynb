{
 "cells": [
  {
   "cell_type": "markdown",
   "id": "1f6d15fc-480b-48e6-b07d-bf7d6cd92684",
   "metadata": {},
   "source": [
    "de bai:\n",
    "- dem so luong orders tuong ung voi moi kieu ship\n",
    "- top 10 khach hang co orders nhieu nhat\n",
    "- tong so luong khach hang\n",
    "- khach hang co priority la high cao nhat\n",
    "  giai bang dataframe, sql"
   ]
  },
  {
   "cell_type": "code",
   "execution_count": 2,
   "id": "bd51eb62-88e2-451e-b9d4-c6004de9bfc9",
   "metadata": {},
   "outputs": [],
   "source": [
    "from pyspark.sql import SparkSession"
   ]
  },
  {
   "cell_type": "code",
   "execution_count": 4,
   "id": "d526cf10-fa53-4b57-bd5c-64203fd9491a",
   "metadata": {},
   "outputs": [],
   "source": [
    "ss = SparkSession \\\n",
    "    .builder \\\n",
    "    .appName(\"thuc hanh dataframe 2\") \\\n",
    "    .config(\"spark.sql.warehouse.dir\", \"D:\\Python\\2024\\test_hadoop\\hoc_spark\\warehouse\") \\\n",
    "    .enableHiveSupport() \\\n",
    "    .getOrCreate()"
   ]
  },
  {
   "cell_type": "code",
   "execution_count": 11,
   "id": "cd75db31-cd2e-4bf6-8b02-e4e7d9c800b0",
   "metadata": {},
   "outputs": [],
   "source": [
    "orders_df = ss.read.csv(\"D:/Python/2024/test_hadoop/hoc_spark/demo.csv\", header=True, inferSchema=True)"
   ]
  },
  {
   "cell_type": "code",
   "execution_count": 12,
   "id": "11e783b0-b009-4df6-bcc6-e5b0924e4dbc",
   "metadata": {},
   "outputs": [
    {
     "name": "stdout",
     "output_type": "stream",
     "text": [
      "+--------------+-----------+-----------+----------+--------+\n",
      "|Order_Priority|Customer_ID|  Ship_Mode|Order_Date|Order_ID|\n",
      "+--------------+-----------+-----------+----------+--------+\n",
      "| Not Specified|          2|Regular Air| 5/28/2012|   88525|\n",
      "|          High|          3|Express Air|  7/7/2010|   88522|\n",
      "| Not Specified|          3|Express Air| 7/27/2011|   88523|\n",
      "| Not Specified|          3|Regular Air| 7/27/2011|   88523|\n",
      "| Not Specified|          3|Express Air| 7/27/2011|   88523|\n",
      "+--------------+-----------+-----------+----------+--------+\n",
      "only showing top 5 rows\n",
      "\n"
     ]
    }
   ],
   "source": [
    "orders_df.show(5)"
   ]
  },
  {
   "cell_type": "markdown",
   "id": "40e9f880-99d0-4436-8eba-904608623e8d",
   "metadata": {},
   "source": [
    "## tao bang tam"
   ]
  },
  {
   "cell_type": "code",
   "execution_count": 14,
   "id": "e3dd09eb-b466-49b3-b778-da824dbb77a8",
   "metadata": {},
   "outputs": [],
   "source": [
    "orders_df.createOrReplaceTempView(\"orders_tmp\")"
   ]
  },
  {
   "cell_type": "code",
   "execution_count": 18,
   "id": "2b3d5ea3-dcba-4e0b-93c0-73b0e029f973",
   "metadata": {},
   "outputs": [
    {
     "name": "stdout",
     "output_type": "stream",
     "text": [
      "+--------------+-----------+-----------+----------+--------+\n",
      "|Order_Priority|Customer_ID|  Ship_Mode|Order_Date|Order_ID|\n",
      "+--------------+-----------+-----------+----------+--------+\n",
      "| Not Specified|          2|Regular Air| 5/28/2012|   88525|\n",
      "|          High|          3|Express Air|  7/7/2010|   88522|\n",
      "| Not Specified|          3|Express Air| 7/27/2011|   88523|\n",
      "| Not Specified|          3|Regular Air| 7/27/2011|   88523|\n",
      "| Not Specified|          3|Express Air| 7/27/2011|   88523|\n",
      "+--------------+-----------+-----------+----------+--------+\n",
      "only showing top 5 rows\n",
      "\n"
     ]
    }
   ],
   "source": [
    "ss.sql(\"select * from orders_tmp\").show(5)"
   ]
  },
  {
   "cell_type": "markdown",
   "id": "f3b8dc71-6139-42fc-aee2-7d138b9c5136",
   "metadata": {},
   "source": [
    "## giai y 1: dem so luong order voi moi kieu ship mode"
   ]
  },
  {
   "cell_type": "markdown",
   "id": "92833e38-d5c3-48b1-8faa-bef3693b3d9e",
   "metadata": {},
   "source": [
    "### gom cac kieu ship mode bang dataframe"
   ]
  },
  {
   "cell_type": "code",
   "execution_count": 21,
   "id": "0c6a2823-4337-4069-a28b-1c998d7b6a6d",
   "metadata": {},
   "outputs": [
    {
     "name": "stdout",
     "output_type": "stream",
     "text": [
      "+--------------+-----+\n",
      "|     Ship_Mode|count|\n",
      "+--------------+-----+\n",
      "|Delivery Truck| 1283|\n",
      "|   Regular Air| 7036|\n",
      "|   Express Air| 1107|\n",
      "+--------------+-----+\n",
      "\n"
     ]
    }
   ],
   "source": [
    "orders_df.groupBy(\"Ship_Mode\").count().show()"
   ]
  },
  {
   "cell_type": "markdown",
   "id": "1787457f-83c9-4d9f-80d0-6bd5212881ce",
   "metadata": {},
   "source": [
    "### bang sql"
   ]
  },
  {
   "cell_type": "code",
   "execution_count": 22,
   "id": "7b9915f7-9fb1-42d2-84b4-883697f49afc",
   "metadata": {},
   "outputs": [
    {
     "name": "stdout",
     "output_type": "stream",
     "text": [
      "+--------------+--------+\n",
      "|     Ship_Mode|count(1)|\n",
      "+--------------+--------+\n",
      "|Delivery Truck|    1283|\n",
      "|   Regular Air|    7036|\n",
      "|   Express Air|    1107|\n",
      "+--------------+--------+\n",
      "\n"
     ]
    }
   ],
   "source": [
    "ss.sql(\"select Ship_Mode, count(*) from orders_tmp group by Ship_Mode\").show()"
   ]
  },
  {
   "cell_type": "markdown",
   "id": "77863c10-f24c-44bd-93c9-64b7937956eb",
   "metadata": {},
   "source": [
    "# giai y 2: top 10 khach orders nhieu nhat"
   ]
  },
  {
   "cell_type": "markdown",
   "id": "a48a34f2-8489-40ba-a329-8b74e87f4be2",
   "metadata": {},
   "source": [
    "## bang dataframe"
   ]
  },
  {
   "cell_type": "code",
   "execution_count": 31,
   "id": "6655cb5f-2e07-44b1-85c6-e2051725e532",
   "metadata": {},
   "outputs": [],
   "source": [
    "khach_orders_nhieu_nhat = orders_df.groupBy(\"Customer_ID\").count().sort(\"count\", ascending=False).limit(10)"
   ]
  },
  {
   "cell_type": "code",
   "execution_count": 32,
   "id": "0480e34c-59d6-46b2-8f90-4cebf6e4d97e",
   "metadata": {},
   "outputs": [
    {
     "name": "stdout",
     "output_type": "stream",
     "text": [
      "+-----------+-----+\n",
      "|Customer_ID|count|\n",
      "+-----------+-----+\n",
      "|       1193|   27|\n",
      "|        699|   26|\n",
      "|       2107|   22|\n",
      "|       2491|   22|\n",
      "|       2882|   21|\n",
      "|        308|   21|\n",
      "|       3079|   20|\n",
      "|        272|   19|\n",
      "|       1999|   19|\n",
      "|       1723|   18|\n",
      "+-----------+-----+\n",
      "\n"
     ]
    }
   ],
   "source": [
    "khach_orders_nhieu_nhat.show()"
   ]
  },
  {
   "cell_type": "markdown",
   "id": "133c1824-8a81-44fb-9f3a-c63b2cacc1e7",
   "metadata": {},
   "source": [
    "## bang sql"
   ]
  },
  {
   "cell_type": "code",
   "execution_count": 35,
   "id": "0092f90f-d3c7-43bd-adcd-86a627d0d237",
   "metadata": {},
   "outputs": [
    {
     "name": "stdout",
     "output_type": "stream",
     "text": [
      "+-----------+-----+\n",
      "|Customer_ID|count|\n",
      "+-----------+-----+\n",
      "|       1193|   27|\n",
      "|        699|   26|\n",
      "|       2107|   22|\n",
      "|       2491|   22|\n",
      "|       2882|   21|\n",
      "|        308|   21|\n",
      "|       3079|   20|\n",
      "|        272|   19|\n",
      "|       1999|   19|\n",
      "|       1723|   18|\n",
      "+-----------+-----+\n",
      "\n"
     ]
    }
   ],
   "source": [
    "a = ss.sql(\"select Customer_ID, count(*) as count from orders_tmp group by Customer_ID order by count desc limit 10\").show()"
   ]
  },
  {
   "cell_type": "code",
   "execution_count": 37,
   "id": "82459ccc-f52f-46f2-9970-796dc87c0b2e",
   "metadata": {},
   "outputs": [],
   "source": [
    "#print(a.type())"
   ]
  },
  {
   "cell_type": "markdown",
   "id": "0fe71348-d513-4f19-8d2f-9d44afba5e30",
   "metadata": {},
   "source": [
    "# y 3: tong so luong khach hang"
   ]
  },
  {
   "cell_type": "markdown",
   "id": "6cb343f9-4a08-48ad-b35c-2932752b0037",
   "metadata": {},
   "source": [
    "## dataframe"
   ]
  },
  {
   "cell_type": "code",
   "execution_count": 39,
   "id": "6b75384f-1593-4a4e-a0f6-bae15a8781a1",
   "metadata": {},
   "outputs": [],
   "source": [
    "tong_khach = orders_df.select(\"Customer_ID\").distinct().count()"
   ]
  },
  {
   "cell_type": "code",
   "execution_count": 41,
   "id": "a8230c05-36c8-46e0-a8f8-1b5625a64195",
   "metadata": {},
   "outputs": [
    {
     "name": "stdout",
     "output_type": "stream",
     "text": [
      "2703\n"
     ]
    }
   ],
   "source": [
    "print(tong_khach)"
   ]
  },
  {
   "cell_type": "markdown",
   "id": "10b1018a-1aeb-4d9a-9691-6461c361ee22",
   "metadata": {},
   "source": [
    "## sql"
   ]
  },
  {
   "cell_type": "code",
   "execution_count": 43,
   "id": "32f3defc-bd2d-4dd1-b975-963b07a3aaf3",
   "metadata": {},
   "outputs": [
    {
     "name": "stdout",
     "output_type": "stream",
     "text": [
      "+------------+\n",
      "|numbers_cust|\n",
      "+------------+\n",
      "|        2703|\n",
      "+------------+\n",
      "\n"
     ]
    }
   ],
   "source": [
    "ss.sql(\"select count(distinct Customer_ID) as numbers_cust from orders_tmp\").show()"
   ]
  },
  {
   "cell_type": "markdown",
   "id": "8b716e3f-586d-4083-a54e-e68ec710a735",
   "metadata": {},
   "source": [
    "# tim khach co priority high nhieu nhat"
   ]
  },
  {
   "cell_type": "markdown",
   "id": "54d9e929-76a7-447c-bff9-33f8ac7b7561",
   "metadata": {},
   "source": [
    "## dataframe"
   ]
  },
  {
   "cell_type": "code",
   "execution_count": 45,
   "id": "89ecae70-f1a4-41ce-96b6-806d6af1325c",
   "metadata": {},
   "outputs": [],
   "source": [
    "new_df = orders_df.where(\"Order_Priority = 'High'\")"
   ]
  },
  {
   "cell_type": "code",
   "execution_count": 46,
   "id": "e47370dd-5080-4d5a-a56e-a226f2b8d563",
   "metadata": {},
   "outputs": [
    {
     "name": "stdout",
     "output_type": "stream",
     "text": [
      "+--------------+-----------+-----------+----------+--------+\n",
      "|Order_Priority|Customer_ID|  Ship_Mode|Order_Date|Order_ID|\n",
      "+--------------+-----------+-----------+----------+--------+\n",
      "|          High|          3|Express Air|  7/7/2010|   88522|\n",
      "|          High|          6|Regular Air| 5/26/2011|   90194|\n",
      "|          High|          7|Regular Air|10/30/2012|   90198|\n",
      "|          High|         12|Regular Air| 2/24/2012|   90196|\n",
      "|          High|         16|Regular Air| 2/12/2010|   86836|\n",
      "+--------------+-----------+-----------+----------+--------+\n",
      "only showing top 5 rows\n",
      "\n"
     ]
    }
   ],
   "source": [
    "new_df.show(5)"
   ]
  },
  {
   "cell_type": "code",
   "execution_count": 50,
   "id": "3a64b740-2fd5-4dd5-a66d-2c7e7504eb6d",
   "metadata": {},
   "outputs": [],
   "source": [
    "final = new_df.groupBy(\"Customer_ID\").count().sort(\"count\", ascending=False).limit(1)"
   ]
  },
  {
   "cell_type": "code",
   "execution_count": 51,
   "id": "04943e31-1e67-4285-afaa-8b2e270f11e1",
   "metadata": {},
   "outputs": [
    {
     "name": "stdout",
     "output_type": "stream",
     "text": [
      "+-----------+-----+\n",
      "|Customer_ID|count|\n",
      "+-----------+-----+\n",
      "|       1193|    9|\n",
      "+-----------+-----+\n",
      "\n"
     ]
    }
   ],
   "source": [
    "final.show()"
   ]
  },
  {
   "cell_type": "markdown",
   "id": "e19935db-074a-4fbf-bca5-ae0541d029d3",
   "metadata": {},
   "source": [
    "## sql"
   ]
  },
  {
   "cell_type": "code",
   "execution_count": 55,
   "id": "593178b0-fc02-493a-89c3-d2e5dceaad43",
   "metadata": {},
   "outputs": [
    {
     "name": "stdout",
     "output_type": "stream",
     "text": [
      "+-----------+-----+\n",
      "|Customer_ID|count|\n",
      "+-----------+-----+\n",
      "|       1193|    9|\n",
      "+-----------+-----+\n",
      "\n"
     ]
    }
   ],
   "source": [
    "ss.sql(\"select Customer_ID, count(*) as count from orders_tmp where Order_Priority = 'High' group by Customer_ID order by count desc limit 1\").show()"
   ]
  },
  {
   "cell_type": "code",
   "execution_count": null,
   "id": "3769a3f5-19bf-47f1-a841-eb1878aec716",
   "metadata": {},
   "outputs": [],
   "source": []
  }
 ],
 "metadata": {
  "kernelspec": {
   "display_name": "Python 3 (ipykernel)",
   "language": "python",
   "name": "python3"
  },
  "language_info": {
   "codemirror_mode": {
    "name": "ipython",
    "version": 3
   },
   "file_extension": ".py",
   "mimetype": "text/x-python",
   "name": "python",
   "nbconvert_exporter": "python",
   "pygments_lexer": "ipython3",
   "version": "3.10.4"
  }
 },
 "nbformat": 4,
 "nbformat_minor": 5
}
